{
 "cells": [
  {
   "cell_type": "markdown",
   "metadata": {},
   "source": [
    "<div style=\"width: 100%; clear: both;\">\n",
    "<div style=\"float: left; width: 50%;\">\n",
    "<img src=\"http://www.uoc.edu/portal/_resources/common/imatges/marca_UOC/UOC_Masterbrand.jpg\", align=\"left\">\n",
    "</div>\n",
    "<div style=\"float: right; width: 50%;\">\n",
    "<p style=\"margin: 0; padding-top: 22px; text-align:right;\">M2.851 - Tipología y ciclo de vida de los datos aula 1 · Práctica 1</p>\n",
    "<p style=\"margin: 0; text-align:right;\">2018 · Máster universitario en Ciencia de datos (Data science)</p>\n",
    "<p style=\"margin: 0; text-align:right;\">Prof. Colaboradora: <b>Mireia Calvo Gonzalez</b></p>\n",
    "<p style=\"margin: 0; text-align:right; padding-button: 100px;\">Alumno: <b>Fernando Antonio Barbeiro Campos</b> - <a href=\"\">fbarbeiro@uoc.edu</a></p>\n",
    "</div>\n",
    "</div>\n",
    "<div style=\"width:100%;\">&nbsp;</div>\n",
    "<center><h1>Práctica 2 - Limpieza y validación de los datos</h1></center>\n"
   ]
  },
  {
   "cell_type": "markdown",
   "metadata": {},
   "source": [
    "# Contenidos\n",
    "\n",
    "1. [Dataset](#data1)\n",
    "\n",
    "2. [Integración y selección de los datos de interés a analizar.](#data2)\n",
    "\n",
    "3. [Limpieza de los datos.](#data3)\n",
    "    \n",
    "    3.1. [¿Los datos contienen ceros o elementos vacíos? ¿Cómo gestionarías cada uno de estos casos?](#data31)\n",
    "    \n",
    "    3.2. [Identificación y tratamiento de valores extremos.](#data32)\n",
    "    \n",
    "    \n",
    "4. [Análisis de los datos.](#data4)\n",
    "\n",
    "    4.1. [Selección de los grupos de datos que se quieren analizar/comparar (planificación de los análisis a aplicar).](#data41)\n",
    "    \n",
    "    4.2. [Comprobación de la normalidad y homogeneidad de la varianza.](#data42)\n",
    "    \n",
    "    4.3. [Aplicación de pruebas estadísticas para comparar los grupos de datos. En función de los datos y el objetivo del estudio, aplicar pruebas de contraste de hipótesis, correlaciones, regresiones, etc.](#data43)\n",
    "    \n",
    "    \n",
    "5. [Representación de los resultados a partir de tablas y gráficas.](#data5)\n",
    "\n",
    "6. [Resolución del problema. A partir de los resultados obtenidos, ¿cuáles son las conclusiones? ¿Los resultados permiten responder al problema?](#data6)\n",
    "\n",
    "7. [Código](#data7)\n",
    "\n",
    "8. [Referencias](#refer)"
   ]
  },
  {
   "cell_type": "markdown",
   "metadata": {},
   "source": [
    "## 1. Dataset <a name=\"data1\"></a>\n",
    "*Descripción del dataset. ¿Por qué es importante y qué pregunta/problema pretende responder?*"
   ]
  },
  {
   "cell_type": "markdown",
   "metadata": {},
   "source": [
    "He elegido el dataset [\"**Titanic: Machine Learning from Disaster**\" de Kagle](https://www.kaggle.com/c/titanic/overview). \n",
    "<img src=\"titanic.jpg\" alt=\"Titanic\" style=\"width: 700px;\"/>\n",
    "<center>Figura 1: Titanic</center>\n",
    "<p></p>\n",
    "La información presente en el dataset són datos sobre cada pasajero del famoso naufragio, si la persona sobrevivió o no, su sexo, tipo de cabina que estaba, entre otros.\n",
    "\n",
    "Aunque hubo algún elemento de suerte involucrado en sobrevivir al hundimiento, algunos grupos de personas tenían más probabilidades de sobrevivir que otros, como las mujeres, los niños y la clase alta.\n",
    "\n",
    "Justamente, el problema que buscamos a contestar es precisamente esto: hacer el análisis de **¿qué tipos de personas podrían sobrevivir?**\n"
   ]
  },
  {
   "cell_type": "markdown",
   "metadata": {},
   "source": [
    "Aún hablando un poco sobre el dataset, vamos a mirar un poco más de información sobre el mismo:"
   ]
  },
  {
   "cell_type": "code",
   "execution_count": 1,
   "metadata": {
    "scrolled": true
   },
   "outputs": [
    {
     "name": "stdout",
     "output_type": "stream",
     "text": [
      "[1] \"File has an English format\"\n"
     ]
    }
   ],
   "source": [
    "# Objetivo: Asegurar que estamos trabajando con el formato en ingles separado por comas\n",
    "L <- readLines(\"train.csv\", n = 1)\n",
    "if (grepl(\",\", L)) print(\"File has an English format\")"
   ]
  },
  {
   "cell_type": "code",
   "execution_count": 2,
   "metadata": {},
   "outputs": [
    {
     "data": {
      "text/html": [
       "<table>\n",
       "<thead><tr><th scope=col>PassengerId</th><th scope=col>Survived</th><th scope=col>Pclass</th><th scope=col>Name</th><th scope=col>Sex</th><th scope=col>Age</th><th scope=col>SibSp</th><th scope=col>Parch</th><th scope=col>Ticket</th><th scope=col>Fare</th><th scope=col>Cabin</th><th scope=col>Embarked</th></tr></thead>\n",
       "<tbody>\n",
       "\t<tr><td>1                                                  </td><td>0                                                  </td><td>3                                                  </td><td>Braund, Mr. Owen Harris                            </td><td>male                                               </td><td>22                                                 </td><td>1                                                  </td><td>0                                                  </td><td>A/5 21171                                          </td><td> 7.2500                                            </td><td>                                                   </td><td>S                                                  </td></tr>\n",
       "\t<tr><td>2                                                  </td><td>1                                                  </td><td>1                                                  </td><td>Cumings, Mrs. John Bradley (Florence Briggs Thayer)</td><td>female                                             </td><td>38                                                 </td><td>1                                                  </td><td>0                                                  </td><td>PC 17599                                           </td><td>71.2833                                            </td><td>C85                                                </td><td>C                                                  </td></tr>\n",
       "\t<tr><td>3                                                  </td><td>1                                                  </td><td>3                                                  </td><td>Heikkinen, Miss. Laina                             </td><td>female                                             </td><td>26                                                 </td><td>0                                                  </td><td>0                                                  </td><td>STON/O2. 3101282                                   </td><td> 7.9250                                            </td><td>                                                   </td><td>S                                                  </td></tr>\n",
       "\t<tr><td>4                                                  </td><td>1                                                  </td><td>1                                                  </td><td>Futrelle, Mrs. Jacques Heath (Lily May Peel)       </td><td>female                                             </td><td>35                                                 </td><td>1                                                  </td><td>0                                                  </td><td>113803                                             </td><td>53.1000                                            </td><td>C123                                               </td><td>S                                                  </td></tr>\n",
       "\t<tr><td>5                                                  </td><td>0                                                  </td><td>3                                                  </td><td>Allen, Mr. William Henry                           </td><td>male                                               </td><td>35                                                 </td><td>0                                                  </td><td>0                                                  </td><td>373450                                             </td><td> 8.0500                                            </td><td>                                                   </td><td>S                                                  </td></tr>\n",
       "\t<tr><td>6                                                  </td><td>0                                                  </td><td>3                                                  </td><td>Moran, Mr. James                                   </td><td>male                                               </td><td>NA                                                 </td><td>0                                                  </td><td>0                                                  </td><td>330877                                             </td><td> 8.4583                                            </td><td>                                                   </td><td>Q                                                  </td></tr>\n",
       "</tbody>\n",
       "</table>\n"
      ],
      "text/latex": [
       "\\begin{tabular}{r|llllllllllll}\n",
       " PassengerId & Survived & Pclass & Name & Sex & Age & SibSp & Parch & Ticket & Fare & Cabin & Embarked\\\\\n",
       "\\hline\n",
       "\t 1                                                   & 0                                                   & 3                                                   & Braund, Mr. Owen Harris                             & male                                                & 22                                                  & 1                                                   & 0                                                   & A/5 21171                                           &  7.2500                                             &                                                     & S                                                  \\\\\n",
       "\t 2                                                   & 1                                                   & 1                                                   & Cumings, Mrs. John Bradley (Florence Briggs Thayer) & female                                              & 38                                                  & 1                                                   & 0                                                   & PC 17599                                            & 71.2833                                             & C85                                                 & C                                                  \\\\\n",
       "\t 3                                                   & 1                                                   & 3                                                   & Heikkinen, Miss. Laina                              & female                                              & 26                                                  & 0                                                   & 0                                                   & STON/O2. 3101282                                    &  7.9250                                             &                                                     & S                                                  \\\\\n",
       "\t 4                                                   & 1                                                   & 1                                                   & Futrelle, Mrs. Jacques Heath (Lily May Peel)        & female                                              & 35                                                  & 1                                                   & 0                                                   & 113803                                              & 53.1000                                             & C123                                                & S                                                  \\\\\n",
       "\t 5                                                   & 0                                                   & 3                                                   & Allen, Mr. William Henry                            & male                                                & 35                                                  & 0                                                   & 0                                                   & 373450                                              &  8.0500                                             &                                                     & S                                                  \\\\\n",
       "\t 6                                                   & 0                                                   & 3                                                   & Moran, Mr. James                                    & male                                                & NA                                                  & 0                                                   & 0                                                   & 330877                                              &  8.4583                                             &                                                     & Q                                                  \\\\\n",
       "\\end{tabular}\n"
      ],
      "text/markdown": [
       "\n",
       "PassengerId | Survived | Pclass | Name | Sex | Age | SibSp | Parch | Ticket | Fare | Cabin | Embarked | \n",
       "|---|---|---|---|---|---|\n",
       "| 1                                                   | 0                                                   | 3                                                   | Braund, Mr. Owen Harris                             | male                                                | 22                                                  | 1                                                   | 0                                                   | A/5 21171                                           |  7.2500                                             |                                                     | S                                                   | \n",
       "| 2                                                   | 1                                                   | 1                                                   | Cumings, Mrs. John Bradley (Florence Briggs Thayer) | female                                              | 38                                                  | 1                                                   | 0                                                   | PC 17599                                            | 71.2833                                             | C85                                                 | C                                                   | \n",
       "| 3                                                   | 1                                                   | 3                                                   | Heikkinen, Miss. Laina                              | female                                              | 26                                                  | 0                                                   | 0                                                   | STON/O2. 3101282                                    |  7.9250                                             |                                                     | S                                                   | \n",
       "| 4                                                   | 1                                                   | 1                                                   | Futrelle, Mrs. Jacques Heath (Lily May Peel)        | female                                              | 35                                                  | 1                                                   | 0                                                   | 113803                                              | 53.1000                                             | C123                                                | S                                                   | \n",
       "| 5                                                   | 0                                                   | 3                                                   | Allen, Mr. William Henry                            | male                                                | 35                                                  | 0                                                   | 0                                                   | 373450                                              |  8.0500                                             |                                                     | S                                                   | \n",
       "| 6                                                   | 0                                                   | 3                                                   | Moran, Mr. James                                    | male                                                | NA                                                  | 0                                                   | 0                                                   | 330877                                              |  8.4583                                             |                                                     | Q                                                   | \n",
       "\n",
       "\n"
      ],
      "text/plain": [
       "  PassengerId Survived Pclass\n",
       "1 1           0        3     \n",
       "2 2           1        1     \n",
       "3 3           1        3     \n",
       "4 4           1        1     \n",
       "5 5           0        3     \n",
       "6 6           0        3     \n",
       "  Name                                                Sex    Age SibSp Parch\n",
       "1 Braund, Mr. Owen Harris                             male   22  1     0    \n",
       "2 Cumings, Mrs. John Bradley (Florence Briggs Thayer) female 38  1     0    \n",
       "3 Heikkinen, Miss. Laina                              female 26  0     0    \n",
       "4 Futrelle, Mrs. Jacques Heath (Lily May Peel)        female 35  1     0    \n",
       "5 Allen, Mr. William Henry                            male   35  0     0    \n",
       "6 Moran, Mr. James                                    male   NA  0     0    \n",
       "  Ticket           Fare    Cabin Embarked\n",
       "1 A/5 21171         7.2500       S       \n",
       "2 PC 17599         71.2833 C85   C       \n",
       "3 STON/O2. 3101282  7.9250       S       \n",
       "4 113803           53.1000 C123  S       \n",
       "5 373450            8.0500       S       \n",
       "6 330877            8.4583       Q       "
      ]
     },
     "metadata": {},
     "output_type": "display_data"
    },
    {
     "name": "stdout",
     "output_type": "stream",
     "text": [
      "[1] \"We are evaluating 891 rows of code\"\n",
      "[1] \"Column's names: \"\n"
     ]
    },
    {
     "data": {
      "text/html": [
       "<ol class=list-inline>\n",
       "\t<li>'PassengerId'</li>\n",
       "\t<li>'Survived'</li>\n",
       "\t<li>'Pclass'</li>\n",
       "\t<li>'Name'</li>\n",
       "\t<li>'Sex'</li>\n",
       "\t<li>'Age'</li>\n",
       "\t<li>'SibSp'</li>\n",
       "\t<li>'Parch'</li>\n",
       "\t<li>'Ticket'</li>\n",
       "\t<li>'Fare'</li>\n",
       "\t<li>'Cabin'</li>\n",
       "\t<li>'Embarked'</li>\n",
       "</ol>\n"
      ],
      "text/latex": [
       "\\begin{enumerate*}\n",
       "\\item 'PassengerId'\n",
       "\\item 'Survived'\n",
       "\\item 'Pclass'\n",
       "\\item 'Name'\n",
       "\\item 'Sex'\n",
       "\\item 'Age'\n",
       "\\item 'SibSp'\n",
       "\\item 'Parch'\n",
       "\\item 'Ticket'\n",
       "\\item 'Fare'\n",
       "\\item 'Cabin'\n",
       "\\item 'Embarked'\n",
       "\\end{enumerate*}\n"
      ],
      "text/markdown": [
       "1. 'PassengerId'\n",
       "2. 'Survived'\n",
       "3. 'Pclass'\n",
       "4. 'Name'\n",
       "5. 'Sex'\n",
       "6. 'Age'\n",
       "7. 'SibSp'\n",
       "8. 'Parch'\n",
       "9. 'Ticket'\n",
       "10. 'Fare'\n",
       "11. 'Cabin'\n",
       "12. 'Embarked'\n",
       "\n",
       "\n"
      ],
      "text/plain": [
       " [1] \"PassengerId\" \"Survived\"    \"Pclass\"      \"Name\"        \"Sex\"        \n",
       " [6] \"Age\"         \"SibSp\"       \"Parch\"       \"Ticket\"      \"Fare\"       \n",
       "[11] \"Cabin\"       \"Embarked\"   "
      ]
     },
     "metadata": {},
     "output_type": "display_data"
    },
    {
     "data": {
      "text/html": [
       "<dl class=dl-horizontal>\n",
       "\t<dt>PassengerId</dt>\n",
       "\t\t<dd>'integer'</dd>\n",
       "\t<dt>Survived</dt>\n",
       "\t\t<dd>'integer'</dd>\n",
       "\t<dt>Pclass</dt>\n",
       "\t\t<dd>'integer'</dd>\n",
       "\t<dt>Name</dt>\n",
       "\t\t<dd>'factor'</dd>\n",
       "\t<dt>Sex</dt>\n",
       "\t\t<dd>'factor'</dd>\n",
       "\t<dt>Age</dt>\n",
       "\t\t<dd>'numeric'</dd>\n",
       "\t<dt>SibSp</dt>\n",
       "\t\t<dd>'integer'</dd>\n",
       "\t<dt>Parch</dt>\n",
       "\t\t<dd>'integer'</dd>\n",
       "\t<dt>Ticket</dt>\n",
       "\t\t<dd>'factor'</dd>\n",
       "\t<dt>Fare</dt>\n",
       "\t\t<dd>'numeric'</dd>\n",
       "\t<dt>Cabin</dt>\n",
       "\t\t<dd>'factor'</dd>\n",
       "\t<dt>Embarked</dt>\n",
       "\t\t<dd>'factor'</dd>\n",
       "</dl>\n"
      ],
      "text/latex": [
       "\\begin{description*}\n",
       "\\item[PassengerId] 'integer'\n",
       "\\item[Survived] 'integer'\n",
       "\\item[Pclass] 'integer'\n",
       "\\item[Name] 'factor'\n",
       "\\item[Sex] 'factor'\n",
       "\\item[Age] 'numeric'\n",
       "\\item[SibSp] 'integer'\n",
       "\\item[Parch] 'integer'\n",
       "\\item[Ticket] 'factor'\n",
       "\\item[Fare] 'numeric'\n",
       "\\item[Cabin] 'factor'\n",
       "\\item[Embarked] 'factor'\n",
       "\\end{description*}\n"
      ],
      "text/markdown": [
       "PassengerId\n",
       ":   'integer'Survived\n",
       ":   'integer'Pclass\n",
       ":   'integer'Name\n",
       ":   'factor'Sex\n",
       ":   'factor'Age\n",
       ":   'numeric'SibSp\n",
       ":   'integer'Parch\n",
       ":   'integer'Ticket\n",
       ":   'factor'Fare\n",
       ":   'numeric'Cabin\n",
       ":   'factor'Embarked\n",
       ":   'factor'\n",
       "\n"
      ],
      "text/plain": [
       "PassengerId    Survived      Pclass        Name         Sex         Age \n",
       "  \"integer\"   \"integer\"   \"integer\"    \"factor\"    \"factor\"   \"numeric\" \n",
       "      SibSp       Parch      Ticket        Fare       Cabin    Embarked \n",
       "  \"integer\"   \"integer\"    \"factor\"   \"numeric\"    \"factor\"    \"factor\" "
      ]
     },
     "metadata": {},
     "output_type": "display_data"
    },
    {
     "name": "stdout",
     "output_type": "stream",
     "text": [
      "'data.frame':\t891 obs. of  12 variables:\n",
      " $ PassengerId: int  1 2 3 4 5 6 7 8 9 10 ...\n",
      " $ Survived   : int  0 1 1 1 0 0 0 0 1 1 ...\n",
      " $ Pclass     : int  3 1 3 1 3 3 1 3 3 2 ...\n",
      " $ Name       : Factor w/ 891 levels \"Abbing, Mr. Anthony\",..: 109 191 358 277 16 559 520 629 417 581 ...\n",
      " $ Sex        : Factor w/ 2 levels \"female\",\"male\": 2 1 1 1 2 2 2 2 1 1 ...\n",
      " $ Age        : num  22 38 26 35 35 NA 54 2 27 14 ...\n",
      " $ SibSp      : int  1 1 0 1 0 0 0 3 0 1 ...\n",
      " $ Parch      : int  0 0 0 0 0 0 0 1 2 0 ...\n",
      " $ Ticket     : Factor w/ 681 levels \"110152\",\"110413\",..: 524 597 670 50 473 276 86 396 345 133 ...\n",
      " $ Fare       : num  7.25 71.28 7.92 53.1 8.05 ...\n",
      " $ Cabin      : Factor w/ 148 levels \"\",\"A10\",\"A14\",..: 1 83 1 57 1 1 131 1 1 1 ...\n",
      " $ Embarked   : Factor w/ 4 levels \"\",\"C\",\"Q\",\"S\": 4 2 4 4 4 3 4 4 4 2 ...\n"
     ]
    },
    {
     "data": {
      "text/plain": [
       "  PassengerId       Survived          Pclass     \n",
       " Min.   :  1.0   Min.   :0.0000   Min.   :1.000  \n",
       " 1st Qu.:223.5   1st Qu.:0.0000   1st Qu.:2.000  \n",
       " Median :446.0   Median :0.0000   Median :3.000  \n",
       " Mean   :446.0   Mean   :0.3838   Mean   :2.309  \n",
       " 3rd Qu.:668.5   3rd Qu.:1.0000   3rd Qu.:3.000  \n",
       " Max.   :891.0   Max.   :1.0000   Max.   :3.000  \n",
       "                                                 \n",
       "                                    Name         Sex           Age       \n",
       " Abbing, Mr. Anthony                  :  1   female:314   Min.   : 0.42  \n",
       " Abbott, Mr. Rossmore Edward          :  1   male  :577   1st Qu.:20.12  \n",
       " Abbott, Mrs. Stanton (Rosa Hunt)     :  1                Median :28.00  \n",
       " Abelson, Mr. Samuel                  :  1                Mean   :29.70  \n",
       " Abelson, Mrs. Samuel (Hannah Wizosky):  1                3rd Qu.:38.00  \n",
       " Adahl, Mr. Mauritz Nils Martin       :  1                Max.   :80.00  \n",
       " (Other)                              :885                NA's   :177    \n",
       "     SibSp           Parch             Ticket         Fare       \n",
       " Min.   :0.000   Min.   :0.0000   1601    :  7   Min.   :  0.00  \n",
       " 1st Qu.:0.000   1st Qu.:0.0000   347082  :  7   1st Qu.:  7.91  \n",
       " Median :0.000   Median :0.0000   CA. 2343:  7   Median : 14.45  \n",
       " Mean   :0.523   Mean   :0.3816   3101295 :  6   Mean   : 32.20  \n",
       " 3rd Qu.:1.000   3rd Qu.:0.0000   347088  :  6   3rd Qu.: 31.00  \n",
       " Max.   :8.000   Max.   :6.0000   CA 2144 :  6   Max.   :512.33  \n",
       "                                  (Other) :852                   \n",
       "         Cabin     Embarked\n",
       "            :687    :  2   \n",
       " B96 B98    :  4   C:168   \n",
       " C23 C25 C27:  4   Q: 77   \n",
       " G6         :  4   S:644   \n",
       " C22 C26    :  3           \n",
       " D          :  3           \n",
       " (Other)    :186           "
      ]
     },
     "metadata": {},
     "output_type": "display_data"
    }
   ],
   "source": [
    "# Como estamos trabajando con ficheros separados por commas, vamos a mirar un poco de datos\n",
    "df <- read.csv(\"train.csv\")\n",
    "head(df)\n",
    "\n",
    "# Mirando los nombres de columnas del dataframe y los tipos de variables y informacion adicional\n",
    "print(paste(\"We are evaluating\", nrow(df), \"rows of code\"))\n",
    "print(\"Column's names: \")\n",
    "colnames(df)\n",
    "sapply(df,class)\n",
    "str(df)\n",
    "summary(df)"
   ]
  },
  {
   "cell_type": "markdown",
   "metadata": {},
   "source": [
    "## 2. Integración y selección de los datos de interés a analizar<a name=\"data2\"></a>"
   ]
  },
  {
   "cell_type": "markdown",
   "metadata": {},
   "source": [
    "\n",
    "Dando un poco más de contexto en la selección de variables: debemos escoger un grupo de variables originales (también llamadas características o atributos desde el mundo del machine learning) que contenga la mayor parte de la información relevante para resolver el problema a tratar. Existen muchas metodologías y es un campo de investigación muy importante [1] *(Stanczyk y Jain, 2014)*.\n",
    "\n",
    "Dado el contexto, queda claro que podemos aquí reducir un poco la dimensionalidad en el ámbito de atributos (columnas) porque hay variables en las cuales detectamos que no aportan mucho para el tipo de conocimiento que necesitamos recolectar. Por ejemplo:\n",
    " - el número del **Ticket** de cada persona es bastante irrelevante para extraer un modelo y predecir si la persona ha sobrevivido o no\n",
    " - **Embarked** - el puerto donde ha embarcado una persona en el navio tampoco\n",
    " - **Cabin** - hay inumeros registros en la columna que no estan rellenados\n",
    " \n",
    "Ahora que tenemos un poco más de información sobre el dataset, con el intuito de obtener un modelo significativo, he elegido los siguientes atributos para el análisis:\n",
    "- *Survived*\n",
    "- *Pclass*\n",
    "- *Name*\n",
    "- *Sex*\n",
    "- *Age*\n",
    "- *Fare*\n",
    "\n",
    "Queda claro que el atributo **Name** tampoco es relevante, pero mantuve por si acaso necesito explicar o hacer alguna comparación de pasajeros (será más sencillo identificar las personas por sus nombres). \n",
    "\n",
    "\n",
    "Definidos los atributos, antes de seguir para el próximo ejercicio, hago la selección de los datos que vamos a trabajar abajo."
   ]
  },
  {
   "cell_type": "code",
   "execution_count": 3,
   "metadata": {},
   "outputs": [
    {
     "data": {
      "text/html": [
       "<table>\n",
       "<thead><tr><th scope=col>Survived</th><th scope=col>Pclass</th><th scope=col>Name</th><th scope=col>Sex</th><th scope=col>Age</th><th scope=col>Fare</th></tr></thead>\n",
       "<tbody>\n",
       "\t<tr><td>0                                                  </td><td>3                                                  </td><td>Braund, Mr. Owen Harris                            </td><td>male                                               </td><td>22                                                 </td><td> 7.2500                                            </td></tr>\n",
       "\t<tr><td>1                                                  </td><td>1                                                  </td><td>Cumings, Mrs. John Bradley (Florence Briggs Thayer)</td><td>female                                             </td><td>38                                                 </td><td>71.2833                                            </td></tr>\n",
       "\t<tr><td>1                                                  </td><td>3                                                  </td><td>Heikkinen, Miss. Laina                             </td><td>female                                             </td><td>26                                                 </td><td> 7.9250                                            </td></tr>\n",
       "\t<tr><td>1                                                  </td><td>1                                                  </td><td>Futrelle, Mrs. Jacques Heath (Lily May Peel)       </td><td>female                                             </td><td>35                                                 </td><td>53.1000                                            </td></tr>\n",
       "\t<tr><td>0                                                  </td><td>3                                                  </td><td>Allen, Mr. William Henry                           </td><td>male                                               </td><td>35                                                 </td><td> 8.0500                                            </td></tr>\n",
       "\t<tr><td>0                                                  </td><td>3                                                  </td><td>Moran, Mr. James                                   </td><td>male                                               </td><td>NA                                                 </td><td> 8.4583                                            </td></tr>\n",
       "</tbody>\n",
       "</table>\n"
      ],
      "text/latex": [
       "\\begin{tabular}{r|llllll}\n",
       " Survived & Pclass & Name & Sex & Age & Fare\\\\\n",
       "\\hline\n",
       "\t 0                                                   & 3                                                   & Braund, Mr. Owen Harris                             & male                                                & 22                                                  &  7.2500                                            \\\\\n",
       "\t 1                                                   & 1                                                   & Cumings, Mrs. John Bradley (Florence Briggs Thayer) & female                                              & 38                                                  & 71.2833                                            \\\\\n",
       "\t 1                                                   & 3                                                   & Heikkinen, Miss. Laina                              & female                                              & 26                                                  &  7.9250                                            \\\\\n",
       "\t 1                                                   & 1                                                   & Futrelle, Mrs. Jacques Heath (Lily May Peel)        & female                                              & 35                                                  & 53.1000                                            \\\\\n",
       "\t 0                                                   & 3                                                   & Allen, Mr. William Henry                            & male                                                & 35                                                  &  8.0500                                            \\\\\n",
       "\t 0                                                   & 3                                                   & Moran, Mr. James                                    & male                                                & NA                                                  &  8.4583                                            \\\\\n",
       "\\end{tabular}\n"
      ],
      "text/markdown": [
       "\n",
       "Survived | Pclass | Name | Sex | Age | Fare | \n",
       "|---|---|---|---|---|---|\n",
       "| 0                                                   | 3                                                   | Braund, Mr. Owen Harris                             | male                                                | 22                                                  |  7.2500                                             | \n",
       "| 1                                                   | 1                                                   | Cumings, Mrs. John Bradley (Florence Briggs Thayer) | female                                              | 38                                                  | 71.2833                                             | \n",
       "| 1                                                   | 3                                                   | Heikkinen, Miss. Laina                              | female                                              | 26                                                  |  7.9250                                             | \n",
       "| 1                                                   | 1                                                   | Futrelle, Mrs. Jacques Heath (Lily May Peel)        | female                                              | 35                                                  | 53.1000                                             | \n",
       "| 0                                                   | 3                                                   | Allen, Mr. William Henry                            | male                                                | 35                                                  |  8.0500                                             | \n",
       "| 0                                                   | 3                                                   | Moran, Mr. James                                    | male                                                | NA                                                  |  8.4583                                             | \n",
       "\n",
       "\n"
      ],
      "text/plain": [
       "  Survived Pclass Name                                                Sex   \n",
       "1 0        3      Braund, Mr. Owen Harris                             male  \n",
       "2 1        1      Cumings, Mrs. John Bradley (Florence Briggs Thayer) female\n",
       "3 1        3      Heikkinen, Miss. Laina                              female\n",
       "4 1        1      Futrelle, Mrs. Jacques Heath (Lily May Peel)        female\n",
       "5 0        3      Allen, Mr. William Henry                            male  \n",
       "6 0        3      Moran, Mr. James                                    male  \n",
       "  Age Fare   \n",
       "1 22   7.2500\n",
       "2 38  71.2833\n",
       "3 26   7.9250\n",
       "4 35  53.1000\n",
       "5 35   8.0500\n",
       "6 NA   8.4583"
      ]
     },
     "metadata": {},
     "output_type": "display_data"
    }
   ],
   "source": [
    "keeps <- c(\"Survived\", \"Pclass\", \"Name\", \"Sex\", \"Age\", \"Fare\")\n",
    "df <- df[keeps] \n",
    "head(df)"
   ]
  },
  {
   "cell_type": "markdown",
   "metadata": {},
   "source": [
    "## 3. Limpieza de los datos<a name=\"data3\"></a>"
   ]
  },
  {
   "cell_type": "markdown",
   "metadata": {},
   "source": [
    "### 3.1. ¿Los datos contienen ceros o elementos vacíos? ¿Cómo gestionarías cada uno de estos casos?<a name=\"data31\"></a>"
   ]
  },
  {
   "cell_type": "code",
   "execution_count": 4,
   "metadata": {
    "scrolled": true
   },
   "outputs": [
    {
     "name": "stdout",
     "output_type": "stream",
     "text": [
      "[1] \"Columnas con NAs:\"\n"
     ]
    },
    {
     "data": {
      "text/html": [
       "<dl class=dl-horizontal>\n",
       "\t<dt>Survived</dt>\n",
       "\t\t<dd>FALSE</dd>\n",
       "\t<dt>Pclass</dt>\n",
       "\t\t<dd>FALSE</dd>\n",
       "\t<dt>Name</dt>\n",
       "\t\t<dd>FALSE</dd>\n",
       "\t<dt>Sex</dt>\n",
       "\t\t<dd>FALSE</dd>\n",
       "\t<dt>Age</dt>\n",
       "\t\t<dd>TRUE</dd>\n",
       "\t<dt>Fare</dt>\n",
       "\t\t<dd>FALSE</dd>\n",
       "</dl>\n"
      ],
      "text/latex": [
       "\\begin{description*}\n",
       "\\item[Survived] FALSE\n",
       "\\item[Pclass] FALSE\n",
       "\\item[Name] FALSE\n",
       "\\item[Sex] FALSE\n",
       "\\item[Age] TRUE\n",
       "\\item[Fare] FALSE\n",
       "\\end{description*}\n"
      ],
      "text/markdown": [
       "Survived\n",
       ":   FALSEPclass\n",
       ":   FALSEName\n",
       ":   FALSESex\n",
       ":   FALSEAge\n",
       ":   TRUEFare\n",
       ":   FALSE\n",
       "\n"
      ],
      "text/plain": [
       "Survived   Pclass     Name      Sex      Age     Fare \n",
       "   FALSE    FALSE    FALSE    FALSE     TRUE    FALSE "
      ]
     },
     "metadata": {},
     "output_type": "display_data"
    },
    {
     "name": "stdout",
     "output_type": "stream",
     "text": [
      "[1] \"Cantidad de columnas con NAs:\"\n"
     ]
    },
    {
     "data": {
      "text/html": [
       "<dl class=dl-horizontal>\n",
       "\t<dt>Survived</dt>\n",
       "\t\t<dd>0</dd>\n",
       "\t<dt>Pclass</dt>\n",
       "\t\t<dd>0</dd>\n",
       "\t<dt>Name</dt>\n",
       "\t\t<dd>0</dd>\n",
       "\t<dt>Sex</dt>\n",
       "\t\t<dd>0</dd>\n",
       "\t<dt>Age</dt>\n",
       "\t\t<dd>177</dd>\n",
       "\t<dt>Fare</dt>\n",
       "\t\t<dd>0</dd>\n",
       "</dl>\n"
      ],
      "text/latex": [
       "\\begin{description*}\n",
       "\\item[Survived] 0\n",
       "\\item[Pclass] 0\n",
       "\\item[Name] 0\n",
       "\\item[Sex] 0\n",
       "\\item[Age] 177\n",
       "\\item[Fare] 0\n",
       "\\end{description*}\n"
      ],
      "text/markdown": [
       "Survived\n",
       ":   0Pclass\n",
       ":   0Name\n",
       ":   0Sex\n",
       ":   0Age\n",
       ":   177Fare\n",
       ":   0\n",
       "\n"
      ],
      "text/plain": [
       "Survived   Pclass     Name      Sex      Age     Fare \n",
       "       0        0        0        0      177        0 "
      ]
     },
     "metadata": {},
     "output_type": "display_data"
    },
    {
     "data": {
      "text/html": [
       "714"
      ],
      "text/latex": [
       "714"
      ],
      "text/markdown": [
       "714"
      ],
      "text/plain": [
       "[1] 714"
      ]
     },
     "metadata": {},
     "output_type": "display_data"
    },
    {
     "name": "stdout",
     "output_type": "stream",
     "text": [
      "[1] \"Aplicando un promedio para los atributos vacios, ahora no hay más NAs:\"\n"
     ]
    },
    {
     "data": {
      "text/html": [
       "<dl class=dl-horizontal>\n",
       "\t<dt>Survived</dt>\n",
       "\t\t<dd>FALSE</dd>\n",
       "\t<dt>Pclass</dt>\n",
       "\t\t<dd>FALSE</dd>\n",
       "\t<dt>Name</dt>\n",
       "\t\t<dd>FALSE</dd>\n",
       "\t<dt>Sex</dt>\n",
       "\t\t<dd>FALSE</dd>\n",
       "\t<dt>Age</dt>\n",
       "\t\t<dd>FALSE</dd>\n",
       "\t<dt>Fare</dt>\n",
       "\t\t<dd>FALSE</dd>\n",
       "</dl>\n"
      ],
      "text/latex": [
       "\\begin{description*}\n",
       "\\item[Survived] FALSE\n",
       "\\item[Pclass] FALSE\n",
       "\\item[Name] FALSE\n",
       "\\item[Sex] FALSE\n",
       "\\item[Age] FALSE\n",
       "\\item[Fare] FALSE\n",
       "\\end{description*}\n"
      ],
      "text/markdown": [
       "Survived\n",
       ":   FALSEPclass\n",
       ":   FALSEName\n",
       ":   FALSESex\n",
       ":   FALSEAge\n",
       ":   FALSEFare\n",
       ":   FALSE\n",
       "\n"
      ],
      "text/plain": [
       "Survived   Pclass     Name      Sex      Age     Fare \n",
       "   FALSE    FALSE    FALSE    FALSE    FALSE    FALSE "
      ]
     },
     "metadata": {},
     "output_type": "display_data"
    },
    {
     "data": {
      "text/html": [
       "891"
      ],
      "text/latex": [
       "891"
      ],
      "text/markdown": [
       "891"
      ],
      "text/plain": [
       "[1] 891"
      ]
     },
     "metadata": {},
     "output_type": "display_data"
    }
   ],
   "source": [
    "# Como resultado del comando abajo, podemos ver que solamente Age tiene elementos NA\n",
    "print(\"Columnas con NAs:\")\n",
    "unlist(lapply(df, function(x) any(is.na(x))))\n",
    "\n",
    "print(\"Cantidad de columnas con NAs:\")\n",
    "sapply(df, function(x) sum(is.na(x)))\n",
    "\n",
    "# Abajo comentaré las aproximaciones posibles para el escenario y la adoptada              \n",
    "df_no_NA <- df[rowSums(is.na(df)) == 0,]\n",
    "nrow(df_no_NA)\n",
    "options(warn=-1)             \n",
    "for(i in 1:ncol(df)){\n",
    "  # Aquí estamos calculando un promedio basado en la información de las otras filas para los casos donde hay elemento vacío\n",
    "  df[is.na(df[,i]), i] <- mean(df[,i], na.rm = TRUE)\n",
    "}\n",
    "options(warn=0)  \n",
    "       \n",
    "print(\"Aplicando un promedio para los atributos vacios, ahora no hay más NAs:\")\n",
    "unlist(lapply(df, function(x) any(is.na(x))))\n",
    "nrow(df)"
   ]
  },
  {
   "cell_type": "markdown",
   "metadata": {},
   "source": [
    "Como podemos notar, solamente la columna **Age** presentaba **datos vacíos**. Además, la cantidad de registros que estamos trabajando tampoco es masiva, es decir, **tenemos un muestreo pequeño de datos (891 registros)**.\n",
    "\n",
    "Esto básicamente motiva con que no adoptaramos una aproximación posible en los casos de datos vacíos (NA):\n",
    "\n",
    "- **Eliminación de registros (filas) donde haya a ocurrencia de NAs**\n",
    "\n",
    "Como podemos ver en el dataset `df_no_NA`, quedamos simplemente con `714` filas para trabajar (particularmente he considerado poco), por lo tanto, **he adoptado una aproximación distinta**:\n",
    "<p style=\"color: red\">\n",
    "<ul>\n",
    "    <li><b style=\"color: red\">Calcular un promedio basado en la información de las otras filas para los casos donde hubiera un elemento vacío</b>\n",
    "    </li>\n",
    "</ul>\n",
    "</p>\n",
    "\n",
    "Finalmente había un registro NA en la última línea del comando `head(df)` (*Moran, Mr. James*) veamos como ha quedado los datos de Age ahora:"
   ]
  },
  {
   "cell_type": "code",
   "execution_count": 5,
   "metadata": {
    "scrolled": true
   },
   "outputs": [
    {
     "data": {
      "text/html": [
       "<table>\n",
       "<thead><tr><th scope=col>Survived</th><th scope=col>Pclass</th><th scope=col>Name</th><th scope=col>Sex</th><th scope=col>Age</th><th scope=col>Fare</th></tr></thead>\n",
       "<tbody>\n",
       "\t<tr><td>0                                                  </td><td>3                                                  </td><td>Braund, Mr. Owen Harris                            </td><td>male                                               </td><td>22.00000                                           </td><td> 7.2500                                            </td></tr>\n",
       "\t<tr><td>1                                                  </td><td>1                                                  </td><td>Cumings, Mrs. John Bradley (Florence Briggs Thayer)</td><td>female                                             </td><td>38.00000                                           </td><td>71.2833                                            </td></tr>\n",
       "\t<tr><td>1                                                  </td><td>3                                                  </td><td>Heikkinen, Miss. Laina                             </td><td>female                                             </td><td>26.00000                                           </td><td> 7.9250                                            </td></tr>\n",
       "\t<tr><td>1                                                  </td><td>1                                                  </td><td>Futrelle, Mrs. Jacques Heath (Lily May Peel)       </td><td>female                                             </td><td>35.00000                                           </td><td>53.1000                                            </td></tr>\n",
       "\t<tr><td>0                                                  </td><td>3                                                  </td><td>Allen, Mr. William Henry                           </td><td>male                                               </td><td>35.00000                                           </td><td> 8.0500                                            </td></tr>\n",
       "\t<tr><td>0                                                  </td><td>3                                                  </td><td>Moran, Mr. James                                   </td><td>male                                               </td><td>29.69912                                           </td><td> 8.4583                                            </td></tr>\n",
       "</tbody>\n",
       "</table>\n"
      ],
      "text/latex": [
       "\\begin{tabular}{r|llllll}\n",
       " Survived & Pclass & Name & Sex & Age & Fare\\\\\n",
       "\\hline\n",
       "\t 0                                                   & 3                                                   & Braund, Mr. Owen Harris                             & male                                                & 22.00000                                            &  7.2500                                            \\\\\n",
       "\t 1                                                   & 1                                                   & Cumings, Mrs. John Bradley (Florence Briggs Thayer) & female                                              & 38.00000                                            & 71.2833                                            \\\\\n",
       "\t 1                                                   & 3                                                   & Heikkinen, Miss. Laina                              & female                                              & 26.00000                                            &  7.9250                                            \\\\\n",
       "\t 1                                                   & 1                                                   & Futrelle, Mrs. Jacques Heath (Lily May Peel)        & female                                              & 35.00000                                            & 53.1000                                            \\\\\n",
       "\t 0                                                   & 3                                                   & Allen, Mr. William Henry                            & male                                                & 35.00000                                            &  8.0500                                            \\\\\n",
       "\t 0                                                   & 3                                                   & Moran, Mr. James                                    & male                                                & 29.69912                                            &  8.4583                                            \\\\\n",
       "\\end{tabular}\n"
      ],
      "text/markdown": [
       "\n",
       "Survived | Pclass | Name | Sex | Age | Fare | \n",
       "|---|---|---|---|---|---|\n",
       "| 0                                                   | 3                                                   | Braund, Mr. Owen Harris                             | male                                                | 22.00000                                            |  7.2500                                             | \n",
       "| 1                                                   | 1                                                   | Cumings, Mrs. John Bradley (Florence Briggs Thayer) | female                                              | 38.00000                                            | 71.2833                                             | \n",
       "| 1                                                   | 3                                                   | Heikkinen, Miss. Laina                              | female                                              | 26.00000                                            |  7.9250                                             | \n",
       "| 1                                                   | 1                                                   | Futrelle, Mrs. Jacques Heath (Lily May Peel)        | female                                              | 35.00000                                            | 53.1000                                             | \n",
       "| 0                                                   | 3                                                   | Allen, Mr. William Henry                            | male                                                | 35.00000                                            |  8.0500                                             | \n",
       "| 0                                                   | 3                                                   | Moran, Mr. James                                    | male                                                | 29.69912                                            |  8.4583                                             | \n",
       "\n",
       "\n"
      ],
      "text/plain": [
       "  Survived Pclass Name                                                Sex   \n",
       "1 0        3      Braund, Mr. Owen Harris                             male  \n",
       "2 1        1      Cumings, Mrs. John Bradley (Florence Briggs Thayer) female\n",
       "3 1        3      Heikkinen, Miss. Laina                              female\n",
       "4 1        1      Futrelle, Mrs. Jacques Heath (Lily May Peel)        female\n",
       "5 0        3      Allen, Mr. William Henry                            male  \n",
       "6 0        3      Moran, Mr. James                                    male  \n",
       "  Age      Fare   \n",
       "1 22.00000  7.2500\n",
       "2 38.00000 71.2833\n",
       "3 26.00000  7.9250\n",
       "4 35.00000 53.1000\n",
       "5 35.00000  8.0500\n",
       "6 29.69912  8.4583"
      ]
     },
     "metadata": {},
     "output_type": "display_data"
    }
   ],
   "source": [
    "head(df)"
   ]
  },
  {
   "cell_type": "markdown",
   "metadata": {},
   "source": [
    "Por lo tanto, los valores vacios en Edad están ahora calculados con base en la media.\n",
    "\n",
    "Para cerrar el tema de los *Missing Values*, hay otras aproximaciones que no parecían adecuadas para el escenario, sin embargo añado para dejar claro que las he tenido en cuenta:\n",
    "\n",
    "- **Rellenar manualmente los valores que faltan**\n",
    "- **Rellenar con una constante global**\n",
    "- **Rellenar con un valor más probable (podría ser echo con una regresión, por ejemplo)**\n",
    "\n",
    "Finalmente, he explicado porque no he utilizado la estrategia de eliminar los campos (por el muestreo es demasiado pequeño). Voy a explicar brevemente porque no he adoptado ninguna de las tres estrategias mencionadas arriba:\n",
    "1. Rellenar los valores manualmente es un trabajo repetitivo y tedioso (hay más de 100 registros sin valores).\n",
    "2. Utilizar una constante global con un valor cualquiera es lo basicamente la misma aproximación que hice, con la diferencia de que usando la media estamos aplicando una medida un poco más factible que simplemente adivinar un valor constante.\n",
    "3. La opción de un valor más probable es interesante, pero exige la utilización de un algoritmo como KNN o algo del genero, siendo así una aproximación de más liosa teniendo en cuenta que los objetivos del ejercicio son más sencillos - si fuera una situación que queremos obtener muchisima precisión en el análisis, seguramente podría ser adoptada.\n",
    "\n",
    "Con esto, queda claro que la adopción de media como valores vacios atende el *trade-off* de sencillez en su implementación y añade algunas características interesantes como la utilización de alguna medida calculada del propio dataset."
   ]
  },
  {
   "cell_type": "markdown",
   "metadata": {},
   "source": [
    "### 3.2. Identificación y tratamiento de valores extremos<a name=\"data32\"></a>"
   ]
  },
  {
   "cell_type": "markdown",
   "metadata": {},
   "source": [
    "La verdad es que, mismo antes de seguir con el análisis si hay o no valores extremos (*outliers*) queda evidente que hay pocas posibilidades de haber muchos problemas, dado que tenemos simplemente 2 columnas con valores propiamente numéricos. Eso porque aunque **Survived** y **Pclass** son *numeric*, toman valores finitos, por lo que no pueden considerarse variables contínuas y deben factorizarse - abajo lo hacemos antes de empezar la identificación de extremos.\n",
    "\n",
    "**Los outliers afectan especialmente a la media (medida poco robusta). Y cuando la muestra es pequeña como en nuestro, el efecto se nota aún más acentuado.**"
   ]
  },
  {
   "cell_type": "code",
   "execution_count": 6,
   "metadata": {},
   "outputs": [
    {
     "data": {
      "text/html": [
       "<dl class=dl-horizontal>\n",
       "\t<dt>Survived</dt>\n",
       "\t\t<dd>'numeric'</dd>\n",
       "\t<dt>Pclass</dt>\n",
       "\t\t<dd>'numeric'</dd>\n",
       "\t<dt>Name</dt>\n",
       "\t\t<dd>'factor'</dd>\n",
       "\t<dt>Sex</dt>\n",
       "\t\t<dd>'factor'</dd>\n",
       "\t<dt>Age</dt>\n",
       "\t\t<dd>'numeric'</dd>\n",
       "\t<dt>Fare</dt>\n",
       "\t\t<dd>'numeric'</dd>\n",
       "</dl>\n"
      ],
      "text/latex": [
       "\\begin{description*}\n",
       "\\item[Survived] 'numeric'\n",
       "\\item[Pclass] 'numeric'\n",
       "\\item[Name] 'factor'\n",
       "\\item[Sex] 'factor'\n",
       "\\item[Age] 'numeric'\n",
       "\\item[Fare] 'numeric'\n",
       "\\end{description*}\n"
      ],
      "text/markdown": [
       "Survived\n",
       ":   'numeric'Pclass\n",
       ":   'numeric'Name\n",
       ":   'factor'Sex\n",
       ":   'factor'Age\n",
       ":   'numeric'Fare\n",
       ":   'numeric'\n",
       "\n"
      ],
      "text/plain": [
       " Survived    Pclass      Name       Sex       Age      Fare \n",
       "\"numeric\" \"numeric\"  \"factor\"  \"factor\" \"numeric\" \"numeric\" "
      ]
     },
     "metadata": {},
     "output_type": "display_data"
    }
   ],
   "source": [
    "sapply(df,class)"
   ]
  },
  {
   "cell_type": "code",
   "execution_count": 7,
   "metadata": {},
   "outputs": [],
   "source": [
    "df$Survived <- as.factor(ifelse(df$Survived == 1, \"Yes\", \"No\"))\n",
    "df$Pclass <- as.factor(df$Pclass)"
   ]
  },
  {
   "cell_type": "code",
   "execution_count": 8,
   "metadata": {},
   "outputs": [
    {
     "data": {
      "text/html": [
       "<ol class=list-inline>\n",
       "\t<li>0</li>\n",
       "\t<li>7.9104</li>\n",
       "\t<li>14.4542</li>\n",
       "\t<li>31</li>\n",
       "\t<li>512.3292</li>\n",
       "</ol>\n"
      ],
      "text/latex": [
       "\\begin{enumerate*}\n",
       "\\item 0\n",
       "\\item 7.9104\n",
       "\\item 14.4542\n",
       "\\item 31\n",
       "\\item 512.3292\n",
       "\\end{enumerate*}\n"
      ],
      "text/markdown": [
       "1. 0\n",
       "2. 7.9104\n",
       "3. 14.4542\n",
       "4. 31\n",
       "5. 512.3292\n",
       "\n",
       "\n"
      ],
      "text/plain": [
       "[1]   0.0000   7.9104  14.4542  31.0000 512.3292"
      ]
     },
     "metadata": {},
     "output_type": "display_data"
    },
    {
     "data": {
      "image/png": "[encoded data removed]",
      "text/plain": [
       "Plot with title “Fare”"
      ]
     },
     "metadata": {},
     "output_type": "display_data"
    }
   ],
   "source": [
    "checkingOutliers <- function(df) {\n",
    "    par(mfrow=c(1,2))\n",
    "    for(i in 1:ncol(df)) {\n",
    "        if (is.numeric(df[,i])){\n",
    "            boxplot(df[,i], main = colnames(df)[i], width = 100, col=\"gray\")\n",
    "        }\n",
    "    }\n",
    "\n",
    "    max(df$Age, na.rm = TRUE)\n",
    "    min(df$Age, na.rm = TRUE)\n",
    "    fivenum(df$Age)\n",
    "\n",
    "    max(df$Fare, na.rm = TRUE)\n",
    "    min(df$Fare, na.rm = TRUE)\n",
    "    fivenum(df$Fare)\n",
    "}\n",
    "checkingOutliers(df)"
   ]
  },
  {
   "cell_type": "code",
   "execution_count": 9,
   "metadata": {},
   "outputs": [
    {
     "data": {
      "text/html": [
       "<ol class=list-inline>\n",
       "\t<li>71.2833</li>\n",
       "\t<li>263</li>\n",
       "\t<li>146.5208</li>\n",
       "\t<li>82.1708</li>\n",
       "\t<li>76.7292</li>\n",
       "\t<li>80</li>\n",
       "\t<li>83.475</li>\n",
       "\t<li>73.5</li>\n",
       "\t<li>263</li>\n",
       "\t<li>77.2875</li>\n",
       "\t<li>247.5208</li>\n",
       "\t<li>73.5</li>\n",
       "\t<li>77.2875</li>\n",
       "\t<li>79.2</li>\n",
       "\t<li>66.6</li>\n",
       "\t<li>69.55</li>\n",
       "\t<li>69.55</li>\n",
       "\t<li>146.5208</li>\n",
       "\t<li>69.55</li>\n",
       "\t<li>113.275</li>\n",
       "\t<li>76.2917</li>\n",
       "\t<li>90</li>\n",
       "\t<li>83.475</li>\n",
       "\t<li>90</li>\n",
       "\t<li>79.2</li>\n",
       "\t<li>86.5</li>\n",
       "\t<li>512.3292</li>\n",
       "\t<li>79.65</li>\n",
       "\t<li>153.4625</li>\n",
       "\t<li>135.6333</li>\n",
       "\t<li>77.9583</li>\n",
       "\t<li>78.85</li>\n",
       "\t<li>91.0792</li>\n",
       "\t<li>151.55</li>\n",
       "\t<li>247.5208</li>\n",
       "\t<li>151.55</li>\n",
       "\t<li>110.8833</li>\n",
       "\t<li>108.9</li>\n",
       "\t<li>83.1583</li>\n",
       "\t<li>262.375</li>\n",
       "\t<li>164.8667</li>\n",
       "\t<li>134.5</li>\n",
       "\t<li>69.55</li>\n",
       "\t<li>135.6333</li>\n",
       "\t<li>153.4625</li>\n",
       "\t<li>133.65</li>\n",
       "\t<li>66.6</li>\n",
       "\t<li>134.5</li>\n",
       "\t<li>263</li>\n",
       "\t<li>75.25</li>\n",
       "\t<li>69.3</li>\n",
       "\t<li>135.6333</li>\n",
       "\t<li>82.1708</li>\n",
       "\t<li>211.5</li>\n",
       "\t<li>227.525</li>\n",
       "\t<li>73.5</li>\n",
       "\t<li>120</li>\n",
       "\t<li>113.275</li>\n",
       "\t<li>90</li>\n",
       "\t<li>120</li>\n",
       "\t<li>263</li>\n",
       "\t<li>81.8583</li>\n",
       "\t<li>89.1042</li>\n",
       "\t<li>91.0792</li>\n",
       "\t<li>90</li>\n",
       "\t<li>78.2667</li>\n",
       "\t<li>151.55</li>\n",
       "\t<li>86.5</li>\n",
       "\t<li>108.9</li>\n",
       "\t<li>93.5</li>\n",
       "\t<li>221.7792</li>\n",
       "\t<li>106.425</li>\n",
       "\t<li>71</li>\n",
       "\t<li>106.425</li>\n",
       "\t<li>110.8833</li>\n",
       "\t<li>227.525</li>\n",
       "\t<li>79.65</li>\n",
       "\t<li>110.8833</li>\n",
       "\t<li>79.65</li>\n",
       "\t<li>79.2</li>\n",
       "\t<li>78.2667</li>\n",
       "\t<li>153.4625</li>\n",
       "\t<li>77.9583</li>\n",
       "\t<li>69.3</li>\n",
       "\t<li>76.7292</li>\n",
       "\t<li>73.5</li>\n",
       "\t<li>113.275</li>\n",
       "\t<li>133.65</li>\n",
       "\t<li>73.5</li>\n",
       "\t<li>512.3292</li>\n",
       "\t<li>76.7292</li>\n",
       "\t<li>211.3375</li>\n",
       "\t<li>110.8833</li>\n",
       "\t<li>227.525</li>\n",
       "\t<li>151.55</li>\n",
       "\t<li>227.525</li>\n",
       "\t<li>211.3375</li>\n",
       "\t<li>512.3292</li>\n",
       "\t<li>78.85</li>\n",
       "\t<li>262.375</li>\n",
       "\t<li>71</li>\n",
       "\t<li>86.5</li>\n",
       "\t<li>120</li>\n",
       "\t<li>77.9583</li>\n",
       "\t<li>211.3375</li>\n",
       "\t<li>79.2</li>\n",
       "\t<li>69.55</li>\n",
       "\t<li>120</li>\n",
       "\t<li>93.5</li>\n",
       "\t<li>80</li>\n",
       "\t<li>83.1583</li>\n",
       "\t<li>69.55</li>\n",
       "\t<li>89.1042</li>\n",
       "\t<li>164.8667</li>\n",
       "\t<li>69.55</li>\n",
       "\t<li>83.1583</li>\n",
       "</ol>\n"
      ],
      "text/latex": [
       "\\begin{enumerate*}\n",
       "\\item 71.2833\n",
       "\\item 263\n",
       "\\item 146.5208\n",
       "\\item 82.1708\n",
       "\\item 76.7292\n",
       "\\item 80\n",
       "\\item 83.475\n",
       "\\item 73.5\n",
       "\\item 263\n",
       "\\item 77.2875\n",
       "\\item 247.5208\n",
       "\\item 73.5\n",
       "\\item 77.2875\n",
       "\\item 79.2\n",
       "\\item 66.6\n",
       "\\item 69.55\n",
       "\\item 69.55\n",
       "\\item 146.5208\n",
       "\\item 69.55\n",
       "\\item 113.275\n",
       "\\item 76.2917\n",
       "\\item 90\n",
       "\\item 83.475\n",
       "\\item 90\n",
       "\\item 79.2\n",
       "\\item 86.5\n",
       "\\item 512.3292\n",
       "\\item 79.65\n",
       "\\item 153.4625\n",
       "\\item 135.6333\n",
       "\\item 77.9583\n",
       "\\item 78.85\n",
       "\\item 91.0792\n",
       "\\item 151.55\n",
       "\\item 247.5208\n",
       "\\item 151.55\n",
       "\\item 110.8833\n",
       "\\item 108.9\n",
       "\\item 83.1583\n",
       "\\item 262.375\n",
       "\\item 164.8667\n",
       "\\item 134.5\n",
       "\\item 69.55\n",
       "\\item 135.6333\n",
       "\\item 153.4625\n",
       "\\item 133.65\n",
       "\\item 66.6\n",
       "\\item 134.5\n",
       "\\item 263\n",
       "\\item 75.25\n",
       "\\item 69.3\n",
       "\\item 135.6333\n",
       "\\item 82.1708\n",
       "\\item 211.5\n",
       "\\item 227.525\n",
       "\\item 73.5\n",
       "\\item 120\n",
       "\\item 113.275\n",
       "\\item 90\n",
       "\\item 120\n",
       "\\item 263\n",
       "\\item 81.8583\n",
       "\\item 89.1042\n",
       "\\item 91.0792\n",
       "\\item 90\n",
       "\\item 78.2667\n",
       "\\item 151.55\n",
       "\\item 86.5\n",
       "\\item 108.9\n",
       "\\item 93.5\n",
       "\\item 221.7792\n",
       "\\item 106.425\n",
       "\\item 71\n",
       "\\item 106.425\n",
       "\\item 110.8833\n",
       "\\item 227.525\n",
       "\\item 79.65\n",
       "\\item 110.8833\n",
       "\\item 79.65\n",
       "\\item 79.2\n",
       "\\item 78.2667\n",
       "\\item 153.4625\n",
       "\\item 77.9583\n",
       "\\item 69.3\n",
       "\\item 76.7292\n",
       "\\item 73.5\n",
       "\\item 113.275\n",
       "\\item 133.65\n",
       "\\item 73.5\n",
       "\\item 512.3292\n",
       "\\item 76.7292\n",
       "\\item 211.3375\n",
       "\\item 110.8833\n",
       "\\item 227.525\n",
       "\\item 151.55\n",
       "\\item 227.525\n",
       "\\item 211.3375\n",
       "\\item 512.3292\n",
       "\\item 78.85\n",
       "\\item 262.375\n",
       "\\item 71\n",
       "\\item 86.5\n",
       "\\item 120\n",
       "\\item 77.9583\n",
       "\\item 211.3375\n",
       "\\item 79.2\n",
       "\\item 69.55\n",
       "\\item 120\n",
       "\\item 93.5\n",
       "\\item 80\n",
       "\\item 83.1583\n",
       "\\item 69.55\n",
       "\\item 89.1042\n",
       "\\item 164.8667\n",
       "\\item 69.55\n",
       "\\item 83.1583\n",
       "\\end{enumerate*}\n"
      ],
      "text/markdown": [
       "1. 71.2833\n",
       "2. 263\n",
       "3. 146.5208\n",
       "4. 82.1708\n",
       "5. 76.7292\n",
       "6. 80\n",
       "7. 83.475\n",
       "8. 73.5\n",
       "9. 263\n",
       "10. 77.2875\n",
       "11. 247.5208\n",
       "12. 73.5\n",
       "13. 77.2875\n",
       "14. 79.2\n",
       "15. 66.6\n",
       "16. 69.55\n",
       "17. 69.55\n",
       "18. 146.5208\n",
       "19. 69.55\n",
       "20. 113.275\n",
       "21. 76.2917\n",
       "22. 90\n",
       "23. 83.475\n",
       "24. 90\n",
       "25. 79.2\n",
       "26. 86.5\n",
       "27. 512.3292\n",
       "28. 79.65\n",
       "29. 153.4625\n",
       "30. 135.6333\n",
       "31. 77.9583\n",
       "32. 78.85\n",
       "33. 91.0792\n",
       "34. 151.55\n",
       "35. 247.5208\n",
       "36. 151.55\n",
       "37. 110.8833\n",
       "38. 108.9\n",
       "39. 83.1583\n",
       "40. 262.375\n",
       "41. 164.8667\n",
       "42. 134.5\n",
       "43. 69.55\n",
       "44. 135.6333\n",
       "45. 153.4625\n",
       "46. 133.65\n",
       "47. 66.6\n",
       "48. 134.5\n",
       "49. 263\n",
       "50. 75.25\n",
       "51. 69.3\n",
       "52. 135.6333\n",
       "53. 82.1708\n",
       "54. 211.5\n",
       "55. 227.525\n",
       "56. 73.5\n",
       "57. 120\n",
       "58. 113.275\n",
       "59. 90\n",
       "60. 120\n",
       "61. 263\n",
       "62. 81.8583\n",
       "63. 89.1042\n",
       "64. 91.0792\n",
       "65. 90\n",
       "66. 78.2667\n",
       "67. 151.55\n",
       "68. 86.5\n",
       "69. 108.9\n",
       "70. 93.5\n",
       "71. 221.7792\n",
       "72. 106.425\n",
       "73. 71\n",
       "74. 106.425\n",
       "75. 110.8833\n",
       "76. 227.525\n",
       "77. 79.65\n",
       "78. 110.8833\n",
       "79. 79.65\n",
       "80. 79.2\n",
       "81. 78.2667\n",
       "82. 153.4625\n",
       "83. 77.9583\n",
       "84. 69.3\n",
       "85. 76.7292\n",
       "86. 73.5\n",
       "87. 113.275\n",
       "88. 133.65\n",
       "89. 73.5\n",
       "90. 512.3292\n",
       "91. 76.7292\n",
       "92. 211.3375\n",
       "93. 110.8833\n",
       "94. 227.525\n",
       "95. 151.55\n",
       "96. 227.525\n",
       "97. 211.3375\n",
       "98. 512.3292\n",
       "99. 78.85\n",
       "100. 262.375\n",
       "101. 71\n",
       "102. 86.5\n",
       "103. 120\n",
       "104. 77.9583\n",
       "105. 211.3375\n",
       "106. 79.2\n",
       "107. 69.55\n",
       "108. 120\n",
       "109. 93.5\n",
       "110. 80\n",
       "111. 83.1583\n",
       "112. 69.55\n",
       "113. 89.1042\n",
       "114. 164.8667\n",
       "115. 69.55\n",
       "116. 83.1583\n",
       "\n",
       "\n"
      ],
      "text/plain": [
       "  [1]  71.2833 263.0000 146.5208  82.1708  76.7292  80.0000  83.4750  73.5000\n",
       "  [9] 263.0000  77.2875 247.5208  73.5000  77.2875  79.2000  66.6000  69.5500\n",
       " [17]  69.5500 146.5208  69.5500 113.2750  76.2917  90.0000  83.4750  90.0000\n",
       " [25]  79.2000  86.5000 512.3292  79.6500 153.4625 135.6333  77.9583  78.8500\n",
       " [33]  91.0792 151.5500 247.5208 151.5500 110.8833 108.9000  83.1583 262.3750\n",
       " [41] 164.8667 134.5000  69.5500 135.6333 153.4625 133.6500  66.6000 134.5000\n",
       " [49] 263.0000  75.2500  69.3000 135.6333  82.1708 211.5000 227.5250  73.5000\n",
       " [57] 120.0000 113.2750  90.0000 120.0000 263.0000  81.8583  89.1042  91.0792\n",
       " [65]  90.0000  78.2667 151.5500  86.5000 108.9000  93.5000 221.7792 106.4250\n",
       " [73]  71.0000 106.4250 110.8833 227.5250  79.6500 110.8833  79.6500  79.2000\n",
       " [81]  78.2667 153.4625  77.9583  69.3000  76.7292  73.5000 113.2750 133.6500\n",
       " [89]  73.5000 512.3292  76.7292 211.3375 110.8833 227.5250 151.5500 227.5250\n",
       " [97] 211.3375 512.3292  78.8500 262.3750  71.0000  86.5000 120.0000  77.9583\n",
       "[105] 211.3375  79.2000  69.5500 120.0000  93.5000  80.0000  83.1583  69.5500\n",
       "[113]  89.1042 164.8667  69.5500  83.1583"
      ]
     },
     "metadata": {},
     "output_type": "display_data"
    },
    {
     "data": {
      "text/html": [
       "<ol class=list-inline>\n",
       "\t<li>2</li>\n",
       "\t<li>58</li>\n",
       "\t<li>55</li>\n",
       "\t<li>2</li>\n",
       "\t<li>66</li>\n",
       "\t<li>65</li>\n",
       "\t<li>0.83</li>\n",
       "\t<li>59</li>\n",
       "\t<li>71</li>\n",
       "\t<li>70.5</li>\n",
       "\t<li>2</li>\n",
       "\t<li>55.5</li>\n",
       "\t<li>1</li>\n",
       "\t<li>61</li>\n",
       "\t<li>1</li>\n",
       "\t<li>56</li>\n",
       "\t<li>1</li>\n",
       "\t<li>58</li>\n",
       "\t<li>2</li>\n",
       "\t<li>59</li>\n",
       "\t<li>62</li>\n",
       "\t<li>58</li>\n",
       "\t<li>63</li>\n",
       "\t<li>65</li>\n",
       "\t<li>2</li>\n",
       "\t<li>0.92</li>\n",
       "\t<li>61</li>\n",
       "\t<li>2</li>\n",
       "\t<li>60</li>\n",
       "\t<li>1</li>\n",
       "\t<li>1</li>\n",
       "\t<li>64</li>\n",
       "\t<li>65</li>\n",
       "\t<li>56</li>\n",
       "\t<li>0.75</li>\n",
       "\t<li>2</li>\n",
       "\t<li>63</li>\n",
       "\t<li>58</li>\n",
       "\t<li>55</li>\n",
       "\t<li>71</li>\n",
       "\t<li>2</li>\n",
       "\t<li>64</li>\n",
       "\t<li>62</li>\n",
       "\t<li>62</li>\n",
       "\t<li>60</li>\n",
       "\t<li>61</li>\n",
       "\t<li>57</li>\n",
       "\t<li>80</li>\n",
       "\t<li>2</li>\n",
       "\t<li>0.75</li>\n",
       "\t<li>56</li>\n",
       "\t<li>58</li>\n",
       "\t<li>70</li>\n",
       "\t<li>60</li>\n",
       "\t<li>60</li>\n",
       "\t<li>70</li>\n",
       "\t<li>0.67</li>\n",
       "\t<li>57</li>\n",
       "\t<li>1</li>\n",
       "\t<li>0.42</li>\n",
       "\t<li>2</li>\n",
       "\t<li>1</li>\n",
       "\t<li>62</li>\n",
       "\t<li>0.83</li>\n",
       "\t<li>74</li>\n",
       "\t<li>56</li>\n",
       "</ol>\n"
      ],
      "text/latex": [
       "\\begin{enumerate*}\n",
       "\\item 2\n",
       "\\item 58\n",
       "\\item 55\n",
       "\\item 2\n",
       "\\item 66\n",
       "\\item 65\n",
       "\\item 0.83\n",
       "\\item 59\n",
       "\\item 71\n",
       "\\item 70.5\n",
       "\\item 2\n",
       "\\item 55.5\n",
       "\\item 1\n",
       "\\item 61\n",
       "\\item 1\n",
       "\\item 56\n",
       "\\item 1\n",
       "\\item 58\n",
       "\\item 2\n",
       "\\item 59\n",
       "\\item 62\n",
       "\\item 58\n",
       "\\item 63\n",
       "\\item 65\n",
       "\\item 2\n",
       "\\item 0.92\n",
       "\\item 61\n",
       "\\item 2\n",
       "\\item 60\n",
       "\\item 1\n",
       "\\item 1\n",
       "\\item 64\n",
       "\\item 65\n",
       "\\item 56\n",
       "\\item 0.75\n",
       "\\item 2\n",
       "\\item 63\n",
       "\\item 58\n",
       "\\item 55\n",
       "\\item 71\n",
       "\\item 2\n",
       "\\item 64\n",
       "\\item 62\n",
       "\\item 62\n",
       "\\item 60\n",
       "\\item 61\n",
       "\\item 57\n",
       "\\item 80\n",
       "\\item 2\n",
       "\\item 0.75\n",
       "\\item 56\n",
       "\\item 58\n",
       "\\item 70\n",
       "\\item 60\n",
       "\\item 60\n",
       "\\item 70\n",
       "\\item 0.67\n",
       "\\item 57\n",
       "\\item 1\n",
       "\\item 0.42\n",
       "\\item 2\n",
       "\\item 1\n",
       "\\item 62\n",
       "\\item 0.83\n",
       "\\item 74\n",
       "\\item 56\n",
       "\\end{enumerate*}\n"
      ],
      "text/markdown": [
       "1. 2\n",
       "2. 58\n",
       "3. 55\n",
       "4. 2\n",
       "5. 66\n",
       "6. 65\n",
       "7. 0.83\n",
       "8. 59\n",
       "9. 71\n",
       "10. 70.5\n",
       "11. 2\n",
       "12. 55.5\n",
       "13. 1\n",
       "14. 61\n",
       "15. 1\n",
       "16. 56\n",
       "17. 1\n",
       "18. 58\n",
       "19. 2\n",
       "20. 59\n",
       "21. 62\n",
       "22. 58\n",
       "23. 63\n",
       "24. 65\n",
       "25. 2\n",
       "26. 0.92\n",
       "27. 61\n",
       "28. 2\n",
       "29. 60\n",
       "30. 1\n",
       "31. 1\n",
       "32. 64\n",
       "33. 65\n",
       "34. 56\n",
       "35. 0.75\n",
       "36. 2\n",
       "37. 63\n",
       "38. 58\n",
       "39. 55\n",
       "40. 71\n",
       "41. 2\n",
       "42. 64\n",
       "43. 62\n",
       "44. 62\n",
       "45. 60\n",
       "46. 61\n",
       "47. 57\n",
       "48. 80\n",
       "49. 2\n",
       "50. 0.75\n",
       "51. 56\n",
       "52. 58\n",
       "53. 70\n",
       "54. 60\n",
       "55. 60\n",
       "56. 70\n",
       "57. 0.67\n",
       "58. 57\n",
       "59. 1\n",
       "60. 0.42\n",
       "61. 2\n",
       "62. 1\n",
       "63. 62\n",
       "64. 0.83\n",
       "65. 74\n",
       "66. 56\n",
       "\n",
       "\n"
      ],
      "text/plain": [
       " [1]  2.00 58.00 55.00  2.00 66.00 65.00  0.83 59.00 71.00 70.50  2.00 55.50\n",
       "[13]  1.00 61.00  1.00 56.00  1.00 58.00  2.00 59.00 62.00 58.00 63.00 65.00\n",
       "[25]  2.00  0.92 61.00  2.00 60.00  1.00  1.00 64.00 65.00 56.00  0.75  2.00\n",
       "[37] 63.00 58.00 55.00 71.00  2.00 64.00 62.00 62.00 60.00 61.00 57.00 80.00\n",
       "[49]  2.00  0.75 56.00 58.00 70.00 60.00 60.00 70.00  0.67 57.00  1.00  0.42\n",
       "[61]  2.00  1.00 62.00  0.83 74.00 56.00"
      ]
     },
     "metadata": {},
     "output_type": "display_data"
    }
   ],
   "source": [
    "#Aqui podemos ver los valores que son outliers\n",
    "boxplot.stats(df$Fare)$out\n",
    "boxplot.stats(df$Age)$out"
   ]
  },
  {
   "cell_type": "markdown",
   "metadata": {},
   "source": [
    "Considerando que dependendo de cuando se compró el billete para el Titanic los precios pueden tener cambiado bastante, voy a utilizar una tecnica de *Binning* para clasificar el atributo *Fare* en categorías y con ello no tendremos más grande parte de los outliers. Sin embargo, voy a mantener el atributo con el nombre que tiene añadiendo otra columna para la información tratada. Sigue abajo:"
   ]
  },
  {
   "cell_type": "code",
   "execution_count": 10,
   "metadata": {},
   "outputs": [
    {
     "data": {
      "text/html": [
       "<dl class=dl-horizontal>\n",
       "\t<dt>Survived</dt>\n",
       "\t\t<dd>'factor'</dd>\n",
       "\t<dt>Pclass</dt>\n",
       "\t\t<dd>'factor'</dd>\n",
       "\t<dt>Name</dt>\n",
       "\t\t<dd>'factor'</dd>\n",
       "\t<dt>Sex</dt>\n",
       "\t\t<dd>'factor'</dd>\n",
       "\t<dt>Age</dt>\n",
       "\t\t<dd>'numeric'</dd>\n",
       "\t<dt>Fare</dt>\n",
       "\t\t<dd>'numeric'</dd>\n",
       "\t<dt>FareBin</dt>\n",
       "\t\t<dd>'factor'</dd>\n",
       "</dl>\n"
      ],
      "text/latex": [
       "\\begin{description*}\n",
       "\\item[Survived] 'factor'\n",
       "\\item[Pclass] 'factor'\n",
       "\\item[Name] 'factor'\n",
       "\\item[Sex] 'factor'\n",
       "\\item[Age] 'numeric'\n",
       "\\item[Fare] 'numeric'\n",
       "\\item[FareBin] 'factor'\n",
       "\\end{description*}\n"
      ],
      "text/markdown": [
       "Survived\n",
       ":   'factor'Pclass\n",
       ":   'factor'Name\n",
       ":   'factor'Sex\n",
       ":   'factor'Age\n",
       ":   'numeric'Fare\n",
       ":   'numeric'FareBin\n",
       ":   'factor'\n",
       "\n"
      ],
      "text/plain": [
       " Survived    Pclass      Name       Sex       Age      Fare   FareBin \n",
       " \"factor\"  \"factor\"  \"factor\"  \"factor\" \"numeric\" \"numeric\"  \"factor\" "
      ]
     },
     "metadata": {},
     "output_type": "display_data"
    },
    {
     "data": {
      "text/html": [
       "<table>\n",
       "<thead><tr><th></th><th scope=col>Survived</th><th scope=col>Pclass</th><th scope=col>Name</th><th scope=col>Sex</th><th scope=col>Age</th><th scope=col>Fare</th><th scope=col>FareBin</th></tr></thead>\n",
       "<tbody>\n",
       "\t<tr><th scope=row>886</th><td>No                                      </td><td>3                                       </td><td>Rice, Mrs. William (Margaret Norton)    </td><td>female                                  </td><td>39.00000                                </td><td>29.125                                  </td><td>2nd                                     </td></tr>\n",
       "\t<tr><th scope=row>887</th><td>No                                      </td><td>2                                       </td><td>Montvila, Rev. Juozas                   </td><td>male                                    </td><td>27.00000                                </td><td>13.000                                  </td><td>2nd                                     </td></tr>\n",
       "\t<tr><th scope=row>888</th><td>Yes                                     </td><td>1                                       </td><td>Graham, Miss. Margaret Edith            </td><td>female                                  </td><td>19.00000                                </td><td>30.000                                  </td><td>1st                                     </td></tr>\n",
       "\t<tr><th scope=row>889</th><td>No                                      </td><td>3                                       </td><td>Johnston, Miss. Catherine Helen \"Carrie\"</td><td>female                                  </td><td>29.69912                                </td><td>23.450                                  </td><td>2nd                                     </td></tr>\n",
       "\t<tr><th scope=row>890</th><td>Yes                                     </td><td>1                                       </td><td>Behr, Mr. Karl Howell                   </td><td>male                                    </td><td>26.00000                                </td><td>30.000                                  </td><td>1st                                     </td></tr>\n",
       "\t<tr><th scope=row>891</th><td>No                                      </td><td>3                                       </td><td>Dooley, Mr. Patrick                     </td><td>male                                    </td><td>32.00000                                </td><td> 7.750                                  </td><td>3rd                                     </td></tr>\n",
       "</tbody>\n",
       "</table>\n"
      ],
      "text/latex": [
       "\\begin{tabular}{r|lllllll}\n",
       "  & Survived & Pclass & Name & Sex & Age & Fare & FareBin\\\\\n",
       "\\hline\n",
       "\t886 & No                                       & 3                                        & Rice, Mrs. William (Margaret Norton)     & female                                   & 39.00000                                 & 29.125                                   & 2nd                                     \\\\\n",
       "\t887 & No                                       & 2                                        & Montvila, Rev. Juozas                    & male                                     & 27.00000                                 & 13.000                                   & 2nd                                     \\\\\n",
       "\t888 & Yes                                      & 1                                        & Graham, Miss. Margaret Edith             & female                                   & 19.00000                                 & 30.000                                   & 1st                                     \\\\\n",
       "\t889 & No                                       & 3                                        & Johnston, Miss. Catherine Helen \"Carrie\" & female                                   & 29.69912                                 & 23.450                                   & 2nd                                     \\\\\n",
       "\t890 & Yes                                      & 1                                        & Behr, Mr. Karl Howell                    & male                                     & 26.00000                                 & 30.000                                   & 1st                                     \\\\\n",
       "\t891 & No                                       & 3                                        & Dooley, Mr. Patrick                      & male                                     & 32.00000                                 &  7.750                                   & 3rd                                     \\\\\n",
       "\\end{tabular}\n"
      ],
      "text/markdown": [
       "\n",
       "| <!--/--> | Survived | Pclass | Name | Sex | Age | Fare | FareBin | \n",
       "|---|---|---|---|---|---|\n",
       "| 886 | No                                       | 3                                        | Rice, Mrs. William (Margaret Norton)     | female                                   | 39.00000                                 | 29.125                                   | 2nd                                      | \n",
       "| 887 | No                                       | 2                                        | Montvila, Rev. Juozas                    | male                                     | 27.00000                                 | 13.000                                   | 2nd                                      | \n",
       "| 888 | Yes                                      | 1                                        | Graham, Miss. Margaret Edith             | female                                   | 19.00000                                 | 30.000                                   | 1st                                      | \n",
       "| 889 | No                                       | 3                                        | Johnston, Miss. Catherine Helen \"Carrie\" | female                                   | 29.69912                                 | 23.450                                   | 2nd                                      | \n",
       "| 890 | Yes                                      | 1                                        | Behr, Mr. Karl Howell                    | male                                     | 26.00000                                 | 30.000                                   | 1st                                      | \n",
       "| 891 | No                                       | 3                                        | Dooley, Mr. Patrick                      | male                                     | 32.00000                                 |  7.750                                   | 3rd                                      | \n",
       "\n",
       "\n"
      ],
      "text/plain": [
       "    Survived Pclass Name                                     Sex    Age     \n",
       "886 No       3      Rice, Mrs. William (Margaret Norton)     female 39.00000\n",
       "887 No       2      Montvila, Rev. Juozas                    male   27.00000\n",
       "888 Yes      1      Graham, Miss. Margaret Edith             female 19.00000\n",
       "889 No       3      Johnston, Miss. Catherine Helen \"Carrie\" female 29.69912\n",
       "890 Yes      1      Behr, Mr. Karl Howell                    male   26.00000\n",
       "891 No       3      Dooley, Mr. Patrick                      male   32.00000\n",
       "    Fare   FareBin\n",
       "886 29.125 2nd    \n",
       "887 13.000 2nd    \n",
       "888 30.000 1st    \n",
       "889 23.450 2nd    \n",
       "890 30.000 1st    \n",
       "891  7.750 3rd    "
      ]
     },
     "metadata": {},
     "output_type": "display_data"
    }
   ],
   "source": [
    "df$FareBin <- as.factor(ifelse(df$Fare < 10, \"3rd\", ifelse(df$Fare < 30, \"2nd\", \"1st\")))\n",
    "sapply(df,class)\n",
    "tail(df)"
   ]
  },
  {
   "cell_type": "markdown",
   "metadata": {},
   "source": [
    "Con esto, hay simplemente los valores que aparecen en los boxplots como *outliers* en **Age**, y es completamente factible que una persona en el Titanic tuviera `80` años (y también `0.4` años, en el caso de un bebé).\n",
    "\n",
    "\n",
    "Finalmente, la forma que he utilizado para tratar los atributos de **Age** ha sido la de *Deleting observations* definida por **[2]** *(Sunil, 2016)*."
   ]
  },
  {
   "cell_type": "code",
   "execution_count": 11,
   "metadata": {
    "scrolled": true
   },
   "outputs": [
    {
     "data": {
      "text/html": [
       "825"
      ],
      "text/latex": [
       "825"
      ],
      "text/markdown": [
       "825"
      ],
      "text/plain": [
       "[1] 825"
      ]
     },
     "metadata": {},
     "output_type": "display_data"
    },
    {
     "data": {
      "text/html": [
       "<table>\n",
       "<thead><tr><th></th><th scope=col>Survived</th><th scope=col>Pclass</th><th scope=col>Name</th><th scope=col>Sex</th><th scope=col>Age</th><th scope=col>Fare</th><th scope=col>FareBin</th></tr></thead>\n",
       "<tbody>\n",
       "\t<tr><th scope=row>886</th><td>No                                      </td><td>3                                       </td><td>Rice, Mrs. William (Margaret Norton)    </td><td>female                                  </td><td>39.00000                                </td><td>29.125                                  </td><td>2nd                                     </td></tr>\n",
       "\t<tr><th scope=row>887</th><td>No                                      </td><td>2                                       </td><td>Montvila, Rev. Juozas                   </td><td>male                                    </td><td>27.00000                                </td><td>13.000                                  </td><td>2nd                                     </td></tr>\n",
       "\t<tr><th scope=row>888</th><td>Yes                                     </td><td>1                                       </td><td>Graham, Miss. Margaret Edith            </td><td>female                                  </td><td>19.00000                                </td><td>30.000                                  </td><td>1st                                     </td></tr>\n",
       "\t<tr><th scope=row>889</th><td>No                                      </td><td>3                                       </td><td>Johnston, Miss. Catherine Helen \"Carrie\"</td><td>female                                  </td><td>29.69912                                </td><td>23.450                                  </td><td>2nd                                     </td></tr>\n",
       "\t<tr><th scope=row>890</th><td>Yes                                     </td><td>1                                       </td><td>Behr, Mr. Karl Howell                   </td><td>male                                    </td><td>26.00000                                </td><td>30.000                                  </td><td>1st                                     </td></tr>\n",
       "\t<tr><th scope=row>891</th><td>No                                      </td><td>3                                       </td><td>Dooley, Mr. Patrick                     </td><td>male                                    </td><td>32.00000                                </td><td> 7.750                                  </td><td>3rd                                     </td></tr>\n",
       "</tbody>\n",
       "</table>\n"
      ],
      "text/latex": [
       "\\begin{tabular}{r|lllllll}\n",
       "  & Survived & Pclass & Name & Sex & Age & Fare & FareBin\\\\\n",
       "\\hline\n",
       "\t886 & No                                       & 3                                        & Rice, Mrs. William (Margaret Norton)     & female                                   & 39.00000                                 & 29.125                                   & 2nd                                     \\\\\n",
       "\t887 & No                                       & 2                                        & Montvila, Rev. Juozas                    & male                                     & 27.00000                                 & 13.000                                   & 2nd                                     \\\\\n",
       "\t888 & Yes                                      & 1                                        & Graham, Miss. Margaret Edith             & female                                   & 19.00000                                 & 30.000                                   & 1st                                     \\\\\n",
       "\t889 & No                                       & 3                                        & Johnston, Miss. Catherine Helen \"Carrie\" & female                                   & 29.69912                                 & 23.450                                   & 2nd                                     \\\\\n",
       "\t890 & Yes                                      & 1                                        & Behr, Mr. Karl Howell                    & male                                     & 26.00000                                 & 30.000                                   & 1st                                     \\\\\n",
       "\t891 & No                                       & 3                                        & Dooley, Mr. Patrick                      & male                                     & 32.00000                                 &  7.750                                   & 3rd                                     \\\\\n",
       "\\end{tabular}\n"
      ],
      "text/markdown": [
       "\n",
       "| <!--/--> | Survived | Pclass | Name | Sex | Age | Fare | FareBin | \n",
       "|---|---|---|---|---|---|\n",
       "| 886 | No                                       | 3                                        | Rice, Mrs. William (Margaret Norton)     | female                                   | 39.00000                                 | 29.125                                   | 2nd                                      | \n",
       "| 887 | No                                       | 2                                        | Montvila, Rev. Juozas                    | male                                     | 27.00000                                 | 13.000                                   | 2nd                                      | \n",
       "| 888 | Yes                                      | 1                                        | Graham, Miss. Margaret Edith             | female                                   | 19.00000                                 | 30.000                                   | 1st                                      | \n",
       "| 889 | No                                       | 3                                        | Johnston, Miss. Catherine Helen \"Carrie\" | female                                   | 29.69912                                 | 23.450                                   | 2nd                                      | \n",
       "| 890 | Yes                                      | 1                                        | Behr, Mr. Karl Howell                    | male                                     | 26.00000                                 | 30.000                                   | 1st                                      | \n",
       "| 891 | No                                       | 3                                        | Dooley, Mr. Patrick                      | male                                     | 32.00000                                 |  7.750                                   | 3rd                                      | \n",
       "\n",
       "\n"
      ],
      "text/plain": [
       "    Survived Pclass Name                                     Sex    Age     \n",
       "886 No       3      Rice, Mrs. William (Margaret Norton)     female 39.00000\n",
       "887 No       2      Montvila, Rev. Juozas                    male   27.00000\n",
       "888 Yes      1      Graham, Miss. Margaret Edith             female 19.00000\n",
       "889 No       3      Johnston, Miss. Catherine Helen \"Carrie\" female 29.69912\n",
       "890 Yes      1      Behr, Mr. Karl Howell                    male   26.00000\n",
       "891 No       3      Dooley, Mr. Patrick                      male   32.00000\n",
       "    Fare   FareBin\n",
       "886 29.125 2nd    \n",
       "887 13.000 2nd    \n",
       "888 30.000 1st    \n",
       "889 23.450 2nd    \n",
       "890 30.000 1st    \n",
       "891  7.750 3rd    "
      ]
     },
     "metadata": {},
     "output_type": "display_data"
    }
   ],
   "source": [
    "withoutOutlier <- df[df$Age<55 & df$Age>2, ]\n",
    "nrow(withoutOutlier)\n",
    "tail(withoutOutlier)\n",
    "\n",
    "df <- withoutOutlier"
   ]
  },
  {
   "cell_type": "markdown",
   "metadata": {},
   "source": [
    "Explicando el enfoque: \n",
    "\n",
    "Como en algunas ocasiones, la información tiene un poco de *ruido*, nos interesa reducir al máximo lo mismo y, para ello, una posible solución es discretizar. Así lo hicimos para el atributo **Fare**. Por su vez, para el outlier en **Age**, teníamos pocos registros con outliers, entonces he adoptado la aproximación de eliminar las líneas con *outliers*.\n",
    "\n",
    "Otras aproximaciones y tecnicas también podrían estar empleadas aquí, como *Regression* u *Outlier Analysis*, sin embargo, la que haría más sentido para lo que buscamos es sin duda el *Binning*."
   ]
  },
  {
   "cell_type": "markdown",
   "metadata": {},
   "source": [
    "## 4. Análisis de los datos<a name=\"data4\"></a>"
   ]
  },
  {
   "cell_type": "markdown",
   "metadata": {},
   "source": [
    "### 4.1. Selección de los grupos de datos que se quieren analizar/comparar (planificación de los análisis a aplicar)<a name=\"data41\"></a>"
   ]
  },
  {
   "cell_type": "code",
   "execution_count": 12,
   "metadata": {},
   "outputs": [
    {
     "name": "stdout",
     "output_type": "stream",
     "text": [
      "[1] \"Hombres:  531\"\n",
      "[1] \"Mujeres:  294\"\n",
      "[1] \"------------------------------------------------\"\n",
      "[1] \"Primer batch:  212\"\n",
      "[1] \"Segundo batch:  285\"\n",
      "[1] \"Tercero batch:  328\"\n",
      "[1] \"------------------------------------------------\"\n",
      "[1] \"Primera clase:  187\"\n",
      "[1] \"Segunda clase:  169\"\n",
      "[1] \"Tercera clase:  469\"\n"
     ]
    }
   ],
   "source": [
    "# Agrupación por sexo\n",
    "df.male <- df[df$Sex == \"male\",] \n",
    "df.female <- df[df$Sex == \"female\",] \n",
    "\n",
    "# Por Edad\n",
    "df.batch1 <- df[df$FareBin == \"1st\",] \n",
    "df.batch2 <- df[df$FareBin == \"2nd\",] \n",
    "df.batch3 <- df[df$FareBin == \"3rd\",] \n",
    "\n",
    "# Por Cabina\n",
    "df.first_class <- df[df$Pclass == 1,] \n",
    "df.second_class <- df[df$Pclass == 2,] \n",
    "df.third_class <- df[df$Pclass == 3,]\n",
    "\n",
    "print(paste(\"Hombres: \", nrow(df.male)))\n",
    "print(paste(\"Mujeres: \", nrow(df.female)))\n",
    "print(\"------------------------------------------------\")\n",
    "print(paste(\"Primer batch: \", nrow(df.batch1)))\n",
    "print(paste(\"Segundo batch: \", nrow(df.batch2)))\n",
    "print(paste(\"Tercero batch: \", nrow(df.batch3)))\n",
    "print(\"------------------------------------------------\")\n",
    "print(paste(\"Primera clase: \", nrow(df.first_class)))\n",
    "print(paste(\"Segunda clase: \", nrow(df.second_class)))\n",
    "print(paste(\"Tercera clase: \", nrow(df.third_class)))"
   ]
  },
  {
   "cell_type": "markdown",
   "metadata": {},
   "source": [
    "### 4.2. Comprobación de la normalidad y homogeneidad de la varianza<a name=\"data42\"></a>"
   ]
  },
  {
   "cell_type": "markdown",
   "metadata": {},
   "source": [
    "Honestamente, con el dataset y las informaciones que hemos elegido para trabajar (grande parte de ellas son categóricas), creo que las comprobaciones de varianza que se busca en el item 4.2 no se aplican para el escenario. Sin embargo, haré aún así algunas comprobaciones con el único atributo numérico y continuo que queda."
   ]
  },
  {
   "cell_type": "code",
   "execution_count": 13,
   "metadata": {
    "scrolled": false
   },
   "outputs": [
    {
     "data": {
      "text/plain": [
       "\n",
       "\tShapiro-Wilk normality test\n",
       "\n",
       "data:  df$Age\n",
       "W = 0.97057, p-value = 7.574e-12\n"
      ]
     },
     "metadata": {},
     "output_type": "display_data"
    },
    {
     "data": {
      "text/html": [
       "7.57412000537885e-12"
      ],
      "text/latex": [
       "7.57412000537885e-12"
      ],
      "text/markdown": [
       "7.57412000537885e-12"
      ],
      "text/plain": [
       "[1] 7.57412e-12"
      ]
     },
     "metadata": {},
     "output_type": "display_data"
    }
   ],
   "source": [
    "\n",
    "# H0: la muestra (de tamaño n) sigue una distribución normal\n",
    "# Se rechaza H0 si p value < alfa - ejemplo: alfa = 0.05\n",
    "# Si se aplica Shapiro (en toda la muestra)\n",
    "\n",
    "ST_A <- shapiro.test(df$Age)\n",
    "ST_A\n",
    "\n",
    "pvalue_A <- ST_A[[2]]\n",
    "pvalue_A"
   ]
  },
  {
   "cell_type": "markdown",
   "metadata": {},
   "source": [
    "En el test de Shapiro-Wilk, cuando P r(D) ≥ α entonces se acepta la hipótesis nula, existe\n",
    "normalidad. El valor p del test de Shapiro ha dado para Age 7.57. Por tanto, no se rechaza la hipótesis nula de normalidad. Asumimos que la muestra sigue una distribución normal."
   ]
  },
  {
   "cell_type": "markdown",
   "metadata": {},
   "source": [
    "### 4.3. Aplicación de pruebas estadísticas para comparar los grupos de datos. En función de los datos y el objetivo del estudio, aplicar pruebas de contraste de hipótesis, correlaciones, regresiones, etc.<a name=\"data43\"></a>"
   ]
  },
  {
   "cell_type": "code",
   "execution_count": 14,
   "metadata": {},
   "outputs": [
    {
     "data": {
      "text/html": [
       "<table>\n",
       "<thead><tr><th scope=col>Survived</th><th scope=col>Pclass</th><th scope=col>Name</th><th scope=col>Sex</th><th scope=col>Age</th><th scope=col>Fare</th><th scope=col>FareBin</th></tr></thead>\n",
       "<tbody>\n",
       "\t<tr><td>No                                                 </td><td>3                                                  </td><td>Braund, Mr. Owen Harris                            </td><td>male                                               </td><td>22.00000                                           </td><td> 7.2500                                            </td><td>3rd                                                </td></tr>\n",
       "\t<tr><td>Yes                                                </td><td>1                                                  </td><td>Cumings, Mrs. John Bradley (Florence Briggs Thayer)</td><td>female                                             </td><td>38.00000                                           </td><td>71.2833                                            </td><td>1st                                                </td></tr>\n",
       "\t<tr><td>Yes                                                </td><td>3                                                  </td><td>Heikkinen, Miss. Laina                             </td><td>female                                             </td><td>26.00000                                           </td><td> 7.9250                                            </td><td>3rd                                                </td></tr>\n",
       "\t<tr><td>Yes                                                </td><td>1                                                  </td><td>Futrelle, Mrs. Jacques Heath (Lily May Peel)       </td><td>female                                             </td><td>35.00000                                           </td><td>53.1000                                            </td><td>1st                                                </td></tr>\n",
       "\t<tr><td>No                                                 </td><td>3                                                  </td><td>Allen, Mr. William Henry                           </td><td>male                                               </td><td>35.00000                                           </td><td> 8.0500                                            </td><td>3rd                                                </td></tr>\n",
       "\t<tr><td>No                                                 </td><td>3                                                  </td><td>Moran, Mr. James                                   </td><td>male                                               </td><td>29.69912                                           </td><td> 8.4583                                            </td><td>3rd                                                </td></tr>\n",
       "</tbody>\n",
       "</table>\n"
      ],
      "text/latex": [
       "\\begin{tabular}{r|lllllll}\n",
       " Survived & Pclass & Name & Sex & Age & Fare & FareBin\\\\\n",
       "\\hline\n",
       "\t No                                                  & 3                                                   & Braund, Mr. Owen Harris                             & male                                                & 22.00000                                            &  7.2500                                             & 3rd                                                \\\\\n",
       "\t Yes                                                 & 1                                                   & Cumings, Mrs. John Bradley (Florence Briggs Thayer) & female                                              & 38.00000                                            & 71.2833                                             & 1st                                                \\\\\n",
       "\t Yes                                                 & 3                                                   & Heikkinen, Miss. Laina                              & female                                              & 26.00000                                            &  7.9250                                             & 3rd                                                \\\\\n",
       "\t Yes                                                 & 1                                                   & Futrelle, Mrs. Jacques Heath (Lily May Peel)        & female                                              & 35.00000                                            & 53.1000                                             & 1st                                                \\\\\n",
       "\t No                                                  & 3                                                   & Allen, Mr. William Henry                            & male                                                & 35.00000                                            &  8.0500                                             & 3rd                                                \\\\\n",
       "\t No                                                  & 3                                                   & Moran, Mr. James                                    & male                                                & 29.69912                                            &  8.4583                                             & 3rd                                                \\\\\n",
       "\\end{tabular}\n"
      ],
      "text/markdown": [
       "\n",
       "Survived | Pclass | Name | Sex | Age | Fare | FareBin | \n",
       "|---|---|---|---|---|---|\n",
       "| No                                                  | 3                                                   | Braund, Mr. Owen Harris                             | male                                                | 22.00000                                            |  7.2500                                             | 3rd                                                 | \n",
       "| Yes                                                 | 1                                                   | Cumings, Mrs. John Bradley (Florence Briggs Thayer) | female                                              | 38.00000                                            | 71.2833                                             | 1st                                                 | \n",
       "| Yes                                                 | 3                                                   | Heikkinen, Miss. Laina                              | female                                              | 26.00000                                            |  7.9250                                             | 3rd                                                 | \n",
       "| Yes                                                 | 1                                                   | Futrelle, Mrs. Jacques Heath (Lily May Peel)        | female                                              | 35.00000                                            | 53.1000                                             | 1st                                                 | \n",
       "| No                                                  | 3                                                   | Allen, Mr. William Henry                            | male                                                | 35.00000                                            |  8.0500                                             | 3rd                                                 | \n",
       "| No                                                  | 3                                                   | Moran, Mr. James                                    | male                                                | 29.69912                                            |  8.4583                                             | 3rd                                                 | \n",
       "\n",
       "\n"
      ],
      "text/plain": [
       "  Survived Pclass Name                                                Sex   \n",
       "1 No       3      Braund, Mr. Owen Harris                             male  \n",
       "2 Yes      1      Cumings, Mrs. John Bradley (Florence Briggs Thayer) female\n",
       "3 Yes      3      Heikkinen, Miss. Laina                              female\n",
       "4 Yes      1      Futrelle, Mrs. Jacques Heath (Lily May Peel)        female\n",
       "5 No       3      Allen, Mr. William Henry                            male  \n",
       "6 No       3      Moran, Mr. James                                    male  \n",
       "  Age      Fare    FareBin\n",
       "1 22.00000  7.2500 3rd    \n",
       "2 38.00000 71.2833 1st    \n",
       "3 26.00000  7.9250 3rd    \n",
       "4 35.00000 53.1000 1st    \n",
       "5 35.00000  8.0500 3rd    \n",
       "6 29.69912  8.4583 3rd    "
      ]
     },
     "metadata": {},
     "output_type": "display_data"
    }
   ],
   "source": [
    "head(df)"
   ]
  },
  {
   "cell_type": "code",
   "execution_count": 15,
   "metadata": {},
   "outputs": [
    {
     "data": {
      "text/plain": [
       " Pclass      Sex           Age       \n",
       " 1:147   female:232   Min.   : 3.00  \n",
       " 2:140   male  :428   1st Qu.:22.00  \n",
       " 3:373                Median :29.70  \n",
       "                      Mean   :28.78  \n",
       "                      3rd Qu.:33.25  \n",
       "                      Max.   :54.00  "
      ]
     },
     "metadata": {},
     "output_type": "display_data"
    },
    {
     "data": {
      "text/plain": [
       " Pclass     Sex           Age       \n",
       " 1:40   female: 62   Min.   : 3.00  \n",
       " 2:29   male  :103   1st Qu.:23.00  \n",
       " 3:96                Median :29.70  \n",
       "                     Mean   :29.28  \n",
       "                     3rd Qu.:34.50  \n",
       "                     Max.   :54.00  "
      ]
     },
     "metadata": {},
     "output_type": "display_data"
    },
    {
     "data": {
      "text/plain": [
       "\n",
       "Call:\n",
       "C5.0.default(x = xtrain, y = ytrain)\n",
       "\n",
       "\n",
       "C5.0 [Release 2.07 GPL Edition]  \tWed Jan  2 15:38:50 2019\n",
       "-------------------------------\n",
       "\n",
       "Class specified by attribute `outcome'\n",
       "\n",
       "Read 660 cases (4 attributes) from undefined.data\n",
       "\n",
       "Decision tree:\n",
       "\n",
       "Sex = male: No (428/82)\n",
       "Sex = female:\n",
       ":...Pclass in {1,2}: Yes (126/7)\n",
       "    Pclass = 3:\n",
       "    :...Age > 38: No (7)\n",
       "        Age <= 38:\n",
       "        :...Age <= 6: Yes (5)\n",
       "            Age > 6:\n",
       "            :...Age <= 14.5: No (7)\n",
       "                Age > 14.5: Yes (87/39)\n",
       "\n",
       "\n",
       "Evaluation on training data (660 cases):\n",
       "\n",
       "\t    Decision Tree   \n",
       "\t  ----------------  \n",
       "\t  Size      Errors  \n",
       "\n",
       "\t     6  128(19.4%)   <<\n",
       "\n",
       "\n",
       "\t   (a)   (b)    <-classified as\n",
       "\t  ----  ----\n",
       "\t   360    46    (a): class No\n",
       "\t    82   172    (b): class Yes\n",
       "\n",
       "\n",
       "\tAttribute usage:\n",
       "\n",
       "\t100.00%\tSex\n",
       "\t 35.15%\tPclass\n",
       "\t 16.06%\tAge\n",
       "\n",
       "\n",
       "Time: 0.0 secs\n"
      ]
     },
     "metadata": {},
     "output_type": "display_data"
    }
   ],
   "source": [
    "# Obtain train set (80%) and test set (20%)\n",
    "lines  <- nrow(df)\n",
    "\n",
    "ntrain <- round(lines * 0.8)      # number of training examples\n",
    "tindex <- sample(lines, ntrain)   # indices of training samples (random)\n",
    "xtrain <- df[tindex,2:6]          # data are in columns 2:6 - \"Pclass\", \"Sex\", \"Age\", \"FareBin\" (nombre va a ser eliminado abajo)\n",
    "xtest  <- df[-tindex,2:6]         # data are in columns 2:6 - \"Pclass\", \"Sex\", \"Age\", \"FareBin\" (nombre va a ser eliminado abajo)\n",
    "ytrain <- df[tindex,1]            # labels are in column 4 - \"SURVIVED\"\n",
    "ytest  <- df[-tindex,1]           # labels are in column 4 - \"SURVIVED\"\n",
    "\n",
    "xtrain$Name <- NULL\n",
    "xtest$Name <- NULL\n",
    "xtrain$Fare <- NULL\n",
    "xtest$Fare <- NULL\n",
    "\n",
    "summary(xtrain)\n",
    "summary(xtest)\n",
    "\n",
    "model_titanic <- C50::C5.0(xtrain, ytrain)\n",
    "summary(model_titanic)"
   ]
  },
  {
   "cell_type": "markdown",
   "metadata": {},
   "source": [
    "## 5. Representación de los resultados a partir de tablas y gráficas<a name=\"data5\"></a>"
   ]
  },
  {
   "cell_type": "code",
   "execution_count": 16,
   "metadata": {},
   "outputs": [
    {
     "name": "stdout",
     "output_type": "stream",
     "text": [
      "[1] \"La accuracy del modelo es:  0.842424242424242\"\n",
      "[1] \"El error del modelo es:  0.157575757575758\"\n"
     ]
    },
    {
     "data": {
      "text/plain": [
       "\n",
       "Call:\n",
       "C5.0.formula(formula = ytrain ~ ., data = xtrain, rules = TRUE)\n",
       "\n",
       "\n",
       "C5.0 [Release 2.07 GPL Edition]  \tWed Jan  2 15:38:50 2019\n",
       "-------------------------------\n",
       "\n",
       "Class specified by attribute `outcome'\n",
       "\n",
       "Read 660 cases (4 attributes) from undefined.data\n",
       "\n",
       "Rules:\n",
       "\n",
       "Rule 1: (7, lift 1.4)\n",
       "\tPclass = 3\n",
       "\tSex = female\n",
       "\tAge > 6\n",
       "\tAge <= 14.5\n",
       "\t->  class No  [0.889]\n",
       "\n",
       "Rule 2: (7, lift 1.4)\n",
       "\tPclass = 3\n",
       "\tSex = female\n",
       "\tAge > 38\n",
       "\t->  class No  [0.889]\n",
       "\n",
       "Rule 3: (428/82, lift 1.3)\n",
       "\tSex = male\n",
       "\t->  class No  [0.807]\n",
       "\n",
       "Rule 4: (232/60, lift 1.9)\n",
       "\tSex = female\n",
       "\t->  class Yes  [0.739]\n",
       "\n",
       "Default class: No\n",
       "\n",
       "\n",
       "Evaluation on training data (660 cases):\n",
       "\n",
       "\t        Rules     \n",
       "\t  ----------------\n",
       "\t    No      Errors\n",
       "\n",
       "\t     4  128(19.4%)   <<\n",
       "\n",
       "\n",
       "\t   (a)   (b)    <-classified as\n",
       "\t  ----  ----\n",
       "\t   360    46    (a): class No\n",
       "\t    82   172    (b): class Yes\n",
       "\n",
       "\n",
       "\tAttribute usage:\n",
       "\n",
       "\t100.00%\tSex\n",
       "\t  2.12%\tPclass\n",
       "\t  2.12%\tAge\n",
       "\n",
       "\n",
       "Time: 0.0 secs\n"
      ]
     },
     "metadata": {},
     "output_type": "display_data"
    },
    {
     "name": "stdout",
     "output_type": "stream",
     "text": [
      "id=\"See5/C5.0 2.07 GPL Edition 2019-01-02\"\n",
      "entries=\"1\"\n",
      "rules=\"4\" default=\"No\"\n",
      "conds=\"4\" cover=\"7\" ok=\"7\" lift=\"1.44499\" class=\"No\"\n",
      "type=\"1\" att=\"Pclass\" val=\"3\"\n",
      "type=\"1\" att=\"Sex\" val=\"female\"\n",
      "type=\"2\" att=\"Age\" cut=\"6\" result=\">\"\n",
      "type=\"2\" att=\"Age\" cut=\"14.5\" result=\"<\"\n",
      "conds=\"3\" cover=\"7\" ok=\"7\" lift=\"1.44499\" class=\"No\"\n",
      "type=\"1\" att=\"Pclass\" val=\"3\"\n",
      "type=\"1\" att=\"Sex\" val=\"female\"\n",
      "type=\"2\" att=\"Age\" cut=\"38\" result=\">\"\n",
      "conds=\"1\" cover=\"428\" ok=\"346\" lift=\"1.31183\" class=\"No\"\n",
      "type=\"1\" att=\"Sex\" val=\"male\"\n",
      "conds=\"1\" cover=\"232\" ok=\"172\" lift=\"1.92106\" class=\"Yes\"\n",
      "type=\"1\" att=\"Sex\" val=\"female\"\n"
     ]
    },
    {
     "data": {
      "image/png": "[encoded data removed]",
      "text/plain": [
       "plot without title"
      ]
     },
     "metadata": {},
     "output_type": "display_data"
    }
   ],
   "source": [
    "# MOSTRAR EL ARBOL OBTENIDO\n",
    "plot(model_titanic)\n",
    "\n",
    "estimated_ytest <- predict(model_titanic, xtest, type=\"class\")\n",
    "accuracy <- sum(ytest==estimated_ytest)/length(ytest)\n",
    "error <- 1- accuracy\n",
    "print(paste(\"La accuracy del modelo es: \", accuracy))\n",
    "print(paste(\"El error del modelo es: \", error))\n",
    "\n",
    "# Mirando las reglas del modelo\n",
    "mod <- C50::C5.0(ytrain ~ ., data = xtrain, rules = TRUE)\n",
    "summary(mod)\n",
    "cat(mod$rules)"
   ]
  },
  {
   "cell_type": "markdown",
   "metadata": {},
   "source": [
    "## 6. Resolución del problema. A partir de los resultados obtenidos, ¿cuáles son las conclusiones? ¿Los resultados permiten responder al problema?<a name=\"data6\"></a>\n"
   ]
  },
  {
   "cell_type": "markdown",
   "metadata": {},
   "source": [
    "Analizando nuestro gráfico de árbol, queda claro que independientemente de la clase del pasajero, si su sexo fuera \"**Hombre**\", su capacidad de sobrevivir era  más pequeña que de una mujer (probabilidad de los hombres como un todo alrededor de 20%).\n",
    "\n",
    "Es importante resaltar que al elegir las variables, la variable **PClass** tiene más peso sobre las otras (**Age** y **FareBin**). Los pasajeros de la primera y segunda clase tiene un porcentaje más alto de sobrevivir que la tercera. Dicho, si la pasajera de la 3a clase tiene más que 38 años, posiblemente no sobrevivirá. "
   ]
  },
  {
   "cell_type": "markdown",
   "metadata": {},
   "source": [
    "## 7. Código<a name=\"data7\"></a>"
   ]
  },
  {
   "cell_type": "markdown",
   "metadata": {},
   "source": [
    "Como he optado por hacer directamente en un Jupyter notebook, todos las partes del código estan presentes en este documento, sin embargo, en el repositorio de Github también es posible encontrar todos los archivos utilizados durante la práctica."
   ]
  },
  {
   "cell_type": "markdown",
   "metadata": {},
   "source": [
    "## 8. Referencias<a name=\"refer\"></a>\n",
    "\n",
    "**[1] Stanczyk, U.; Jain, L. C. (2014)**. *Feature Selection for Data and Pattern Recognition*. Springer.\n",
    "\n",
    "**[2] Sunil, R. (2016)**. *A Comprehensive Guide to Data Exploration*. Artículo en línea. https://www.analyticsvidhya.com/blog/2016/01/guide-data-exploration/ Accedido en 02 de Enero de 2019.\n"
   ]
  },
  {
   "cell_type": "markdown",
   "metadata": {},
   "source": []
  }
 ],
 "metadata": {
  "kernelspec": {
   "display_name": "R",
   "language": "R",
   "name": "ir"
  },
  "language_info": {
   "codemirror_mode": "r",
   "file_extension": ".r",
   "mimetype": "text/x-r-source",
   "name": "R",
   "pygments_lexer": "r",
   "version": "3.5.1"
  }
 },
 "nbformat": 4,
 "nbformat_minor": 2
}
