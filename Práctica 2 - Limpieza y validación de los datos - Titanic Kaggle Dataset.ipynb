{
 "cells": [
  {
   "cell_type": "markdown",
   "metadata": {},
   "source": [
    "<div style=\"width: 100%; clear: both;\">\n",
    "<div style=\"float: left; width: 50%;\">\n",
    "<img src=\"http://www.uoc.edu/portal/_resources/common/imatges/marca_UOC/UOC_Masterbrand.jpg\", align=\"left\">\n",
    "</div>\n",
    "<div style=\"float: right; width: 50%;\">\n",
    "<p style=\"margin: 0; padding-top: 22px; text-align:right;\">M2.851 - Tipología y ciclo de vida de los datos aula 1 · Práctica 1</p>\n",
    "<p style=\"margin: 0; text-align:right;\">2018 · Máster universitario en Ciencia de datos (Data science)</p>\n",
    "<p style=\"margin: 0; text-align:right;\">Prof. Colaboradora: <b>Mireia Calvo Gonzalez</b></p>\n",
    "<p style=\"margin: 0; text-align:right; padding-button: 100px;\">Alumno: <b>Fernando Antonio Barbeiro Campos</b> - <a href=\"\">fbarbeiro@uoc.edu</a></p>\n",
    "</div>\n",
    "</div>\n",
    "<div style=\"width:100%;\">&nbsp;</div>\n",
    "<center><h1>Práctica 2 - Limpieza y validación de los datos</h1></center>\n"
   ]
  },
  {
   "cell_type": "markdown",
   "metadata": {},
   "source": [
    "## 1. Dataset\n",
    "*Descripción del dataset. ¿Por qué es importante y qué pregunta/problema pretende responder?*"
   ]
  },
  {
   "cell_type": "markdown",
   "metadata": {},
   "source": [
    "He elegido el dataset [\"**Titanic: Machine Learning from Disaster**\" de Kagle](https://www.kaggle.com/c/titanic/overview). La información presente en el dataset són datos sobre cada pasajero del famoso naufragio, si la persona sobrevivió o no, su sexo, tipo de cabina que estaba, entre otros.\n",
    "\n",
    "Aunque hubo algún elemento de suerte involucrado en sobrevivir al hundimiento, algunos grupos de personas tenían más probabilidades de sobrevivir que otros, como las mujeres, los niños y la clase alta.\n",
    "\n",
    "Justamente, el problema que buscamos a contestar es precisamente esto: hacer el análisis de **¿qué tipos de personas podrían sobrevivir?**\n"
   ]
  },
  {
   "cell_type": "markdown",
   "metadata": {},
   "source": [
    "## 2. Integración y selección de los datos de interés a analizar"
   ]
  },
  {
   "cell_type": "markdown",
   "metadata": {},
   "source": [
    "Antes de empezar con la selección de los datos propiamente dicha, voy a buscar un poco más de información respeto al dataset."
   ]
  },
  {
   "cell_type": "code",
   "execution_count": 1,
   "metadata": {},
   "outputs": [
    {
     "name": "stdout",
     "output_type": "stream",
     "text": [
      "[1] \"File has an English format\"\n"
     ]
    }
   ],
   "source": [
    "# Objetivo: Asegurar que estamos trabajando con el formato en ingles separado por comas\n",
    "L <- readLines(\"train.csv\", n = 1)\n",
    "if (grepl(\",\", L)) print(\"File has an English format\")"
   ]
  },
  {
   "cell_type": "code",
   "execution_count": 2,
   "metadata": {
    "scrolled": true
   },
   "outputs": [
    {
     "data": {
      "text/html": [
       "<table>\n",
       "<thead><tr><th scope=col>PassengerId</th><th scope=col>Survived</th><th scope=col>Pclass</th><th scope=col>Name</th><th scope=col>Sex</th><th scope=col>Age</th><th scope=col>SibSp</th><th scope=col>Parch</th><th scope=col>Ticket</th><th scope=col>Fare</th><th scope=col>Cabin</th><th scope=col>Embarked</th></tr></thead>\n",
       "<tbody>\n",
       "\t<tr><td>1                                                  </td><td>0                                                  </td><td>3                                                  </td><td>Braund, Mr. Owen Harris                            </td><td>male                                               </td><td>22                                                 </td><td>1                                                  </td><td>0                                                  </td><td>A/5 21171                                          </td><td> 7.2500                                            </td><td>                                                   </td><td>S                                                  </td></tr>\n",
       "\t<tr><td>2                                                  </td><td>1                                                  </td><td>1                                                  </td><td>Cumings, Mrs. John Bradley (Florence Briggs Thayer)</td><td>female                                             </td><td>38                                                 </td><td>1                                                  </td><td>0                                                  </td><td>PC 17599                                           </td><td>71.2833                                            </td><td>C85                                                </td><td>C                                                  </td></tr>\n",
       "\t<tr><td>3                                                  </td><td>1                                                  </td><td>3                                                  </td><td>Heikkinen, Miss. Laina                             </td><td>female                                             </td><td>26                                                 </td><td>0                                                  </td><td>0                                                  </td><td>STON/O2. 3101282                                   </td><td> 7.9250                                            </td><td>                                                   </td><td>S                                                  </td></tr>\n",
       "\t<tr><td>4                                                  </td><td>1                                                  </td><td>1                                                  </td><td>Futrelle, Mrs. Jacques Heath (Lily May Peel)       </td><td>female                                             </td><td>35                                                 </td><td>1                                                  </td><td>0                                                  </td><td>113803                                             </td><td>53.1000                                            </td><td>C123                                               </td><td>S                                                  </td></tr>\n",
       "\t<tr><td>5                                                  </td><td>0                                                  </td><td>3                                                  </td><td>Allen, Mr. William Henry                           </td><td>male                                               </td><td>35                                                 </td><td>0                                                  </td><td>0                                                  </td><td>373450                                             </td><td> 8.0500                                            </td><td>                                                   </td><td>S                                                  </td></tr>\n",
       "\t<tr><td>6                                                  </td><td>0                                                  </td><td>3                                                  </td><td>Moran, Mr. James                                   </td><td>male                                               </td><td>NA                                                 </td><td>0                                                  </td><td>0                                                  </td><td>330877                                             </td><td> 8.4583                                            </td><td>                                                   </td><td>Q                                                  </td></tr>\n",
       "</tbody>\n",
       "</table>\n"
      ],
      "text/latex": [
       "\\begin{tabular}{r|llllllllllll}\n",
       " PassengerId & Survived & Pclass & Name & Sex & Age & SibSp & Parch & Ticket & Fare & Cabin & Embarked\\\\\n",
       "\\hline\n",
       "\t 1                                                   & 0                                                   & 3                                                   & Braund, Mr. Owen Harris                             & male                                                & 22                                                  & 1                                                   & 0                                                   & A/5 21171                                           &  7.2500                                             &                                                     & S                                                  \\\\\n",
       "\t 2                                                   & 1                                                   & 1                                                   & Cumings, Mrs. John Bradley (Florence Briggs Thayer) & female                                              & 38                                                  & 1                                                   & 0                                                   & PC 17599                                            & 71.2833                                             & C85                                                 & C                                                  \\\\\n",
       "\t 3                                                   & 1                                                   & 3                                                   & Heikkinen, Miss. Laina                              & female                                              & 26                                                  & 0                                                   & 0                                                   & STON/O2. 3101282                                    &  7.9250                                             &                                                     & S                                                  \\\\\n",
       "\t 4                                                   & 1                                                   & 1                                                   & Futrelle, Mrs. Jacques Heath (Lily May Peel)        & female                                              & 35                                                  & 1                                                   & 0                                                   & 113803                                              & 53.1000                                             & C123                                                & S                                                  \\\\\n",
       "\t 5                                                   & 0                                                   & 3                                                   & Allen, Mr. William Henry                            & male                                                & 35                                                  & 0                                                   & 0                                                   & 373450                                              &  8.0500                                             &                                                     & S                                                  \\\\\n",
       "\t 6                                                   & 0                                                   & 3                                                   & Moran, Mr. James                                    & male                                                & NA                                                  & 0                                                   & 0                                                   & 330877                                              &  8.4583                                             &                                                     & Q                                                  \\\\\n",
       "\\end{tabular}\n"
      ],
      "text/markdown": [
       "\n",
       "PassengerId | Survived | Pclass | Name | Sex | Age | SibSp | Parch | Ticket | Fare | Cabin | Embarked | \n",
       "|---|---|---|---|---|---|\n",
       "| 1                                                   | 0                                                   | 3                                                   | Braund, Mr. Owen Harris                             | male                                                | 22                                                  | 1                                                   | 0                                                   | A/5 21171                                           |  7.2500                                             |                                                     | S                                                   | \n",
       "| 2                                                   | 1                                                   | 1                                                   | Cumings, Mrs. John Bradley (Florence Briggs Thayer) | female                                              | 38                                                  | 1                                                   | 0                                                   | PC 17599                                            | 71.2833                                             | C85                                                 | C                                                   | \n",
       "| 3                                                   | 1                                                   | 3                                                   | Heikkinen, Miss. Laina                              | female                                              | 26                                                  | 0                                                   | 0                                                   | STON/O2. 3101282                                    |  7.9250                                             |                                                     | S                                                   | \n",
       "| 4                                                   | 1                                                   | 1                                                   | Futrelle, Mrs. Jacques Heath (Lily May Peel)        | female                                              | 35                                                  | 1                                                   | 0                                                   | 113803                                              | 53.1000                                             | C123                                                | S                                                   | \n",
       "| 5                                                   | 0                                                   | 3                                                   | Allen, Mr. William Henry                            | male                                                | 35                                                  | 0                                                   | 0                                                   | 373450                                              |  8.0500                                             |                                                     | S                                                   | \n",
       "| 6                                                   | 0                                                   | 3                                                   | Moran, Mr. James                                    | male                                                | NA                                                  | 0                                                   | 0                                                   | 330877                                              |  8.4583                                             |                                                     | Q                                                   | \n",
       "\n",
       "\n"
      ],
      "text/plain": [
       "  PassengerId Survived Pclass\n",
       "1 1           0        3     \n",
       "2 2           1        1     \n",
       "3 3           1        3     \n",
       "4 4           1        1     \n",
       "5 5           0        3     \n",
       "6 6           0        3     \n",
       "  Name                                                Sex    Age SibSp Parch\n",
       "1 Braund, Mr. Owen Harris                             male   22  1     0    \n",
       "2 Cumings, Mrs. John Bradley (Florence Briggs Thayer) female 38  1     0    \n",
       "3 Heikkinen, Miss. Laina                              female 26  0     0    \n",
       "4 Futrelle, Mrs. Jacques Heath (Lily May Peel)        female 35  1     0    \n",
       "5 Allen, Mr. William Henry                            male   35  0     0    \n",
       "6 Moran, Mr. James                                    male   NA  0     0    \n",
       "  Ticket           Fare    Cabin Embarked\n",
       "1 A/5 21171         7.2500       S       \n",
       "2 PC 17599         71.2833 C85   C       \n",
       "3 STON/O2. 3101282  7.9250       S       \n",
       "4 113803           53.1000 C123  S       \n",
       "5 373450            8.0500       S       \n",
       "6 330877            8.4583       Q       "
      ]
     },
     "metadata": {},
     "output_type": "display_data"
    },
    {
     "name": "stdout",
     "output_type": "stream",
     "text": [
      "[1] \"We are evaluating 891 rows of code\"\n",
      "[1] \"Column's names: \"\n"
     ]
    },
    {
     "data": {
      "text/html": [
       "<ol class=list-inline>\n",
       "\t<li>'PassengerId'</li>\n",
       "\t<li>'Survived'</li>\n",
       "\t<li>'Pclass'</li>\n",
       "\t<li>'Name'</li>\n",
       "\t<li>'Sex'</li>\n",
       "\t<li>'Age'</li>\n",
       "\t<li>'SibSp'</li>\n",
       "\t<li>'Parch'</li>\n",
       "\t<li>'Ticket'</li>\n",
       "\t<li>'Fare'</li>\n",
       "\t<li>'Cabin'</li>\n",
       "\t<li>'Embarked'</li>\n",
       "</ol>\n"
      ],
      "text/latex": [
       "\\begin{enumerate*}\n",
       "\\item 'PassengerId'\n",
       "\\item 'Survived'\n",
       "\\item 'Pclass'\n",
       "\\item 'Name'\n",
       "\\item 'Sex'\n",
       "\\item 'Age'\n",
       "\\item 'SibSp'\n",
       "\\item 'Parch'\n",
       "\\item 'Ticket'\n",
       "\\item 'Fare'\n",
       "\\item 'Cabin'\n",
       "\\item 'Embarked'\n",
       "\\end{enumerate*}\n"
      ],
      "text/markdown": [
       "1. 'PassengerId'\n",
       "2. 'Survived'\n",
       "3. 'Pclass'\n",
       "4. 'Name'\n",
       "5. 'Sex'\n",
       "6. 'Age'\n",
       "7. 'SibSp'\n",
       "8. 'Parch'\n",
       "9. 'Ticket'\n",
       "10. 'Fare'\n",
       "11. 'Cabin'\n",
       "12. 'Embarked'\n",
       "\n",
       "\n"
      ],
      "text/plain": [
       " [1] \"PassengerId\" \"Survived\"    \"Pclass\"      \"Name\"        \"Sex\"        \n",
       " [6] \"Age\"         \"SibSp\"       \"Parch\"       \"Ticket\"      \"Fare\"       \n",
       "[11] \"Cabin\"       \"Embarked\"   "
      ]
     },
     "metadata": {},
     "output_type": "display_data"
    },
    {
     "data": {
      "text/html": [
       "<dl class=dl-horizontal>\n",
       "\t<dt>PassengerId</dt>\n",
       "\t\t<dd>'integer'</dd>\n",
       "\t<dt>Survived</dt>\n",
       "\t\t<dd>'integer'</dd>\n",
       "\t<dt>Pclass</dt>\n",
       "\t\t<dd>'integer'</dd>\n",
       "\t<dt>Name</dt>\n",
       "\t\t<dd>'factor'</dd>\n",
       "\t<dt>Sex</dt>\n",
       "\t\t<dd>'factor'</dd>\n",
       "\t<dt>Age</dt>\n",
       "\t\t<dd>'numeric'</dd>\n",
       "\t<dt>SibSp</dt>\n",
       "\t\t<dd>'integer'</dd>\n",
       "\t<dt>Parch</dt>\n",
       "\t\t<dd>'integer'</dd>\n",
       "\t<dt>Ticket</dt>\n",
       "\t\t<dd>'factor'</dd>\n",
       "\t<dt>Fare</dt>\n",
       "\t\t<dd>'numeric'</dd>\n",
       "\t<dt>Cabin</dt>\n",
       "\t\t<dd>'factor'</dd>\n",
       "\t<dt>Embarked</dt>\n",
       "\t\t<dd>'factor'</dd>\n",
       "</dl>\n"
      ],
      "text/latex": [
       "\\begin{description*}\n",
       "\\item[PassengerId] 'integer'\n",
       "\\item[Survived] 'integer'\n",
       "\\item[Pclass] 'integer'\n",
       "\\item[Name] 'factor'\n",
       "\\item[Sex] 'factor'\n",
       "\\item[Age] 'numeric'\n",
       "\\item[SibSp] 'integer'\n",
       "\\item[Parch] 'integer'\n",
       "\\item[Ticket] 'factor'\n",
       "\\item[Fare] 'numeric'\n",
       "\\item[Cabin] 'factor'\n",
       "\\item[Embarked] 'factor'\n",
       "\\end{description*}\n"
      ],
      "text/markdown": [
       "PassengerId\n",
       ":   'integer'Survived\n",
       ":   'integer'Pclass\n",
       ":   'integer'Name\n",
       ":   'factor'Sex\n",
       ":   'factor'Age\n",
       ":   'numeric'SibSp\n",
       ":   'integer'Parch\n",
       ":   'integer'Ticket\n",
       ":   'factor'Fare\n",
       ":   'numeric'Cabin\n",
       ":   'factor'Embarked\n",
       ":   'factor'\n",
       "\n"
      ],
      "text/plain": [
       "PassengerId    Survived      Pclass        Name         Sex         Age \n",
       "  \"integer\"   \"integer\"   \"integer\"    \"factor\"    \"factor\"   \"numeric\" \n",
       "      SibSp       Parch      Ticket        Fare       Cabin    Embarked \n",
       "  \"integer\"   \"integer\"    \"factor\"   \"numeric\"    \"factor\"    \"factor\" "
      ]
     },
     "metadata": {},
     "output_type": "display_data"
    },
    {
     "name": "stdout",
     "output_type": "stream",
     "text": [
      "'data.frame':\t891 obs. of  12 variables:\n",
      " $ PassengerId: int  1 2 3 4 5 6 7 8 9 10 ...\n",
      " $ Survived   : int  0 1 1 1 0 0 0 0 1 1 ...\n",
      " $ Pclass     : int  3 1 3 1 3 3 1 3 3 2 ...\n",
      " $ Name       : Factor w/ 891 levels \"Abbing, Mr. Anthony\",..: 109 191 358 277 16 559 520 629 417 581 ...\n",
      " $ Sex        : Factor w/ 2 levels \"female\",\"male\": 2 1 1 1 2 2 2 2 1 1 ...\n",
      " $ Age        : num  22 38 26 35 35 NA 54 2 27 14 ...\n",
      " $ SibSp      : int  1 1 0 1 0 0 0 3 0 1 ...\n",
      " $ Parch      : int  0 0 0 0 0 0 0 1 2 0 ...\n",
      " $ Ticket     : Factor w/ 681 levels \"110152\",\"110413\",..: 524 597 670 50 473 276 86 396 345 133 ...\n",
      " $ Fare       : num  7.25 71.28 7.92 53.1 8.05 ...\n",
      " $ Cabin      : Factor w/ 148 levels \"\",\"A10\",\"A14\",..: 1 83 1 57 1 1 131 1 1 1 ...\n",
      " $ Embarked   : Factor w/ 4 levels \"\",\"C\",\"Q\",\"S\": 4 2 4 4 4 3 4 4 4 2 ...\n"
     ]
    },
    {
     "data": {
      "text/plain": [
       "  PassengerId       Survived          Pclass     \n",
       " Min.   :  1.0   Min.   :0.0000   Min.   :1.000  \n",
       " 1st Qu.:223.5   1st Qu.:0.0000   1st Qu.:2.000  \n",
       " Median :446.0   Median :0.0000   Median :3.000  \n",
       " Mean   :446.0   Mean   :0.3838   Mean   :2.309  \n",
       " 3rd Qu.:668.5   3rd Qu.:1.0000   3rd Qu.:3.000  \n",
       " Max.   :891.0   Max.   :1.0000   Max.   :3.000  \n",
       "                                                 \n",
       "                                    Name         Sex           Age       \n",
       " Abbing, Mr. Anthony                  :  1   female:314   Min.   : 0.42  \n",
       " Abbott, Mr. Rossmore Edward          :  1   male  :577   1st Qu.:20.12  \n",
       " Abbott, Mrs. Stanton (Rosa Hunt)     :  1                Median :28.00  \n",
       " Abelson, Mr. Samuel                  :  1                Mean   :29.70  \n",
       " Abelson, Mrs. Samuel (Hannah Wizosky):  1                3rd Qu.:38.00  \n",
       " Adahl, Mr. Mauritz Nils Martin       :  1                Max.   :80.00  \n",
       " (Other)                              :885                NA's   :177    \n",
       "     SibSp           Parch             Ticket         Fare       \n",
       " Min.   :0.000   Min.   :0.0000   1601    :  7   Min.   :  0.00  \n",
       " 1st Qu.:0.000   1st Qu.:0.0000   347082  :  7   1st Qu.:  7.91  \n",
       " Median :0.000   Median :0.0000   CA. 2343:  7   Median : 14.45  \n",
       " Mean   :0.523   Mean   :0.3816   3101295 :  6   Mean   : 32.20  \n",
       " 3rd Qu.:1.000   3rd Qu.:0.0000   347088  :  6   3rd Qu.: 31.00  \n",
       " Max.   :8.000   Max.   :6.0000   CA 2144 :  6   Max.   :512.33  \n",
       "                                  (Other) :852                   \n",
       "         Cabin     Embarked\n",
       "            :687    :  2   \n",
       " B96 B98    :  4   C:168   \n",
       " C23 C25 C27:  4   Q: 77   \n",
       " G6         :  4   S:644   \n",
       " C22 C26    :  3           \n",
       " D          :  3           \n",
       " (Other)    :186           "
      ]
     },
     "metadata": {},
     "output_type": "display_data"
    }
   ],
   "source": [
    "# Como estamos trabajando con ficheros separados por commas, vamos a mirar un poco de datos\n",
    "df <- read.csv(\"train.csv\")\n",
    "head(df)\n",
    "\n",
    "# Mirando los nombres de columnas del dataframe y los tipos de variables\n",
    "print(paste(\"We are evaluating\", nrow(df), \"rows of code\"))\n",
    "print(\"Column's names: \")\n",
    "colnames(df)\n",
    "sapply(df,class)\n",
    "str(df)\n",
    "summary(df)"
   ]
  },
  {
   "cell_type": "markdown",
   "metadata": {},
   "source": [
    "Ahora que tenemos un poco más de información sobre el dataset, detectamos que algunas de las columnas no aportan mucho para el tipo de conocimiento que necesitamos recolectar. Por ejemplo, el número del *ticket* de cada persona es bastante irrelevante para extraer un modelo y predecir si la persona ha sobrevivido o no. Dicho, con el intuito de obtener un modelo significativo, he elegido los siguientes atributos para el analisis:\n",
    "- *Survived*\n",
    "- *Pclass*\n",
    "- *Name*\n",
    "- *Sex*\n",
    "- *Age*\n",
    "\n",
    "Queda claro que el atributo **Name** tampoco es relevante, pero mantuve por si acaso necesito explicar o hacer alguna comparación de pasajeros (será más sencillo identificar las personas por sus nombres). \n",
    "\n",
    "Definidos los atributos, antes de seguir para el próximo ejercício, hago la selección de los datos que vamos a trabajar abajo."
   ]
  },
  {
   "cell_type": "code",
   "execution_count": 3,
   "metadata": {},
   "outputs": [
    {
     "data": {
      "text/html": [
       "<table>\n",
       "<thead><tr><th scope=col>Survived</th><th scope=col>Pclass</th><th scope=col>Name</th><th scope=col>Sex</th><th scope=col>Age</th></tr></thead>\n",
       "<tbody>\n",
       "\t<tr><td>0                                                  </td><td>3                                                  </td><td>Braund, Mr. Owen Harris                            </td><td>male                                               </td><td>22                                                 </td></tr>\n",
       "\t<tr><td>1                                                  </td><td>1                                                  </td><td>Cumings, Mrs. John Bradley (Florence Briggs Thayer)</td><td>female                                             </td><td>38                                                 </td></tr>\n",
       "\t<tr><td>1                                                  </td><td>3                                                  </td><td>Heikkinen, Miss. Laina                             </td><td>female                                             </td><td>26                                                 </td></tr>\n",
       "\t<tr><td>1                                                  </td><td>1                                                  </td><td>Futrelle, Mrs. Jacques Heath (Lily May Peel)       </td><td>female                                             </td><td>35                                                 </td></tr>\n",
       "\t<tr><td>0                                                  </td><td>3                                                  </td><td>Allen, Mr. William Henry                           </td><td>male                                               </td><td>35                                                 </td></tr>\n",
       "\t<tr><td>0                                                  </td><td>3                                                  </td><td>Moran, Mr. James                                   </td><td>male                                               </td><td>NA                                                 </td></tr>\n",
       "</tbody>\n",
       "</table>\n"
      ],
      "text/latex": [
       "\\begin{tabular}{r|lllll}\n",
       " Survived & Pclass & Name & Sex & Age\\\\\n",
       "\\hline\n",
       "\t 0                                                   & 3                                                   & Braund, Mr. Owen Harris                             & male                                                & 22                                                 \\\\\n",
       "\t 1                                                   & 1                                                   & Cumings, Mrs. John Bradley (Florence Briggs Thayer) & female                                              & 38                                                 \\\\\n",
       "\t 1                                                   & 3                                                   & Heikkinen, Miss. Laina                              & female                                              & 26                                                 \\\\\n",
       "\t 1                                                   & 1                                                   & Futrelle, Mrs. Jacques Heath (Lily May Peel)        & female                                              & 35                                                 \\\\\n",
       "\t 0                                                   & 3                                                   & Allen, Mr. William Henry                            & male                                                & 35                                                 \\\\\n",
       "\t 0                                                   & 3                                                   & Moran, Mr. James                                    & male                                                & NA                                                 \\\\\n",
       "\\end{tabular}\n"
      ],
      "text/markdown": [
       "\n",
       "Survived | Pclass | Name | Sex | Age | \n",
       "|---|---|---|---|---|---|\n",
       "| 0                                                   | 3                                                   | Braund, Mr. Owen Harris                             | male                                                | 22                                                  | \n",
       "| 1                                                   | 1                                                   | Cumings, Mrs. John Bradley (Florence Briggs Thayer) | female                                              | 38                                                  | \n",
       "| 1                                                   | 3                                                   | Heikkinen, Miss. Laina                              | female                                              | 26                                                  | \n",
       "| 1                                                   | 1                                                   | Futrelle, Mrs. Jacques Heath (Lily May Peel)        | female                                              | 35                                                  | \n",
       "| 0                                                   | 3                                                   | Allen, Mr. William Henry                            | male                                                | 35                                                  | \n",
       "| 0                                                   | 3                                                   | Moran, Mr. James                                    | male                                                | NA                                                  | \n",
       "\n",
       "\n"
      ],
      "text/plain": [
       "  Survived Pclass Name                                                Sex   \n",
       "1 0        3      Braund, Mr. Owen Harris                             male  \n",
       "2 1        1      Cumings, Mrs. John Bradley (Florence Briggs Thayer) female\n",
       "3 1        3      Heikkinen, Miss. Laina                              female\n",
       "4 1        1      Futrelle, Mrs. Jacques Heath (Lily May Peel)        female\n",
       "5 0        3      Allen, Mr. William Henry                            male  \n",
       "6 0        3      Moran, Mr. James                                    male  \n",
       "  Age\n",
       "1 22 \n",
       "2 38 \n",
       "3 26 \n",
       "4 35 \n",
       "5 35 \n",
       "6 NA "
      ]
     },
     "metadata": {},
     "output_type": "display_data"
    }
   ],
   "source": [
    "df <- df[,2:6] \n",
    "head(df)"
   ]
  },
  {
   "cell_type": "markdown",
   "metadata": {},
   "source": [
    "## 3. Limpieza de los datos"
   ]
  },
  {
   "cell_type": "markdown",
   "metadata": {},
   "source": [
    "### 3.1. ¿Los datos contienen ceros o elementos vacíos? ¿Cómo gestionarías cada uno de estos casos?"
   ]
  },
  {
   "cell_type": "code",
   "execution_count": 4,
   "metadata": {},
   "outputs": [
    {
     "data": {
      "text/html": [
       "<dl class=dl-horizontal>\n",
       "\t<dt>Survived</dt>\n",
       "\t\t<dd>FALSE</dd>\n",
       "\t<dt>Pclass</dt>\n",
       "\t\t<dd>FALSE</dd>\n",
       "\t<dt>Name</dt>\n",
       "\t\t<dd>FALSE</dd>\n",
       "\t<dt>Sex</dt>\n",
       "\t\t<dd>FALSE</dd>\n",
       "\t<dt>Age</dt>\n",
       "\t\t<dd>TRUE</dd>\n",
       "</dl>\n"
      ],
      "text/latex": [
       "\\begin{description*}\n",
       "\\item[Survived] FALSE\n",
       "\\item[Pclass] FALSE\n",
       "\\item[Name] FALSE\n",
       "\\item[Sex] FALSE\n",
       "\\item[Age] TRUE\n",
       "\\end{description*}\n"
      ],
      "text/markdown": [
       "Survived\n",
       ":   FALSEPclass\n",
       ":   FALSEName\n",
       ":   FALSESex\n",
       ":   FALSEAge\n",
       ":   TRUE\n",
       "\n"
      ],
      "text/plain": [
       "Survived   Pclass     Name      Sex      Age \n",
       "   FALSE    FALSE    FALSE    FALSE     TRUE "
      ]
     },
     "metadata": {},
     "output_type": "display_data"
    },
    {
     "data": {
      "text/html": [
       "714"
      ],
      "text/latex": [
       "714"
      ],
      "text/markdown": [
       "714"
      ],
      "text/plain": [
       "[1] 714"
      ]
     },
     "metadata": {},
     "output_type": "display_data"
    },
    {
     "data": {
      "text/html": [
       "<dl class=dl-horizontal>\n",
       "\t<dt>Survived</dt>\n",
       "\t\t<dd>FALSE</dd>\n",
       "\t<dt>Pclass</dt>\n",
       "\t\t<dd>FALSE</dd>\n",
       "\t<dt>Name</dt>\n",
       "\t\t<dd>FALSE</dd>\n",
       "\t<dt>Sex</dt>\n",
       "\t\t<dd>FALSE</dd>\n",
       "\t<dt>Age</dt>\n",
       "\t\t<dd>FALSE</dd>\n",
       "</dl>\n"
      ],
      "text/latex": [
       "\\begin{description*}\n",
       "\\item[Survived] FALSE\n",
       "\\item[Pclass] FALSE\n",
       "\\item[Name] FALSE\n",
       "\\item[Sex] FALSE\n",
       "\\item[Age] FALSE\n",
       "\\end{description*}\n"
      ],
      "text/markdown": [
       "Survived\n",
       ":   FALSEPclass\n",
       ":   FALSEName\n",
       ":   FALSESex\n",
       ":   FALSEAge\n",
       ":   FALSE\n",
       "\n"
      ],
      "text/plain": [
       "Survived   Pclass     Name      Sex      Age \n",
       "   FALSE    FALSE    FALSE    FALSE    FALSE "
      ]
     },
     "metadata": {},
     "output_type": "display_data"
    },
    {
     "data": {
      "text/html": [
       "891"
      ],
      "text/latex": [
       "891"
      ],
      "text/markdown": [
       "891"
      ],
      "text/plain": [
       "[1] 891"
      ]
     },
     "metadata": {},
     "output_type": "display_data"
    }
   ],
   "source": [
    "# Como resultado del comando abajo, podemos ver que solamente Age tiene elementos NA\n",
    "unlist(lapply(df, function(x) any(is.na(x))))\n",
    "\n",
    "# Abajo comentaré las aproximaciones posibles para el escenario y la adoptada              \n",
    "df_no_NA <- df[rowSums(is.na(df)) == 0,]\n",
    "nrow(df_no_NA)\n",
    "options(warn=-1)             \n",
    "for(i in 1:ncol(df)){\n",
    "  df[is.na(df[,i]), i] <- mean(df[,i], na.rm = TRUE)\n",
    "}\n",
    "options(warn=0)          \n",
    "unlist(lapply(df, function(x) any(is.na(x))))\n",
    "nrow(df)"
   ]
  },
  {
   "cell_type": "markdown",
   "metadata": {},
   "source": [
    "### 3.2. Identificación y tratamiento de valores extremos"
   ]
  },
  {
   "cell_type": "markdown",
   "metadata": {},
   "source": [
    "## 4. Análisis de los datos"
   ]
  },
  {
   "cell_type": "markdown",
   "metadata": {},
   "source": [
    "### 4.1. Selección de los grupos de datos que se quieren analizar/comparar (planificación de los análisis a aplicar)"
   ]
  },
  {
   "cell_type": "markdown",
   "metadata": {},
   "source": [
    "### 4.2. Comprobación de la normalidad y homogeneidad de la varianza"
   ]
  },
  {
   "cell_type": "markdown",
   "metadata": {},
   "source": [
    "### 4.3. Aplicación de pruebas estadísticas para comparar los grupos de datos. En función de los datos y el objetivo del estudio, aplicar pruebas de contraste de hipótesis, correlaciones, regresiones, etc."
   ]
  },
  {
   "cell_type": "markdown",
   "metadata": {},
   "source": [
    "## 5. Representación de los resultados a partir de tablas y gráficas"
   ]
  },
  {
   "cell_type": "markdown",
   "metadata": {},
   "source": [
    "## 6. Resolución del problema. A partir de los resultados obtenidos, ¿cuáles son las conclusiones? ¿Los resultados permiten responder al problema?\n"
   ]
  },
  {
   "cell_type": "markdown",
   "metadata": {},
   "source": [
    "## 7. Código"
   ]
  },
  {
   "cell_type": "markdown",
   "metadata": {},
   "source": []
  }
 ],
 "metadata": {
  "kernelspec": {
   "display_name": "R",
   "language": "R",
   "name": "ir"
  },
  "language_info": {
   "codemirror_mode": "r",
   "file_extension": ".r",
   "mimetype": "text/x-r-source",
   "name": "R",
   "pygments_lexer": "r",
   "version": "3.4.4"
  }
 },
 "nbformat": 4,
 "nbformat_minor": 2
}
