{
 "cells": [
  {
   "cell_type": "markdown",
   "metadata": {},
   "source": [
    "<div style=\"width: 100%; clear: both;\">\n",
    "<div style=\"float: left; width: 50%;\">\n",
    "<img src=\"http://www.uoc.edu/portal/_resources/common/imatges/marca_UOC/UOC_Masterbrand.jpg\", align=\"left\">\n",
    "</div>\n",
    "<div style=\"float: right; width: 50%;\">\n",
    "<p style=\"margin: 0; padding-top: 22px; text-align:right;\">M2.851 - Tipología y ciclo de vida de los datos aula 1 · Práctica 1</p>\n",
    "<p style=\"margin: 0; text-align:right;\">2018 · Máster universitario en Ciencia de datos (Data science)</p>\n",
    "<p style=\"margin: 0; text-align:right;\">Prof. Colaboradora: <b>Mireia Calvo Gonzalez</b></p>\n",
    "<p style=\"margin: 0; text-align:right; padding-button: 100px;\">Alumno: <b>Fernando Antonio Barbeiro Campos</b> - <a href=\"\">fbarbeiro@uoc.edu</a></p>\n",
    "</div>\n",
    "</div>\n",
    "<div style=\"width:100%;\">&nbsp;</div>\n",
    "<center><h1>Práctica 2 - Limpieza y validación de los datos</h1></center>\n"
   ]
  },
  {
   "cell_type": "markdown",
   "metadata": {},
   "source": [
    "# Contenidos\n",
    "\n",
    "1. [Dataset](#data1)\n",
    "\n",
    "2. [Integración y selección de los datos de interés a analizar.](#data2)\n",
    "\n",
    "3. [Limpieza de los datos.](#data3)\n",
    "    \n",
    "    3.1. [¿Los datos contienen ceros o elementos vacíos? ¿Cómo gestionarías cada uno de estos casos?](#data31)\n",
    "    \n",
    "    3.2. [Identificación y tratamiento de valores extremos.](#data32)\n",
    "    \n",
    "    \n",
    "4. [Análisis de los datos.](#data4)\n",
    "\n",
    "    4.1. [Selección de los grupos de datos que se quieren analizar/comparar (planificación de los análisis a aplicar).](#data41)\n",
    "    \n",
    "    4.2. [Comprobación de la normalidad y homogeneidad de la varianza.](#data42)\n",
    "    \n",
    "    4.3. [Aplicación de pruebas estadísticas para comparar los grupos de datos. En función de los datos y el objetivo del estudio, aplicar pruebas de contraste de hipótesis, correlaciones, regresiones, etc.](#data43)\n",
    "    \n",
    "    \n",
    "5. [Representación de los resultados a partir de tablas y gráficas.](#data5)\n",
    "\n",
    "6. [Resolución del problema. A partir de los resultados obtenidos, ¿cuáles son las conclusiones? ¿Los resultados permiten responder al problema?](#data6)\n",
    "\n",
    "7. [Código](#data7)"
   ]
  },
  {
   "cell_type": "markdown",
   "metadata": {},
   "source": [
    "## 1. Dataset <a name=\"data1\"></a>\n",
    "*Descripción del dataset. ¿Por qué es importante y qué pregunta/problema pretende responder?*"
   ]
  },
  {
   "cell_type": "markdown",
   "metadata": {},
   "source": [
    "He elegido el dataset [\"**Titanic: Machine Learning from Disaster**\" de Kagle](https://www.kaggle.com/c/titanic/overview). \n",
    "<img src=\"titanic.jpg\" alt=\"Titanic\" style=\"width: 700px;\"/>\n",
    "<center>Figura 1: Titanic</center>\n",
    "<p></p>\n",
    "La información presente en el dataset són datos sobre cada pasajero del famoso naufragio, si la persona sobrevivió o no, su sexo, tipo de cabina que estaba, entre otros.\n",
    "\n",
    "Aunque hubo algún elemento de suerte involucrado en sobrevivir al hundimiento, algunos grupos de personas tenían más probabilidades de sobrevivir que otros, como las mujeres, los niños y la clase alta.\n",
    "\n",
    "Justamente, el problema que buscamos a contestar es precisamente esto: hacer el análisis de **¿qué tipos de personas podrían sobrevivir?**\n"
   ]
  },
  {
   "cell_type": "markdown",
   "metadata": {},
   "source": [
    "Aún hablando un poco sobre el dataset, vamos a mirar un poco más de información sobre el mismo:"
   ]
  },
  {
   "cell_type": "code",
   "execution_count": 2,
   "metadata": {
    "scrolled": true
   },
   "outputs": [
    {
     "name": "stdout",
     "output_type": "stream",
     "text": [
      "[1] \"File has an English format\"\n"
     ]
    }
   ],
   "source": [
    "# Objetivo: Asegurar que estamos trabajando con el formato en ingles separado por comas\n",
    "L <- readLines(\"train.csv\", n = 1)\n",
    "if (grepl(\",\", L)) print(\"File has an English format\")"
   ]
  },
  {
   "cell_type": "code",
   "execution_count": 3,
   "metadata": {},
   "outputs": [
    {
     "data": {
      "text/html": [
       "<table>\n",
       "<thead><tr><th scope=col>PassengerId</th><th scope=col>Survived</th><th scope=col>Pclass</th><th scope=col>Name</th><th scope=col>Sex</th><th scope=col>Age</th><th scope=col>SibSp</th><th scope=col>Parch</th><th scope=col>Ticket</th><th scope=col>Fare</th><th scope=col>Cabin</th><th scope=col>Embarked</th></tr></thead>\n",
       "<tbody>\n",
       "\t<tr><td>1                                                  </td><td>0                                                  </td><td>3                                                  </td><td>Braund, Mr. Owen Harris                            </td><td>male                                               </td><td>22                                                 </td><td>1                                                  </td><td>0                                                  </td><td>A/5 21171                                          </td><td> 7.2500                                            </td><td>                                                   </td><td>S                                                  </td></tr>\n",
       "\t<tr><td>2                                                  </td><td>1                                                  </td><td>1                                                  </td><td>Cumings, Mrs. John Bradley (Florence Briggs Thayer)</td><td>female                                             </td><td>38                                                 </td><td>1                                                  </td><td>0                                                  </td><td>PC 17599                                           </td><td>71.2833                                            </td><td>C85                                                </td><td>C                                                  </td></tr>\n",
       "\t<tr><td>3                                                  </td><td>1                                                  </td><td>3                                                  </td><td>Heikkinen, Miss. Laina                             </td><td>female                                             </td><td>26                                                 </td><td>0                                                  </td><td>0                                                  </td><td>STON/O2. 3101282                                   </td><td> 7.9250                                            </td><td>                                                   </td><td>S                                                  </td></tr>\n",
       "\t<tr><td>4                                                  </td><td>1                                                  </td><td>1                                                  </td><td>Futrelle, Mrs. Jacques Heath (Lily May Peel)       </td><td>female                                             </td><td>35                                                 </td><td>1                                                  </td><td>0                                                  </td><td>113803                                             </td><td>53.1000                                            </td><td>C123                                               </td><td>S                                                  </td></tr>\n",
       "\t<tr><td>5                                                  </td><td>0                                                  </td><td>3                                                  </td><td>Allen, Mr. William Henry                           </td><td>male                                               </td><td>35                                                 </td><td>0                                                  </td><td>0                                                  </td><td>373450                                             </td><td> 8.0500                                            </td><td>                                                   </td><td>S                                                  </td></tr>\n",
       "\t<tr><td>6                                                  </td><td>0                                                  </td><td>3                                                  </td><td>Moran, Mr. James                                   </td><td>male                                               </td><td>NA                                                 </td><td>0                                                  </td><td>0                                                  </td><td>330877                                             </td><td> 8.4583                                            </td><td>                                                   </td><td>Q                                                  </td></tr>\n",
       "</tbody>\n",
       "</table>\n"
      ],
      "text/latex": [
       "\\begin{tabular}{r|llllllllllll}\n",
       " PassengerId & Survived & Pclass & Name & Sex & Age & SibSp & Parch & Ticket & Fare & Cabin & Embarked\\\\\n",
       "\\hline\n",
       "\t 1                                                   & 0                                                   & 3                                                   & Braund, Mr. Owen Harris                             & male                                                & 22                                                  & 1                                                   & 0                                                   & A/5 21171                                           &  7.2500                                             &                                                     & S                                                  \\\\\n",
       "\t 2                                                   & 1                                                   & 1                                                   & Cumings, Mrs. John Bradley (Florence Briggs Thayer) & female                                              & 38                                                  & 1                                                   & 0                                                   & PC 17599                                            & 71.2833                                             & C85                                                 & C                                                  \\\\\n",
       "\t 3                                                   & 1                                                   & 3                                                   & Heikkinen, Miss. Laina                              & female                                              & 26                                                  & 0                                                   & 0                                                   & STON/O2. 3101282                                    &  7.9250                                             &                                                     & S                                                  \\\\\n",
       "\t 4                                                   & 1                                                   & 1                                                   & Futrelle, Mrs. Jacques Heath (Lily May Peel)        & female                                              & 35                                                  & 1                                                   & 0                                                   & 113803                                              & 53.1000                                             & C123                                                & S                                                  \\\\\n",
       "\t 5                                                   & 0                                                   & 3                                                   & Allen, Mr. William Henry                            & male                                                & 35                                                  & 0                                                   & 0                                                   & 373450                                              &  8.0500                                             &                                                     & S                                                  \\\\\n",
       "\t 6                                                   & 0                                                   & 3                                                   & Moran, Mr. James                                    & male                                                & NA                                                  & 0                                                   & 0                                                   & 330877                                              &  8.4583                                             &                                                     & Q                                                  \\\\\n",
       "\\end{tabular}\n"
      ],
      "text/markdown": [
       "\n",
       "PassengerId | Survived | Pclass | Name | Sex | Age | SibSp | Parch | Ticket | Fare | Cabin | Embarked | \n",
       "|---|---|---|---|---|---|\n",
       "| 1                                                   | 0                                                   | 3                                                   | Braund, Mr. Owen Harris                             | male                                                | 22                                                  | 1                                                   | 0                                                   | A/5 21171                                           |  7.2500                                             |                                                     | S                                                   | \n",
       "| 2                                                   | 1                                                   | 1                                                   | Cumings, Mrs. John Bradley (Florence Briggs Thayer) | female                                              | 38                                                  | 1                                                   | 0                                                   | PC 17599                                            | 71.2833                                             | C85                                                 | C                                                   | \n",
       "| 3                                                   | 1                                                   | 3                                                   | Heikkinen, Miss. Laina                              | female                                              | 26                                                  | 0                                                   | 0                                                   | STON/O2. 3101282                                    |  7.9250                                             |                                                     | S                                                   | \n",
       "| 4                                                   | 1                                                   | 1                                                   | Futrelle, Mrs. Jacques Heath (Lily May Peel)        | female                                              | 35                                                  | 1                                                   | 0                                                   | 113803                                              | 53.1000                                             | C123                                                | S                                                   | \n",
       "| 5                                                   | 0                                                   | 3                                                   | Allen, Mr. William Henry                            | male                                                | 35                                                  | 0                                                   | 0                                                   | 373450                                              |  8.0500                                             |                                                     | S                                                   | \n",
       "| 6                                                   | 0                                                   | 3                                                   | Moran, Mr. James                                    | male                                                | NA                                                  | 0                                                   | 0                                                   | 330877                                              |  8.4583                                             |                                                     | Q                                                   | \n",
       "\n",
       "\n"
      ],
      "text/plain": [
       "  PassengerId Survived Pclass\n",
       "1 1           0        3     \n",
       "2 2           1        1     \n",
       "3 3           1        3     \n",
       "4 4           1        1     \n",
       "5 5           0        3     \n",
       "6 6           0        3     \n",
       "  Name                                                Sex    Age SibSp Parch\n",
       "1 Braund, Mr. Owen Harris                             male   22  1     0    \n",
       "2 Cumings, Mrs. John Bradley (Florence Briggs Thayer) female 38  1     0    \n",
       "3 Heikkinen, Miss. Laina                              female 26  0     0    \n",
       "4 Futrelle, Mrs. Jacques Heath (Lily May Peel)        female 35  1     0    \n",
       "5 Allen, Mr. William Henry                            male   35  0     0    \n",
       "6 Moran, Mr. James                                    male   NA  0     0    \n",
       "  Ticket           Fare    Cabin Embarked\n",
       "1 A/5 21171         7.2500       S       \n",
       "2 PC 17599         71.2833 C85   C       \n",
       "3 STON/O2. 3101282  7.9250       S       \n",
       "4 113803           53.1000 C123  S       \n",
       "5 373450            8.0500       S       \n",
       "6 330877            8.4583       Q       "
      ]
     },
     "metadata": {},
     "output_type": "display_data"
    },
    {
     "name": "stdout",
     "output_type": "stream",
     "text": [
      "[1] \"We are evaluating 891 rows of code\"\n",
      "[1] \"Column's names: \"\n"
     ]
    },
    {
     "data": {
      "text/html": [
       "<ol class=list-inline>\n",
       "\t<li>'PassengerId'</li>\n",
       "\t<li>'Survived'</li>\n",
       "\t<li>'Pclass'</li>\n",
       "\t<li>'Name'</li>\n",
       "\t<li>'Sex'</li>\n",
       "\t<li>'Age'</li>\n",
       "\t<li>'SibSp'</li>\n",
       "\t<li>'Parch'</li>\n",
       "\t<li>'Ticket'</li>\n",
       "\t<li>'Fare'</li>\n",
       "\t<li>'Cabin'</li>\n",
       "\t<li>'Embarked'</li>\n",
       "</ol>\n"
      ],
      "text/latex": [
       "\\begin{enumerate*}\n",
       "\\item 'PassengerId'\n",
       "\\item 'Survived'\n",
       "\\item 'Pclass'\n",
       "\\item 'Name'\n",
       "\\item 'Sex'\n",
       "\\item 'Age'\n",
       "\\item 'SibSp'\n",
       "\\item 'Parch'\n",
       "\\item 'Ticket'\n",
       "\\item 'Fare'\n",
       "\\item 'Cabin'\n",
       "\\item 'Embarked'\n",
       "\\end{enumerate*}\n"
      ],
      "text/markdown": [
       "1. 'PassengerId'\n",
       "2. 'Survived'\n",
       "3. 'Pclass'\n",
       "4. 'Name'\n",
       "5. 'Sex'\n",
       "6. 'Age'\n",
       "7. 'SibSp'\n",
       "8. 'Parch'\n",
       "9. 'Ticket'\n",
       "10. 'Fare'\n",
       "11. 'Cabin'\n",
       "12. 'Embarked'\n",
       "\n",
       "\n"
      ],
      "text/plain": [
       " [1] \"PassengerId\" \"Survived\"    \"Pclass\"      \"Name\"        \"Sex\"        \n",
       " [6] \"Age\"         \"SibSp\"       \"Parch\"       \"Ticket\"      \"Fare\"       \n",
       "[11] \"Cabin\"       \"Embarked\"   "
      ]
     },
     "metadata": {},
     "output_type": "display_data"
    },
    {
     "data": {
      "text/html": [
       "<dl class=dl-horizontal>\n",
       "\t<dt>PassengerId</dt>\n",
       "\t\t<dd>'integer'</dd>\n",
       "\t<dt>Survived</dt>\n",
       "\t\t<dd>'integer'</dd>\n",
       "\t<dt>Pclass</dt>\n",
       "\t\t<dd>'integer'</dd>\n",
       "\t<dt>Name</dt>\n",
       "\t\t<dd>'factor'</dd>\n",
       "\t<dt>Sex</dt>\n",
       "\t\t<dd>'factor'</dd>\n",
       "\t<dt>Age</dt>\n",
       "\t\t<dd>'numeric'</dd>\n",
       "\t<dt>SibSp</dt>\n",
       "\t\t<dd>'integer'</dd>\n",
       "\t<dt>Parch</dt>\n",
       "\t\t<dd>'integer'</dd>\n",
       "\t<dt>Ticket</dt>\n",
       "\t\t<dd>'factor'</dd>\n",
       "\t<dt>Fare</dt>\n",
       "\t\t<dd>'numeric'</dd>\n",
       "\t<dt>Cabin</dt>\n",
       "\t\t<dd>'factor'</dd>\n",
       "\t<dt>Embarked</dt>\n",
       "\t\t<dd>'factor'</dd>\n",
       "</dl>\n"
      ],
      "text/latex": [
       "\\begin{description*}\n",
       "\\item[PassengerId] 'integer'\n",
       "\\item[Survived] 'integer'\n",
       "\\item[Pclass] 'integer'\n",
       "\\item[Name] 'factor'\n",
       "\\item[Sex] 'factor'\n",
       "\\item[Age] 'numeric'\n",
       "\\item[SibSp] 'integer'\n",
       "\\item[Parch] 'integer'\n",
       "\\item[Ticket] 'factor'\n",
       "\\item[Fare] 'numeric'\n",
       "\\item[Cabin] 'factor'\n",
       "\\item[Embarked] 'factor'\n",
       "\\end{description*}\n"
      ],
      "text/markdown": [
       "PassengerId\n",
       ":   'integer'Survived\n",
       ":   'integer'Pclass\n",
       ":   'integer'Name\n",
       ":   'factor'Sex\n",
       ":   'factor'Age\n",
       ":   'numeric'SibSp\n",
       ":   'integer'Parch\n",
       ":   'integer'Ticket\n",
       ":   'factor'Fare\n",
       ":   'numeric'Cabin\n",
       ":   'factor'Embarked\n",
       ":   'factor'\n",
       "\n"
      ],
      "text/plain": [
       "PassengerId    Survived      Pclass        Name         Sex         Age \n",
       "  \"integer\"   \"integer\"   \"integer\"    \"factor\"    \"factor\"   \"numeric\" \n",
       "      SibSp       Parch      Ticket        Fare       Cabin    Embarked \n",
       "  \"integer\"   \"integer\"    \"factor\"   \"numeric\"    \"factor\"    \"factor\" "
      ]
     },
     "metadata": {},
     "output_type": "display_data"
    },
    {
     "name": "stdout",
     "output_type": "stream",
     "text": [
      "'data.frame':\t891 obs. of  12 variables:\n",
      " $ PassengerId: int  1 2 3 4 5 6 7 8 9 10 ...\n",
      " $ Survived   : int  0 1 1 1 0 0 0 0 1 1 ...\n",
      " $ Pclass     : int  3 1 3 1 3 3 1 3 3 2 ...\n",
      " $ Name       : Factor w/ 891 levels \"Abbing, Mr. Anthony\",..: 109 191 358 277 16 559 520 629 417 581 ...\n",
      " $ Sex        : Factor w/ 2 levels \"female\",\"male\": 2 1 1 1 2 2 2 2 1 1 ...\n",
      " $ Age        : num  22 38 26 35 35 NA 54 2 27 14 ...\n",
      " $ SibSp      : int  1 1 0 1 0 0 0 3 0 1 ...\n",
      " $ Parch      : int  0 0 0 0 0 0 0 1 2 0 ...\n",
      " $ Ticket     : Factor w/ 681 levels \"110152\",\"110413\",..: 524 597 670 50 473 276 86 396 345 133 ...\n",
      " $ Fare       : num  7.25 71.28 7.92 53.1 8.05 ...\n",
      " $ Cabin      : Factor w/ 148 levels \"\",\"A10\",\"A14\",..: 1 83 1 57 1 1 131 1 1 1 ...\n",
      " $ Embarked   : Factor w/ 4 levels \"\",\"C\",\"Q\",\"S\": 4 2 4 4 4 3 4 4 4 2 ...\n"
     ]
    },
    {
     "data": {
      "text/plain": [
       "  PassengerId       Survived          Pclass     \n",
       " Min.   :  1.0   Min.   :0.0000   Min.   :1.000  \n",
       " 1st Qu.:223.5   1st Qu.:0.0000   1st Qu.:2.000  \n",
       " Median :446.0   Median :0.0000   Median :3.000  \n",
       " Mean   :446.0   Mean   :0.3838   Mean   :2.309  \n",
       " 3rd Qu.:668.5   3rd Qu.:1.0000   3rd Qu.:3.000  \n",
       " Max.   :891.0   Max.   :1.0000   Max.   :3.000  \n",
       "                                                 \n",
       "                                    Name         Sex           Age       \n",
       " Abbing, Mr. Anthony                  :  1   female:314   Min.   : 0.42  \n",
       " Abbott, Mr. Rossmore Edward          :  1   male  :577   1st Qu.:20.12  \n",
       " Abbott, Mrs. Stanton (Rosa Hunt)     :  1                Median :28.00  \n",
       " Abelson, Mr. Samuel                  :  1                Mean   :29.70  \n",
       " Abelson, Mrs. Samuel (Hannah Wizosky):  1                3rd Qu.:38.00  \n",
       " Adahl, Mr. Mauritz Nils Martin       :  1                Max.   :80.00  \n",
       " (Other)                              :885                NA's   :177    \n",
       "     SibSp           Parch             Ticket         Fare       \n",
       " Min.   :0.000   Min.   :0.0000   1601    :  7   Min.   :  0.00  \n",
       " 1st Qu.:0.000   1st Qu.:0.0000   347082  :  7   1st Qu.:  7.91  \n",
       " Median :0.000   Median :0.0000   CA. 2343:  7   Median : 14.45  \n",
       " Mean   :0.523   Mean   :0.3816   3101295 :  6   Mean   : 32.20  \n",
       " 3rd Qu.:1.000   3rd Qu.:0.0000   347088  :  6   3rd Qu.: 31.00  \n",
       " Max.   :8.000   Max.   :6.0000   CA 2144 :  6   Max.   :512.33  \n",
       "                                  (Other) :852                   \n",
       "         Cabin     Embarked\n",
       "            :687    :  2   \n",
       " B96 B98    :  4   C:168   \n",
       " C23 C25 C27:  4   Q: 77   \n",
       " G6         :  4   S:644   \n",
       " C22 C26    :  3           \n",
       " D          :  3           \n",
       " (Other)    :186           "
      ]
     },
     "metadata": {},
     "output_type": "display_data"
    }
   ],
   "source": [
    "# Como estamos trabajando con ficheros separados por commas, vamos a mirar un poco de datos\n",
    "df <- read.csv(\"train.csv\")\n",
    "head(df)\n",
    "\n",
    "# Mirando los nombres de columnas del dataframe y los tipos de variables y informacion adicional\n",
    "print(paste(\"We are evaluating\", nrow(df), \"rows of code\"))\n",
    "print(\"Column's names: \")\n",
    "colnames(df)\n",
    "sapply(df,class)\n",
    "str(df)\n",
    "summary(df)"
   ]
  },
  {
   "cell_type": "markdown",
   "metadata": {},
   "source": [
    "## 2. Integración y selección de los datos de interés a analizar<a name=\"data2\"></a>"
   ]
  },
  {
   "cell_type": "markdown",
   "metadata": {},
   "source": [
    "\n",
    "Dando un poco más de contexto en la selección de variables: debemos escoger un grupo de variables originales (también llamadas características o atributos desde el mundo del machine learning) que contenga la mayor parte de la información relevante para resolver el problema a tratar. Existen muchas metodologías y es un campo de investigación muy importante [1] *(Stanczyk y Jain, 2014)*.\n",
    "\n",
    "Dado el contexto, queda claro que podemos aquí reducir un poco la dimensionalidad en el ámbito de atributos (columnas) porque hay variables en las cuales detectamos que no aportan mucho para el tipo de conocimiento que necesitamos recolectar. Por ejemplo:\n",
    " - el número del *ticket* de cada persona es bastante irrelevante para extraer un modelo y predecir si la persona ha sobrevivido o no\n",
    " - *Embarked* - el puerto donde ha embarcado una persona en el navio tampoco\n",
    " - *Cabin* - hay inumeros registros en la columna que no estan rellenados\n",
    " - *Fare* - es un campo que esta completamente asociado a la clase (o sea Pclass), por lo tanto, omitirlo no debe añadir problemas.\n",
    "\n",
    "Ahora que tenemos un poco más de información sobre el dataset, con el intuito de obtener un modelo significativo, he elegido los siguientes atributos para el análisis:\n",
    "- *Survived*\n",
    "- *Pclass*\n",
    "- *Name*\n",
    "- *Sex*\n",
    "- *Age*\n",
    "\n",
    "Queda claro que el atributo **Name** tampoco es relevante, pero mantuve por si acaso necesito explicar o hacer alguna comparación de pasajeros (será más sencillo identificar las personas por sus nombres). \n",
    "\n",
    "\n",
    "Definidos los atributos, antes de seguir para el próximo ejercicio, hago la selección de los datos que vamos a trabajar abajo."
   ]
  },
  {
   "cell_type": "code",
   "execution_count": 4,
   "metadata": {},
   "outputs": [
    {
     "data": {
      "text/html": [
       "<table>\n",
       "<thead><tr><th scope=col>Survived</th><th scope=col>Pclass</th><th scope=col>Name</th><th scope=col>Sex</th><th scope=col>Age</th></tr></thead>\n",
       "<tbody>\n",
       "\t<tr><td>0                                                  </td><td>3                                                  </td><td>Braund, Mr. Owen Harris                            </td><td>male                                               </td><td>22                                                 </td></tr>\n",
       "\t<tr><td>1                                                  </td><td>1                                                  </td><td>Cumings, Mrs. John Bradley (Florence Briggs Thayer)</td><td>female                                             </td><td>38                                                 </td></tr>\n",
       "\t<tr><td>1                                                  </td><td>3                                                  </td><td>Heikkinen, Miss. Laina                             </td><td>female                                             </td><td>26                                                 </td></tr>\n",
       "\t<tr><td>1                                                  </td><td>1                                                  </td><td>Futrelle, Mrs. Jacques Heath (Lily May Peel)       </td><td>female                                             </td><td>35                                                 </td></tr>\n",
       "\t<tr><td>0                                                  </td><td>3                                                  </td><td>Allen, Mr. William Henry                           </td><td>male                                               </td><td>35                                                 </td></tr>\n",
       "\t<tr><td>0                                                  </td><td>3                                                  </td><td>Moran, Mr. James                                   </td><td>male                                               </td><td>NA                                                 </td></tr>\n",
       "</tbody>\n",
       "</table>\n"
      ],
      "text/latex": [
       "\\begin{tabular}{r|lllll}\n",
       " Survived & Pclass & Name & Sex & Age\\\\\n",
       "\\hline\n",
       "\t 0                                                   & 3                                                   & Braund, Mr. Owen Harris                             & male                                                & 22                                                 \\\\\n",
       "\t 1                                                   & 1                                                   & Cumings, Mrs. John Bradley (Florence Briggs Thayer) & female                                              & 38                                                 \\\\\n",
       "\t 1                                                   & 3                                                   & Heikkinen, Miss. Laina                              & female                                              & 26                                                 \\\\\n",
       "\t 1                                                   & 1                                                   & Futrelle, Mrs. Jacques Heath (Lily May Peel)        & female                                              & 35                                                 \\\\\n",
       "\t 0                                                   & 3                                                   & Allen, Mr. William Henry                            & male                                                & 35                                                 \\\\\n",
       "\t 0                                                   & 3                                                   & Moran, Mr. James                                    & male                                                & NA                                                 \\\\\n",
       "\\end{tabular}\n"
      ],
      "text/markdown": [
       "\n",
       "Survived | Pclass | Name | Sex | Age | \n",
       "|---|---|---|---|---|---|\n",
       "| 0                                                   | 3                                                   | Braund, Mr. Owen Harris                             | male                                                | 22                                                  | \n",
       "| 1                                                   | 1                                                   | Cumings, Mrs. John Bradley (Florence Briggs Thayer) | female                                              | 38                                                  | \n",
       "| 1                                                   | 3                                                   | Heikkinen, Miss. Laina                              | female                                              | 26                                                  | \n",
       "| 1                                                   | 1                                                   | Futrelle, Mrs. Jacques Heath (Lily May Peel)        | female                                              | 35                                                  | \n",
       "| 0                                                   | 3                                                   | Allen, Mr. William Henry                            | male                                                | 35                                                  | \n",
       "| 0                                                   | 3                                                   | Moran, Mr. James                                    | male                                                | NA                                                  | \n",
       "\n",
       "\n"
      ],
      "text/plain": [
       "  Survived Pclass Name                                                Sex   \n",
       "1 0        3      Braund, Mr. Owen Harris                             male  \n",
       "2 1        1      Cumings, Mrs. John Bradley (Florence Briggs Thayer) female\n",
       "3 1        3      Heikkinen, Miss. Laina                              female\n",
       "4 1        1      Futrelle, Mrs. Jacques Heath (Lily May Peel)        female\n",
       "5 0        3      Allen, Mr. William Henry                            male  \n",
       "6 0        3      Moran, Mr. James                                    male  \n",
       "  Age\n",
       "1 22 \n",
       "2 38 \n",
       "3 26 \n",
       "4 35 \n",
       "5 35 \n",
       "6 NA "
      ]
     },
     "metadata": {},
     "output_type": "display_data"
    }
   ],
   "source": [
    "df <- df[,2:6] \n",
    "head(df)"
   ]
  },
  {
   "cell_type": "markdown",
   "metadata": {},
   "source": [
    "## 3. Limpieza de los datos<a name=\"data3\"></a>"
   ]
  },
  {
   "cell_type": "markdown",
   "metadata": {},
   "source": [
    "### 3.1. ¿Los datos contienen ceros o elementos vacíos? ¿Cómo gestionarías cada uno de estos casos?<a name=\"data31\"></a>"
   ]
  },
  {
   "cell_type": "code",
   "execution_count": 5,
   "metadata": {
    "scrolled": true
   },
   "outputs": [
    {
     "data": {
      "text/html": [
       "<dl class=dl-horizontal>\n",
       "\t<dt>Survived</dt>\n",
       "\t\t<dd>FALSE</dd>\n",
       "\t<dt>Pclass</dt>\n",
       "\t\t<dd>FALSE</dd>\n",
       "\t<dt>Name</dt>\n",
       "\t\t<dd>FALSE</dd>\n",
       "\t<dt>Sex</dt>\n",
       "\t\t<dd>FALSE</dd>\n",
       "\t<dt>Age</dt>\n",
       "\t\t<dd>TRUE</dd>\n",
       "</dl>\n"
      ],
      "text/latex": [
       "\\begin{description*}\n",
       "\\item[Survived] FALSE\n",
       "\\item[Pclass] FALSE\n",
       "\\item[Name] FALSE\n",
       "\\item[Sex] FALSE\n",
       "\\item[Age] TRUE\n",
       "\\end{description*}\n"
      ],
      "text/markdown": [
       "Survived\n",
       ":   FALSEPclass\n",
       ":   FALSEName\n",
       ":   FALSESex\n",
       ":   FALSEAge\n",
       ":   TRUE\n",
       "\n"
      ],
      "text/plain": [
       "Survived   Pclass     Name      Sex      Age \n",
       "   FALSE    FALSE    FALSE    FALSE     TRUE "
      ]
     },
     "metadata": {},
     "output_type": "display_data"
    },
    {
     "data": {
      "text/html": [
       "<dl class=dl-horizontal>\n",
       "\t<dt>Survived</dt>\n",
       "\t\t<dd>0</dd>\n",
       "\t<dt>Pclass</dt>\n",
       "\t\t<dd>0</dd>\n",
       "\t<dt>Name</dt>\n",
       "\t\t<dd>0</dd>\n",
       "\t<dt>Sex</dt>\n",
       "\t\t<dd>0</dd>\n",
       "\t<dt>Age</dt>\n",
       "\t\t<dd>177</dd>\n",
       "</dl>\n"
      ],
      "text/latex": [
       "\\begin{description*}\n",
       "\\item[Survived] 0\n",
       "\\item[Pclass] 0\n",
       "\\item[Name] 0\n",
       "\\item[Sex] 0\n",
       "\\item[Age] 177\n",
       "\\end{description*}\n"
      ],
      "text/markdown": [
       "Survived\n",
       ":   0Pclass\n",
       ":   0Name\n",
       ":   0Sex\n",
       ":   0Age\n",
       ":   177\n",
       "\n"
      ],
      "text/plain": [
       "Survived   Pclass     Name      Sex      Age \n",
       "       0        0        0        0      177 "
      ]
     },
     "metadata": {},
     "output_type": "display_data"
    },
    {
     "data": {
      "text/html": [
       "714"
      ],
      "text/latex": [
       "714"
      ],
      "text/markdown": [
       "714"
      ],
      "text/plain": [
       "[1] 714"
      ]
     },
     "metadata": {},
     "output_type": "display_data"
    },
    {
     "data": {
      "text/html": [
       "<dl class=dl-horizontal>\n",
       "\t<dt>Survived</dt>\n",
       "\t\t<dd>FALSE</dd>\n",
       "\t<dt>Pclass</dt>\n",
       "\t\t<dd>FALSE</dd>\n",
       "\t<dt>Name</dt>\n",
       "\t\t<dd>FALSE</dd>\n",
       "\t<dt>Sex</dt>\n",
       "\t\t<dd>FALSE</dd>\n",
       "\t<dt>Age</dt>\n",
       "\t\t<dd>FALSE</dd>\n",
       "</dl>\n"
      ],
      "text/latex": [
       "\\begin{description*}\n",
       "\\item[Survived] FALSE\n",
       "\\item[Pclass] FALSE\n",
       "\\item[Name] FALSE\n",
       "\\item[Sex] FALSE\n",
       "\\item[Age] FALSE\n",
       "\\end{description*}\n"
      ],
      "text/markdown": [
       "Survived\n",
       ":   FALSEPclass\n",
       ":   FALSEName\n",
       ":   FALSESex\n",
       ":   FALSEAge\n",
       ":   FALSE\n",
       "\n"
      ],
      "text/plain": [
       "Survived   Pclass     Name      Sex      Age \n",
       "   FALSE    FALSE    FALSE    FALSE    FALSE "
      ]
     },
     "metadata": {},
     "output_type": "display_data"
    },
    {
     "data": {
      "text/html": [
       "891"
      ],
      "text/latex": [
       "891"
      ],
      "text/markdown": [
       "891"
      ],
      "text/plain": [
       "[1] 891"
      ]
     },
     "metadata": {},
     "output_type": "display_data"
    }
   ],
   "source": [
    "# Como resultado del comando abajo, podemos ver que solamente Age tiene elementos NA\n",
    "unlist(lapply(df, function(x) any(is.na(x))))\n",
    "              \n",
    "sapply(df, function(x) sum(is.na(x)))\n",
    "\n",
    "# Abajo comentaré las aproximaciones posibles para el escenario y la adoptada              \n",
    "df_no_NA <- df[rowSums(is.na(df)) == 0,]\n",
    "nrow(df_no_NA)\n",
    "options(warn=-1)             \n",
    "for(i in 1:ncol(df)){\n",
    "  # Aquí estamos calculando un promedio basado en la información de las otras filas para los casos donde hay elemento vacío\n",
    "  df[is.na(df[,i]), i] <- mean(df[,i], na.rm = TRUE)\n",
    "}\n",
    "options(warn=0)          \n",
    "unlist(lapply(df, function(x) any(is.na(x))))\n",
    "nrow(df)"
   ]
  },
  {
   "cell_type": "markdown",
   "metadata": {},
   "source": [
    "Como podemos notar, solamente la columna **Age** presentaba **datos vacíos**. Además, la cantidad de registros que estamos trabajando tampoco es masiva, es decir, **tenemos un muestreo pequeño de datos (891 registros)**.\n",
    "\n",
    "Esto básicamente motiva con que no adoptaramos una aproximación posible en los casos de datos vacíos (NA):\n",
    "\n",
    "- **Eliminación de registros (filas) donde haya a ocurrencia de NAs**\n",
    "\n",
    "Como podemos ver en el dataset `df_no_NA`, quedamos simplemente con `714` filas para trabajar (particularmente he considerado poco), por lo tanto, **he adoptado una aproximación distinta**:\n",
    "<p style=\"color: red\">\n",
    "<ul>\n",
    "    <li><b style=\"color: red\">Calcular un promedio basado en la información de las otras filas para los casos donde hubiera un elemento vacío</b>\n",
    "    </li>\n",
    "</ul>\n",
    "</p>\n",
    "\n",
    "Finalmente había un registro NA en la última línea del comando `head(df)` (*Moran, Mr. James*) veamos como ha quedado los datos de Age ahora:"
   ]
  },
  {
   "cell_type": "code",
   "execution_count": 5,
   "metadata": {
    "scrolled": true
   },
   "outputs": [
    {
     "data": {
      "text/html": [
       "<table>\n",
       "<thead><tr><th scope=col>Survived</th><th scope=col>Pclass</th><th scope=col>Name</th><th scope=col>Sex</th><th scope=col>Age</th></tr></thead>\n",
       "<tbody>\n",
       "\t<tr><td>0                                                  </td><td>3                                                  </td><td>Braund, Mr. Owen Harris                            </td><td>male                                               </td><td>22.00000                                           </td></tr>\n",
       "\t<tr><td>1                                                  </td><td>1                                                  </td><td>Cumings, Mrs. John Bradley (Florence Briggs Thayer)</td><td>female                                             </td><td>38.00000                                           </td></tr>\n",
       "\t<tr><td>1                                                  </td><td>3                                                  </td><td>Heikkinen, Miss. Laina                             </td><td>female                                             </td><td>26.00000                                           </td></tr>\n",
       "\t<tr><td>1                                                  </td><td>1                                                  </td><td>Futrelle, Mrs. Jacques Heath (Lily May Peel)       </td><td>female                                             </td><td>35.00000                                           </td></tr>\n",
       "\t<tr><td>0                                                  </td><td>3                                                  </td><td>Allen, Mr. William Henry                           </td><td>male                                               </td><td>35.00000                                           </td></tr>\n",
       "\t<tr><td>0                                                  </td><td>3                                                  </td><td>Moran, Mr. James                                   </td><td>male                                               </td><td>29.69912                                           </td></tr>\n",
       "</tbody>\n",
       "</table>\n"
      ],
      "text/latex": [
       "\\begin{tabular}{r|lllll}\n",
       " Survived & Pclass & Name & Sex & Age\\\\\n",
       "\\hline\n",
       "\t 0                                                   & 3                                                   & Braund, Mr. Owen Harris                             & male                                                & 22.00000                                           \\\\\n",
       "\t 1                                                   & 1                                                   & Cumings, Mrs. John Bradley (Florence Briggs Thayer) & female                                              & 38.00000                                           \\\\\n",
       "\t 1                                                   & 3                                                   & Heikkinen, Miss. Laina                              & female                                              & 26.00000                                           \\\\\n",
       "\t 1                                                   & 1                                                   & Futrelle, Mrs. Jacques Heath (Lily May Peel)        & female                                              & 35.00000                                           \\\\\n",
       "\t 0                                                   & 3                                                   & Allen, Mr. William Henry                            & male                                                & 35.00000                                           \\\\\n",
       "\t 0                                                   & 3                                                   & Moran, Mr. James                                    & male                                                & 29.69912                                           \\\\\n",
       "\\end{tabular}\n"
      ],
      "text/markdown": [
       "\n",
       "Survived | Pclass | Name | Sex | Age | \n",
       "|---|---|---|---|---|---|\n",
       "| 0                                                   | 3                                                   | Braund, Mr. Owen Harris                             | male                                                | 22.00000                                            | \n",
       "| 1                                                   | 1                                                   | Cumings, Mrs. John Bradley (Florence Briggs Thayer) | female                                              | 38.00000                                            | \n",
       "| 1                                                   | 3                                                   | Heikkinen, Miss. Laina                              | female                                              | 26.00000                                            | \n",
       "| 1                                                   | 1                                                   | Futrelle, Mrs. Jacques Heath (Lily May Peel)        | female                                              | 35.00000                                            | \n",
       "| 0                                                   | 3                                                   | Allen, Mr. William Henry                            | male                                                | 35.00000                                            | \n",
       "| 0                                                   | 3                                                   | Moran, Mr. James                                    | male                                                | 29.69912                                            | \n",
       "\n",
       "\n"
      ],
      "text/plain": [
       "  Survived Pclass Name                                                Sex   \n",
       "1 0        3      Braund, Mr. Owen Harris                             male  \n",
       "2 1        1      Cumings, Mrs. John Bradley (Florence Briggs Thayer) female\n",
       "3 1        3      Heikkinen, Miss. Laina                              female\n",
       "4 1        1      Futrelle, Mrs. Jacques Heath (Lily May Peel)        female\n",
       "5 0        3      Allen, Mr. William Henry                            male  \n",
       "6 0        3      Moran, Mr. James                                    male  \n",
       "  Age     \n",
       "1 22.00000\n",
       "2 38.00000\n",
       "3 26.00000\n",
       "4 35.00000\n",
       "5 35.00000\n",
       "6 29.69912"
      ]
     },
     "metadata": {},
     "output_type": "display_data"
    }
   ],
   "source": [
    "head(df)"
   ]
  },
  {
   "cell_type": "markdown",
   "metadata": {},
   "source": [
    "Por lo tanto, los valores vacios en Edad están ahora calculados con base en la media.\n",
    "\n",
    "Para cerrar el tema de los *Missing Values*, hay otras aproximaciones que no parecían adecuadas para el escenario, sin embargo añado para dejar claro que las he tenido en cuenta:\n",
    "\n",
    "- **Rellenar manualmente los valores que faltan**\n",
    "- **Rellenar con una constante global**\n",
    "- **Rellenar con un valor más probable (podría ser echo con una regresión, por ejemplo)**\n",
    "\n",
    "Finalmente, he explicado porque no he utilizado la estrategia de eliminar los campos (por el muestreo es demasiado pequeño). Voy a explicar brevemente porque no he adoptado ninguna de las tres estrategias mencionadas arriba:\n",
    "1. Rellenar los valores manualmente es un trabajo repetitivo y tedioso (hay más de 100 registros sin valores).\n",
    "2. Utilizar una constante global con un valor cualquiera es lo basicamente la misma aproximación que hice, con la diferencia de que usando la media estamos aplicando una medida un poco más factible que simplemente adivinar un valor constante.\n",
    "3. La opción de un valor más probable es interesante, pero exige la utilización de un algoritmo como KNN o algo del genero, siendo así una aproximación de más liosa teniendo en cuenta que los objetivos del ejercicio son más sencillos - si fuera una situación que queremos obtener muchisima precisión en el análisis, seguramente podría ser adoptada.\n",
    "\n",
    "Con esto, queda claro que la adopción de media como valores vacios atende el *trade-off* de sencillez en su implementación y añade algunas características interesantes como la utilización de alguna medida calculada del propio dataset."
   ]
  },
  {
   "cell_type": "markdown",
   "metadata": {},
   "source": [
    "### 3.2. Identificación y tratamiento de valores extremos<a name=\"data32\"></a>"
   ]
  },
  {
   "cell_type": "markdown",
   "metadata": {},
   "source": [
    "La verdad es que, mismo antes de seguir con el análisis si hay o no valores extremos (*outliers*) queda evidente que hay pocas posibilidades de haber muchos problemas, dado que tenemos simplemente 3 columnas con valores numéricos (siendo una de ellas, la columna de **Survived** que es precisamente la columna del *label* del dataset / luego arreglaremos para ser categórica - o sea, ahí seguramente que no habrá problemas)."
   ]
  },
  {
   "cell_type": "code",
   "execution_count": 6,
   "metadata": {},
   "outputs": [
    {
     "data": {
      "text/html": [
       "<dl class=dl-horizontal>\n",
       "\t<dt>Survived</dt>\n",
       "\t\t<dd>'numeric'</dd>\n",
       "\t<dt>Pclass</dt>\n",
       "\t\t<dd>'numeric'</dd>\n",
       "\t<dt>Name</dt>\n",
       "\t\t<dd>'factor'</dd>\n",
       "\t<dt>Sex</dt>\n",
       "\t\t<dd>'factor'</dd>\n",
       "\t<dt>Age</dt>\n",
       "\t\t<dd>'numeric'</dd>\n",
       "</dl>\n"
      ],
      "text/latex": [
       "\\begin{description*}\n",
       "\\item[Survived] 'numeric'\n",
       "\\item[Pclass] 'numeric'\n",
       "\\item[Name] 'factor'\n",
       "\\item[Sex] 'factor'\n",
       "\\item[Age] 'numeric'\n",
       "\\end{description*}\n"
      ],
      "text/markdown": [
       "Survived\n",
       ":   'numeric'Pclass\n",
       ":   'numeric'Name\n",
       ":   'factor'Sex\n",
       ":   'factor'Age\n",
       ":   'numeric'\n",
       "\n"
      ],
      "text/plain": [
       " Survived    Pclass      Name       Sex       Age \n",
       "\"numeric\" \"numeric\"  \"factor\"  \"factor\" \"numeric\" "
      ]
     },
     "metadata": {},
     "output_type": "display_data"
    }
   ],
   "source": [
    "sapply(df,class)"
   ]
  },
  {
   "cell_type": "code",
   "execution_count": 7,
   "metadata": {},
   "outputs": [
    {
     "data": {
      "text/html": [
       "80"
      ],
      "text/latex": [
       "80"
      ],
      "text/markdown": [
       "80"
      ],
      "text/plain": [
       "[1] 80"
      ]
     },
     "metadata": {},
     "output_type": "display_data"
    },
    {
     "data": {
      "text/html": [
       "0.42"
      ],
      "text/latex": [
       "0.42"
      ],
      "text/markdown": [
       "0.42"
      ],
      "text/plain": [
       "[1] 0.42"
      ]
     },
     "metadata": {},
     "output_type": "display_data"
    },
    {
     "data": {
      "text/html": [
       "<ol class=list-inline>\n",
       "\t<li>0.42</li>\n",
       "\t<li>22</li>\n",
       "\t<li>29.6991176470588</li>\n",
       "\t<li>35</li>\n",
       "\t<li>80</li>\n",
       "</ol>\n"
      ],
      "text/latex": [
       "\\begin{enumerate*}\n",
       "\\item 0.42\n",
       "\\item 22\n",
       "\\item 29.6991176470588\n",
       "\\item 35\n",
       "\\item 80\n",
       "\\end{enumerate*}\n"
      ],
      "text/markdown": [
       "1. 0.42\n",
       "2. 22\n",
       "3. 29.6991176470588\n",
       "4. 35\n",
       "5. 80\n",
       "\n",
       "\n"
      ],
      "text/plain": [
       "[1]  0.42000 22.00000 29.69912 35.00000 80.00000"
      ]
     },
     "metadata": {},
     "output_type": "display_data"
    },
    {
     "data": {
      "image/png": "[encoded data removed]",
      "text/plain": [
       "Plot with title “Age”"
      ]
     },
     "metadata": {},
     "output_type": "display_data"
    }
   ],
   "source": [
    "par(mfrow=c(2,2))\n",
    "for(i in 1:ncol(df)) {\n",
    "    if (is.numeric(df[,i])){\n",
    "        boxplot(df[,i], main = colnames(df)[i], width = 100, col=\"gray\")\n",
    "    }\n",
    "}\n",
    "\n",
    "max(df$Age, na.rm = TRUE)\n",
    "min(df$Age, na.rm = TRUE)\n",
    "fivenum(df$Age)"
   ]
  },
  {
   "cell_type": "markdown",
   "metadata": {},
   "source": [
    "Con esto, hay valores que aparecen en los boxplots como *outliers* en **Age**, y es completamente factible que una persona en el Titanic tuviera `80` años (y también `0.4` años, en el caso de un bebé). \n",
    "\n",
    "**Los outliers afectan especialmente a la media (medida poco robusta). Y cuando la muestra es pequeña como en nuestro, el efecto se nota aún más acentuado.**\n",
    "\n",
    "Como forma de tratamiento de valores extremos, una posible aproximación es la tecnica de *Binning* (discretización) que creo ser perfecta para la columna en cuestión.\n",
    "\n",
    "Otro punto que parece importante tratar es que **Survived** no es un valor numerico, sino un sobrevivió o no (Yes o No) por lo cual también voy a aplicar Binning en la columna."
   ]
  },
  {
   "cell_type": "code",
   "execution_count": 9,
   "metadata": {
    "scrolled": true
   },
   "outputs": [
    {
     "data": {
      "text/html": [
       "<dl class=dl-horizontal>\n",
       "\t<dt>Survived</dt>\n",
       "\t\t<dd>'factor'</dd>\n",
       "\t<dt>Pclass</dt>\n",
       "\t\t<dd>'numeric'</dd>\n",
       "\t<dt>Name</dt>\n",
       "\t\t<dd>'factor'</dd>\n",
       "\t<dt>Sex</dt>\n",
       "\t\t<dd>'factor'</dd>\n",
       "\t<dt>Age</dt>\n",
       "\t\t<dd>'factor'</dd>\n",
       "</dl>\n"
      ],
      "text/latex": [
       "\\begin{description*}\n",
       "\\item[Survived] 'factor'\n",
       "\\item[Pclass] 'numeric'\n",
       "\\item[Name] 'factor'\n",
       "\\item[Sex] 'factor'\n",
       "\\item[Age] 'factor'\n",
       "\\end{description*}\n"
      ],
      "text/markdown": [
       "Survived\n",
       ":   'factor'Pclass\n",
       ":   'numeric'Name\n",
       ":   'factor'Sex\n",
       ":   'factor'Age\n",
       ":   'factor'\n",
       "\n"
      ],
      "text/plain": [
       " Survived    Pclass      Name       Sex       Age \n",
       " \"factor\" \"numeric\"  \"factor\"  \"factor\"  \"factor\" "
      ]
     },
     "metadata": {},
     "output_type": "display_data"
    },
    {
     "data": {
      "text/html": [
       "<table>\n",
       "<thead><tr><th></th><th scope=col>Survived</th><th scope=col>Pclass</th><th scope=col>Name</th><th scope=col>Sex</th><th scope=col>Age</th></tr></thead>\n",
       "<tbody>\n",
       "\t<tr><th scope=row>886</th><td>No                                      </td><td>3                                       </td><td>Rice, Mrs. William (Margaret Norton)    </td><td>female                                  </td><td>Adult                                   </td></tr>\n",
       "\t<tr><th scope=row>887</th><td>No                                      </td><td>2                                       </td><td>Montvila, Rev. Juozas                   </td><td>male                                    </td><td>Adult                                   </td></tr>\n",
       "\t<tr><th scope=row>888</th><td>Yes                                     </td><td>1                                       </td><td>Graham, Miss. Margaret Edith            </td><td>female                                  </td><td>Underage                                </td></tr>\n",
       "\t<tr><th scope=row>889</th><td>No                                      </td><td>3                                       </td><td>Johnston, Miss. Catherine Helen \"Carrie\"</td><td>female                                  </td><td>Adult                                   </td></tr>\n",
       "\t<tr><th scope=row>890</th><td>Yes                                     </td><td>1                                       </td><td>Behr, Mr. Karl Howell                   </td><td>male                                    </td><td>Adult                                   </td></tr>\n",
       "\t<tr><th scope=row>891</th><td>No                                      </td><td>3                                       </td><td>Dooley, Mr. Patrick                     </td><td>male                                    </td><td>Adult                                   </td></tr>\n",
       "</tbody>\n",
       "</table>\n"
      ],
      "text/latex": [
       "\\begin{tabular}{r|lllll}\n",
       "  & Survived & Pclass & Name & Sex & Age\\\\\n",
       "\\hline\n",
       "\t886 & No                                       & 3                                        & Rice, Mrs. William (Margaret Norton)     & female                                   & Adult                                   \\\\\n",
       "\t887 & No                                       & 2                                        & Montvila, Rev. Juozas                    & male                                     & Adult                                   \\\\\n",
       "\t888 & Yes                                      & 1                                        & Graham, Miss. Margaret Edith             & female                                   & Underage                                \\\\\n",
       "\t889 & No                                       & 3                                        & Johnston, Miss. Catherine Helen \"Carrie\" & female                                   & Adult                                   \\\\\n",
       "\t890 & Yes                                      & 1                                        & Behr, Mr. Karl Howell                    & male                                     & Adult                                   \\\\\n",
       "\t891 & No                                       & 3                                        & Dooley, Mr. Patrick                      & male                                     & Adult                                   \\\\\n",
       "\\end{tabular}\n"
      ],
      "text/markdown": [
       "\n",
       "| <!--/--> | Survived | Pclass | Name | Sex | Age | \n",
       "|---|---|---|---|---|---|\n",
       "| 886 | No                                       | 3                                        | Rice, Mrs. William (Margaret Norton)     | female                                   | Adult                                    | \n",
       "| 887 | No                                       | 2                                        | Montvila, Rev. Juozas                    | male                                     | Adult                                    | \n",
       "| 888 | Yes                                      | 1                                        | Graham, Miss. Margaret Edith             | female                                   | Underage                                 | \n",
       "| 889 | No                                       | 3                                        | Johnston, Miss. Catherine Helen \"Carrie\" | female                                   | Adult                                    | \n",
       "| 890 | Yes                                      | 1                                        | Behr, Mr. Karl Howell                    | male                                     | Adult                                    | \n",
       "| 891 | No                                       | 3                                        | Dooley, Mr. Patrick                      | male                                     | Adult                                    | \n",
       "\n",
       "\n"
      ],
      "text/plain": [
       "    Survived Pclass Name                                     Sex    Age     \n",
       "886 No       3      Rice, Mrs. William (Margaret Norton)     female Adult   \n",
       "887 No       2      Montvila, Rev. Juozas                    male   Adult   \n",
       "888 Yes      1      Graham, Miss. Margaret Edith             female Underage\n",
       "889 No       3      Johnston, Miss. Catherine Helen \"Carrie\" female Adult   \n",
       "890 Yes      1      Behr, Mr. Karl Howell                    male   Adult   \n",
       "891 No       3      Dooley, Mr. Patrick                      male   Adult   "
      ]
     },
     "metadata": {},
     "output_type": "display_data"
    }
   ],
   "source": [
    "df$Age <- as.factor(ifelse(df$Age >= 21, \"Adult\", \"Underage\"))\n",
    "df$Survived <- as.factor(ifelse(df$Survived == 1, \"Yes\", \"No\"))\n",
    "sapply(df,class)\n",
    "tail(df)"
   ]
  },
  {
   "cell_type": "markdown",
   "metadata": {},
   "source": [
    "Explicando el enfoque: \n",
    "\n",
    "Como en algunas ocasiones, la información tiene un poco de *ruido*, nos interesa reducir al máximo lo mismo y, para ello, una posible solución es discretizar. Así, una serie de valores son los representantes de la variable cuantitativa (en nuestro caso *Underage* y *Adult* son los representantes).\n",
    "\n",
    "Otras aproximaciones y tecnicas también podrían estar empleadas aquí, como *Regression* u *Outlier Analysis*, sin embargo, la que haría más sentido para lo que buscamos es si duda el *Binning*."
   ]
  },
  {
   "cell_type": "markdown",
   "metadata": {},
   "source": [
    "## 4. Análisis de los datos<a name=\"data4\"></a>"
   ]
  },
  {
   "cell_type": "markdown",
   "metadata": {},
   "source": [
    "### 4.1. Selección de los grupos de datos que se quieren analizar/comparar (planificación de los análisis a aplicar)<a name=\"data41\"></a>"
   ]
  },
  {
   "cell_type": "code",
   "execution_count": 10,
   "metadata": {},
   "outputs": [
    {
     "name": "stdout",
     "output_type": "stream",
     "text": [
      "[1] \"Hombres:  577\"\n",
      "[1] \"Mujeres:  314\"\n",
      "[1] \"------------------------------------------------\"\n",
      "[1] \"Adultos:  711\"\n",
      "[1] \"No adultos:  180\"\n",
      "[1] \"------------------------------------------------\"\n",
      "[1] \"Primera clase:  216\"\n",
      "[1] \"Segunda clase:  184\"\n",
      "[1] \"Tercera clase:  491\"\n"
     ]
    }
   ],
   "source": [
    "# Agrupación por sexo\n",
    "df.male <- df[df$Sex == \"male\",] \n",
    "df.female <- df[df$Sex == \"female\",] \n",
    "\n",
    "# Por Edad\n",
    "df.adult <- df[df$Age == \"Adult\",] \n",
    "df.underage <- df[df$Age == \"Underage\",] \n",
    "\n",
    "# Por Cabina\n",
    "df.first_class <- df[df$Pclass == 1,] \n",
    "df.second_class <- df[df$Pclass == 2,] \n",
    "df.third_class <- df[df$Pclass == 3,]\n",
    "\n",
    "print(paste(\"Hombres: \", nrow(df.male)))\n",
    "print(paste(\"Mujeres: \", nrow(df.female)))\n",
    "print(\"------------------------------------------------\")\n",
    "print(paste(\"Adultos: \", nrow(df.adult)))\n",
    "print(paste(\"No adultos: \", nrow(df.underage)))\n",
    "print(\"------------------------------------------------\")\n",
    "print(paste(\"Primera clase: \", nrow(df.first_class)))\n",
    "print(paste(\"Segunda clase: \", nrow(df.second_class)))\n",
    "print(paste(\"Tercera clase: \", nrow(df.third_class)))"
   ]
  },
  {
   "cell_type": "markdown",
   "metadata": {},
   "source": [
    "### 4.2. Comprobación de la normalidad y homogeneidad de la varianza<a name=\"data42\"></a>"
   ]
  },
  {
   "cell_type": "markdown",
   "metadata": {},
   "source": [
    "Honestamente, con el dataset y las informaciones que hemos elegido para trabajar (grande parte de ellas son categóricas), creo que las comprobaciones de varianza que se busca en el item 4.2 no se aplican para el escenario. Sin embargo, haré aún así algunas comprobaciones con el único atributo numérico y continuo que queda, simulando lo que se busca en el ítem."
   ]
  },
  {
   "cell_type": "code",
   "execution_count": 11,
   "metadata": {
    "scrolled": false
   },
   "outputs": [
    {
     "data": {
      "text/plain": [
       "\n",
       "\tShapiro-Wilk normality test\n",
       "\n",
       "data:  df$Pclass\n",
       "W = 0.71833, p-value < 2.2e-16\n"
      ]
     },
     "metadata": {},
     "output_type": "display_data"
    },
    {
     "data": {
      "text/html": [
       "3.39303101282384e-36"
      ],
      "text/latex": [
       "3.39303101282384e-36"
      ],
      "text/markdown": [
       "3.39303101282384e-36"
      ],
      "text/plain": [
       "[1] 3.393031e-36"
      ]
     },
     "metadata": {},
     "output_type": "display_data"
    }
   ],
   "source": [
    "\n",
    "# H0: la muestra (de tamaño n) sigue una distribución normal\n",
    "# Se rechaza H0 si p value < alfa - ejemplo: alfa = 0.05\n",
    "# Si se aplica Shapiro (en toda la muestra)\n",
    "\n",
    "ST_P <- shapiro.test(df$Pclass)\n",
    "ST_P\n",
    "\n",
    "pvalue_P <- ST_P[[2]]\n",
    "pvalue_P"
   ]
  },
  {
   "cell_type": "markdown",
   "metadata": {},
   "source": [
    "En el test de Shapiro-Wilk, cuando P r(D) ≥ α entonces se acepta la hipótesis nula, existe\n",
    "normalidad. El valor p del test de Shapiro ha dado para Pclass 3.39. Por tanto, no se rechaza la hipótesis nula de normalidad. Asumimos que la muestra sigue una distribución normal."
   ]
  },
  {
   "cell_type": "markdown",
   "metadata": {},
   "source": [
    "### 4.3. Aplicación de pruebas estadísticas para comparar los grupos de datos. En función de los datos y el objetivo del estudio, aplicar pruebas de contraste de hipótesis, correlaciones, regresiones, etc.<a name=\"data43\"></a>"
   ]
  },
  {
   "cell_type": "code",
   "execution_count": 22,
   "metadata": {},
   "outputs": [
    {
     "data": {
      "text/plain": [
       "     Pclass          Sex            Age     \n",
       " Min.   :1.000   female:255   Adult   :568  \n",
       " 1st Qu.:2.000   male  :458   Underage:145  \n",
       " Median :3.000                              \n",
       " Mean   :2.331                              \n",
       " 3rd Qu.:3.000                              \n",
       " Max.   :3.000                              "
      ]
     },
     "metadata": {},
     "output_type": "display_data"
    },
    {
     "data": {
      "text/plain": [
       "     Pclass          Sex            Age     \n",
       " Min.   :1.000   female: 59   Adult   :143  \n",
       " 1st Qu.:1.000   male  :119   Underage: 35  \n",
       " Median :3.000                              \n",
       " Mean   :2.219                              \n",
       " 3rd Qu.:3.000                              \n",
       " Max.   :3.000                              "
      ]
     },
     "metadata": {},
     "output_type": "display_data"
    },
    {
     "data": {
      "text/plain": [
       "\n",
       "Call:\n",
       "C5.0.default(x = xtrain, y = ytrain)\n",
       "\n",
       "\n",
       "C5.0 [Release 2.07 GPL Edition]  \tSat Dec 29 20:12:48 2018\n",
       "-------------------------------\n",
       "\n",
       "Class specified by attribute `outcome'\n",
       "\n",
       "Read 713 cases (4 attributes) from undefined.data\n",
       "\n",
       "Decision tree:\n",
       "\n",
       "Sex = female: Yes (255/67)\n",
       "Sex = male: No (458/82)\n",
       "\n",
       "\n",
       "Evaluation on training data (713 cases):\n",
       "\n",
       "\t    Decision Tree   \n",
       "\t  ----------------  \n",
       "\t  Size      Errors  \n",
       "\n",
       "\t     2  149(20.9%)   <<\n",
       "\n",
       "\n",
       "\t   (a)   (b)    <-classified as\n",
       "\t  ----  ----\n",
       "\t   376    67    (a): class No\n",
       "\t    82   188    (b): class Yes\n",
       "\n",
       "\n",
       "\tAttribute usage:\n",
       "\n",
       "\t100.00%\tSex\n",
       "\n",
       "\n",
       "Time: 0.0 secs\n"
      ]
     },
     "metadata": {},
     "output_type": "display_data"
    }
   ],
   "source": [
    "# Obtain train set (80%) and test set (20%)\n",
    "lines  <- nrow(df)\n",
    "\n",
    "ntrain <- round(lines * 0.8)      # number of training examples\n",
    "tindex <- sample(lines, ntrain)   # indices of training samples (random)\n",
    "xtrain <- df[tindex,2:5]          # data are in columns 2:6 - \"Pclass\", \"Sex\", \"Age\" (nombre va a ser eliminado abajo)\n",
    "xtest  <- df[-tindex,2:5]         # data are in columns 2:6 - \"Pclass\", \"Sex\", \"Age\" (nombre va a ser eliminado abajo)\n",
    "ytrain <- df[tindex,1]            # labels are in column 4 - \"SURVIVED\"\n",
    "ytest  <- df[-tindex,1]           # labels are in column 4 - \"SURVIVED\"\n",
    "\n",
    "xtrain$Name <- NULL\n",
    "xtest$Name <- NULL\n",
    "\n",
    "summary(xtrain)\n",
    "summary(xtest)\n",
    "\n",
    "model_titanic <- C50::C5.0(xtrain, ytrain)\n",
    "summary(model_titanic)"
   ]
  },
  {
   "cell_type": "markdown",
   "metadata": {},
   "source": [
    "## 5. Representación de los resultados a partir de tablas y gráficas<a name=\"data5\"></a>"
   ]
  },
  {
   "cell_type": "code",
   "execution_count": 26,
   "metadata": {},
   "outputs": [
    {
     "name": "stdout",
     "output_type": "stream",
     "text": [
      "[1] \"La accuracy del modelo es:  0.769662921348315\"\n",
      "[1] \"El error del modelo es:  0.230337078651685\"\n"
     ]
    },
    {
     "data": {
      "text/plain": [
       "\n",
       "Call:\n",
       "C5.0.formula(formula = ytrain ~ ., data = xtrain, rules = TRUE)\n",
       "\n",
       "\n",
       "C5.0 [Release 2.07 GPL Edition]  \tSat Dec 29 20:17:55 2018\n",
       "-------------------------------\n",
       "\n",
       "Class specified by attribute `outcome'\n",
       "\n",
       "Read 713 cases (4 attributes) from undefined.data\n",
       "\n",
       "Rules:\n",
       "\n",
       "Rule 1: (458/82, lift 1.3)\n",
       "\tSex = male\n",
       "\t->  class No  [0.820]\n",
       "\n",
       "Rule 2: (255/67, lift 1.9)\n",
       "\tSex = female\n",
       "\t->  class Yes  [0.735]\n",
       "\n",
       "Default class: No\n",
       "\n",
       "\n",
       "Evaluation on training data (713 cases):\n",
       "\n",
       "\t        Rules     \n",
       "\t  ----------------\n",
       "\t    No      Errors\n",
       "\n",
       "\t     2  149(20.9%)   <<\n",
       "\n",
       "\n",
       "\t   (a)   (b)    <-classified as\n",
       "\t  ----  ----\n",
       "\t   376    67    (a): class No\n",
       "\t    82   188    (b): class Yes\n",
       "\n",
       "\n",
       "\tAttribute usage:\n",
       "\n",
       "\t100.00%\tSex\n",
       "\n",
       "\n",
       "Time: 0.0 secs\n"
      ]
     },
     "metadata": {},
     "output_type": "display_data"
    },
    {
     "name": "stdout",
     "output_type": "stream",
     "text": [
      "id=\"See5/C5.0 2.07 GPL Edition 2018-12-29\"\n",
      "entries=\"1\"\n",
      "rules=\"2\" default=\"No\"\n",
      "conds=\"1\" cover=\"458\" ok=\"376\" lift=\"1.31907\" class=\"No\"\n",
      "type=\"1\" att=\"Sex\" val=\"male\"\n",
      "conds=\"1\" cover=\"255\" ok=\"188\" lift=\"1.94202\" class=\"Yes\"\n",
      "type=\"1\" att=\"Sex\" val=\"female\"\n"
     ]
    },
    {
     "data": {
      "image/png": "[encoded data removed]",
      "text/plain": [
       "plot without title"
      ]
     },
     "metadata": {},
     "output_type": "display_data"
    }
   ],
   "source": [
    "# MOSTRAR EL ARBOL OBTENIDO\n",
    "plot(model_titanic)\n",
    "\n",
    "estimated_ytest <- predict(model_titanic, xtest, type=\"class\")\n",
    "accuracy <- sum(ytest==estimated_ytest)/length(ytest)\n",
    "error <- 1- accuracy\n",
    "print(paste(\"La accuracy del modelo es: \", accuracy))\n",
    "print(paste(\"El error del modelo es: \", error))\n",
    "\n",
    "# Mirando las reglas del modelo\n",
    "mod <- C50::C5.0(ytrain ~ ., data = xtrain, rules = TRUE)\n",
    "summary(mod)\n",
    "cat(mod$rules)"
   ]
  },
  {
   "cell_type": "markdown",
   "metadata": {},
   "source": [
    "## 6. Resolución del problema. A partir de los resultados obtenidos, ¿cuáles son las conclusiones? ¿Los resultados permiten responder al problema?<a name=\"data6\"></a>\n"
   ]
  },
  {
   "cell_type": "markdown",
   "metadata": {},
   "source": [
    "Analizando nuestro gráfico de árbol, queda claro que independientemente de la clase del pasajero, si su sexo fuera \"**Hombre**\", su capacidad de sobrevivir era  más pequeña que de una mujer (probabilidad de los hombres como un todo alrededor de 20%).\n",
    "\n",
    "Es importante resaltar que al elegir las variables, la variable **AGE** y **PClass** han sido pasadas como parámetro y posiblemente el paquete C50 ha procedido con un algoritmo de poda, porque siquiera las encontramos entre las variables y las reglas."
   ]
  },
  {
   "cell_type": "markdown",
   "metadata": {},
   "source": [
    "## 7. Código<a name=\"data7\"></a>"
   ]
  },
  {
   "cell_type": "markdown",
   "metadata": {},
   "source": [
    "Como he optado por hacer directamente en un Jupyter notebook, todos las partes del código estan presentes en este documento, sin embargo, en el repositorio de Github también es posible encontrar todos los archivos utilizados durante la práctica."
   ]
  },
  {
   "cell_type": "markdown",
   "metadata": {},
   "source": [
    "## Referencias\n",
    "\n",
    "**[1] Stanczyk, U.; Jain, L. C. (2014)**. *Feature Selection for Data and Pattern Recognition*. Springer.\n"
   ]
  },
  {
   "cell_type": "markdown",
   "metadata": {},
   "source": []
  }
 ],
 "metadata": {
  "kernelspec": {
   "display_name": "R",
   "language": "R",
   "name": "ir"
  },
  "language_info": {
   "codemirror_mode": "r",
   "file_extension": ".r",
   "mimetype": "text/x-r-source",
   "name": "R",
   "pygments_lexer": "r",
   "version": "3.4.4"
  }
 },
 "nbformat": 4,
 "nbformat_minor": 2
}
